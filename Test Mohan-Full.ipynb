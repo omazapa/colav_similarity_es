{
 "cells": [
  {
   "cell_type": "code",
   "execution_count": 1,
   "id": "18f96b9d-566c-47f1-a2a4-bf26a5205c4f",
   "metadata": {},
   "outputs": [],
   "source": [
    "from mohan.Similarity import Similarity\n",
    "#from mohan.ColavSimilarity import parse_doi, parse_string\n",
    "from joblib import Parallel, delayed\n",
    "import pickle\n",
    "import numpy as np\n",
    "#from mohan.ColavSimilarity import ColavSimilarity, parse_doi, parse_string\n",
    "from elasticsearch import Elasticsearch, __version__ as es_version\n",
    "from sklearn import metrics\n",
    "import matplotlib.pyplot as plt"
   ]
  },
  {
   "cell_type": "code",
   "execution_count": 2,
   "id": "d9119c5e-1f2d-462b-9f67-8115c6493fbc",
   "metadata": {},
   "outputs": [],
   "source": [
    "s = Similarity(\"openalex_parsed\",es_uri=\"172.19.31.8\")"
   ]
  },
  {
   "cell_type": "code",
   "execution_count": 3,
   "id": "a4656340-57ac-47e9-8f96-4d95df289871",
   "metadata": {},
   "outputs": [],
   "source": [
    "# open a file, where you stored the pickled data\n",
    "file = open('dataset_full.pkl', 'rb')\n",
    "# dump information to that file\n",
    "data = pickle.load(file)\n",
    "# close the file\n",
    "file.close()"
   ]
  },
  {
   "cell_type": "code",
   "execution_count": null,
   "id": "569f887c-7197-40f3-8f17-e07452463357",
   "metadata": {},
   "outputs": [],
   "source": []
  },
  {
   "cell_type": "code",
   "execution_count": 4,
   "id": "beee123d-184c-4ab8-95fa-a639b144e5d6",
   "metadata": {},
   "outputs": [
    {
     "name": "stderr",
     "output_type": "stream",
     "text": [
      "[Parallel(n_jobs=72)]: Using backend ThreadingBackend with 72 concurrent workers.\n",
      "[Parallel(n_jobs=72)]: Done  56 tasks      | elapsed:    0.3s\n",
      "[Parallel(n_jobs=72)]: Done 306 tasks      | elapsed:    1.1s\n",
      "[Parallel(n_jobs=72)]: Done 656 tasks      | elapsed:    2.2s\n",
      "[Parallel(n_jobs=72)]: Done 1106 tasks      | elapsed:    4.3s\n",
      "[Parallel(n_jobs=72)]: Done 1656 tasks      | elapsed:    6.0s\n",
      "[Parallel(n_jobs=72)]: Done 2306 tasks      | elapsed:    8.5s\n",
      "[Parallel(n_jobs=72)]: Done 3056 tasks      | elapsed:   11.4s\n",
      "[Parallel(n_jobs=72)]: Done 3906 tasks      | elapsed:   14.5s\n",
      "[Parallel(n_jobs=72)]: Done 4856 tasks      | elapsed:   18.0s\n",
      "[Parallel(n_jobs=72)]: Done 5906 tasks      | elapsed:   21.9s\n",
      "[Parallel(n_jobs=72)]: Done 7056 tasks      | elapsed:   26.3s\n",
      "[Parallel(n_jobs=72)]: Done 8306 tasks      | elapsed:   30.9s\n",
      "[Parallel(n_jobs=72)]: Done 9656 tasks      | elapsed:   36.1s\n",
      "[Parallel(n_jobs=72)]: Done 11106 tasks      | elapsed:   41.6s\n",
      "[Parallel(n_jobs=72)]: Done 12656 tasks      | elapsed:   47.4s\n",
      "[Parallel(n_jobs=72)]: Done 14306 tasks      | elapsed:   53.7s\n",
      "[Parallel(n_jobs=72)]: Done 16056 tasks      | elapsed:  1.0min\n",
      "[Parallel(n_jobs=72)]: Done 17906 tasks      | elapsed:  1.1min\n",
      "[Parallel(n_jobs=72)]: Done 19856 tasks      | elapsed:  1.2min\n",
      "[Parallel(n_jobs=72)]: Done 21906 tasks      | elapsed:  1.4min\n",
      "[Parallel(n_jobs=72)]: Done 24056 tasks      | elapsed:  1.5min\n",
      "[Parallel(n_jobs=72)]: Done 26306 tasks      | elapsed:  1.7min\n",
      "[Parallel(n_jobs=72)]: Done 28656 tasks      | elapsed:  1.8min\n",
      "[Parallel(n_jobs=72)]: Done 31106 tasks      | elapsed:  2.0min\n",
      "[Parallel(n_jobs=72)]: Done 33656 tasks      | elapsed:  2.2min\n",
      "[Parallel(n_jobs=72)]: Done 36306 tasks      | elapsed:  2.3min\n",
      "[Parallel(n_jobs=72)]: Done 39056 tasks      | elapsed:  2.5min\n",
      "[Parallel(n_jobs=72)]: Done 41906 tasks      | elapsed:  2.7min\n",
      "[Parallel(n_jobs=72)]: Done 44856 tasks      | elapsed:  2.9min\n",
      "[Parallel(n_jobs=72)]: Done 47906 tasks      | elapsed:  3.1min\n",
      "[Parallel(n_jobs=72)]: Done 51056 tasks      | elapsed:  3.3min\n",
      "[Parallel(n_jobs=72)]: Done 54306 tasks      | elapsed:  3.5min\n",
      "[Parallel(n_jobs=72)]: Done 57656 tasks      | elapsed:  3.7min\n",
      "[Parallel(n_jobs=72)]: Done 61106 tasks      | elapsed:  4.0min\n",
      "[Parallel(n_jobs=72)]: Done 64656 tasks      | elapsed:  4.2min\n",
      "[Parallel(n_jobs=72)]: Done 68306 tasks      | elapsed:  4.4min\n",
      "[Parallel(n_jobs=72)]: Done 72056 tasks      | elapsed:  4.7min\n",
      "[Parallel(n_jobs=72)]: Done 75906 tasks      | elapsed:  5.0min\n",
      "[Parallel(n_jobs=72)]: Done 79856 tasks      | elapsed:  5.2min\n",
      "[Parallel(n_jobs=72)]: Done 83906 tasks      | elapsed:  5.5min\n",
      "[Parallel(n_jobs=72)]: Done 88056 tasks      | elapsed:  5.8min\n",
      "[Parallel(n_jobs=72)]: Done 92306 tasks      | elapsed:  6.0min\n",
      "[Parallel(n_jobs=72)]: Done 96656 tasks      | elapsed:  6.3min\n",
      "[Parallel(n_jobs=72)]: Done 101106 tasks      | elapsed:  6.6min\n",
      "[Parallel(n_jobs=72)]: Done 105656 tasks      | elapsed:  6.9min\n",
      "[Parallel(n_jobs=72)]: Done 110306 tasks      | elapsed:  7.2min\n",
      "[Parallel(n_jobs=72)]: Done 115056 tasks      | elapsed:  7.5min\n",
      "[Parallel(n_jobs=72)]: Done 119906 tasks      | elapsed:  7.9min\n",
      "[Parallel(n_jobs=72)]: Done 124856 tasks      | elapsed:  8.2min\n",
      "[Parallel(n_jobs=72)]: Done 129906 tasks      | elapsed:  8.5min\n",
      "[Parallel(n_jobs=72)]: Done 135056 tasks      | elapsed:  8.8min\n",
      "[Parallel(n_jobs=72)]: Done 140306 tasks      | elapsed:  9.2min\n",
      "[Parallel(n_jobs=72)]: Done 143369 out of 143369 | elapsed:  9.4min finished\n"
     ]
    }
   ],
   "source": [
    "\n",
    "scopus = []\n",
    "#np.random.shuffle(data[\"p\"])\n",
    "#np.random.shuffle(data[\"n\"])\n",
    "for i in data[\"p\"]:\n",
    "    scopus.append((i,True))\n",
    "for i in data[\"n\"]:\n",
    "    scopus.append((i,False))\n",
    "np.random.shuffle(scopus) #shuffle is inplace\n",
    "results = Parallel(n_jobs=72,backend='threading',verbose=1)(delayed(s.search_work)(rec[0]['Title'],rec[0]['Source title'],rec[0]['Year'],\n",
    "                 rec[0]['Authors'].split(\",\")[0:10], rec[0]['Volume'], rec[0]['Issue'], rec[0]['Page start'], rec[0]['Page end']) for rec in scopus)\n",
    "                     #use_es_thold = False, es_thold_low = 0, es_thold_high = 180,#) for rec in scopus)\n",
    "                     #ratio_thold = 90, partial_thold = 92, low_thold = 81) for rec in scopus)\n"
   ]
  },
  {
   "cell_type": "code",
   "execution_count": 5,
   "id": "ecdc9750-debc-4d60-bb0d-8aa8ac13790c",
   "metadata": {},
   "outputs": [],
   "source": [
    "actual = []\n",
    "predicted = []\n",
    "for i in range(len(results)):\n",
    "    actual.append(scopus[i][1])\n",
    "    if results[i] is not None:\n",
    "        predicted.append(True)\n",
    "    else:\n",
    "        predicted.append(False)\n"
   ]
  },
  {
   "cell_type": "code",
   "execution_count": 6,
   "id": "20b1eb63-f619-40de-93f7-e8c377fc6cd9",
   "metadata": {},
   "outputs": [
    {
     "data": {
      "image/png": "[encoded data removed]",
      "text/plain": [
       "<Figure size 640x480 with 2 Axes>"
      ]
     },
     "metadata": {},
     "output_type": "display_data"
    }
   ],
   "source": [
    "confusion_matrix = metrics.confusion_matrix(actual, predicted)\n",
    "confusion_matrix = np.flip(confusion_matrix)\n",
    "cm_display = metrics.ConfusionMatrixDisplay(confusion_matrix = confusion_matrix, display_labels = [True, False])\n",
    "\n",
    "cm_display.plot()\n",
    "plt.show()"
   ]
  },
  {
   "cell_type": "code",
   "execution_count": 7,
   "id": "89319b35-bd0e-40ef-b59d-dc62f45c378e",
   "metadata": {},
   "outputs": [
    {
     "data": {
      "text/plain": [
       "0.6190246922071669"
      ]
     },
     "execution_count": 7,
     "metadata": {},
     "output_type": "execute_result"
    }
   ],
   "source": [
    "fn = confusion_matrix[0][1]*100/(confusion_matrix[0][0]+confusion_matrix[0][1])\n",
    "fn"
   ]
  },
  {
   "cell_type": "code",
   "execution_count": 8,
   "id": "7091d9cd-7e91-4b84-b8ad-eddce22641ac",
   "metadata": {},
   "outputs": [
    {
     "data": {
      "text/plain": [
       "7.342052120396192"
      ]
     },
     "execution_count": 8,
     "metadata": {},
     "output_type": "execute_result"
    }
   ],
   "source": [
    "fp = confusion_matrix[1][0]*100/(confusion_matrix[1][1]+confusion_matrix[1][0])\n",
    "fp"
   ]
  },
  {
   "cell_type": "code",
   "execution_count": null,
   "id": "8f798201-e0cc-4a18-b53d-996b185f33eb",
   "metadata": {},
   "outputs": [],
   "source": []
  }
 ],
 "metadata": {
  "kernelspec": {
   "display_name": "Python 3 (ipykernel)",
   "language": "python",
   "name": "python3"
  },
  "language_info": {
   "codemirror_mode": {
    "name": "ipython",
    "version": 3
   },
   "file_extension": ".py",
   "mimetype": "text/x-python",
   "name": "python",
   "nbconvert_exporter": "python",
   "pygments_lexer": "ipython3",
   "version": "3.9.2"
  }
 },
 "nbformat": 4,
 "nbformat_minor": 5
}
