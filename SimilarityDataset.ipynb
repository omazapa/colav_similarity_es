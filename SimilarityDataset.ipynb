{
 "cells": [
  {
   "cell_type": "code",
   "execution_count": 1,
   "id": "397a29b6-8983-4871-9831-3cd6ba0b1d10",
   "metadata": {},
   "outputs": [],
   "source": [
    "from pymongo import MongoClient\n",
    "from elasticsearch import Elasticsearch, helpers\n",
    "import requests\n",
    "from IPython.display import JSON\n",
    "import numpy as np\n",
    "from fuzzywuzzy import fuzz\n",
    "from joblib import Parallel, delayed\n",
    "import pickle\n",
    "from IPython.display import clear_output, display"
   ]
  },
  {
   "cell_type": "code",
   "execution_count": 2,
   "id": "cdb66740-830e-4db3-8027-f62fac152ce5",
   "metadata": {},
   "outputs": [],
   "source": [
    "scopus = list(MongoClient()[\"scopus_colombia\"][\"stage\"].find({'DOI': {\"$ne\": np.nan}},{\"_id\":0,'Title':1,'Year':1, 'Source title':1,'Authors':1,\"DOI\":1}))\n",
    "openalex = list(MongoClient()[\"openalexco\"][\"works\"].find({'doi': {\"$ne\": None}},{\"_id\":0,\"doi\":1,\"title\":1,\"publication_year\":1,\n",
    "                                                              \"host_venue.display_name\":1,\n",
    "                                                             \"authorships.author.display_name\":1}))"
   ]
  },
  {
   "cell_type": "code",
   "execution_count": 3,
   "id": "c943464b-fb22-459d-914c-282f16cf10ae",
   "metadata": {},
   "outputs": [
    {
     "data": {
      "application/json": {
       "authorships": [
        {
         "author": {
          "display_name": "Michel Justamand"
         }
        },
        {
         "author": {
          "display_name": "Pedro Paulo A. Funari"
         }
        },
        {
         "author": {
          "display_name": "Andres Alarcon-Jimenez"
         }
        }
       ],
       "doi": "https://doi.org/10.1000/riec.v1i1.1",
       "host_venue": {
        "display_name": "Revista Interdisciplinar Encontro das Ciências - RIEC | ISSN: 2595-0959 |"
       },
       "publication_year": 2018,
       "title": "ARQUEOLOGIA, TURISMO E HISTÓRIA E O PARQUE NACIONAL SERRA DA CAPIVARA – PNSC/PI"
      },
      "text/plain": [
       "<IPython.core.display.JSON object>"
      ]
     },
     "execution_count": 3,
     "metadata": {
      "application/json": {
       "expanded": false,
       "root": "root"
      }
     },
     "output_type": "execute_result"
    }
   ],
   "source": [
    "JSON(openalex[0])"
   ]
  },
  {
   "cell_type": "code",
   "execution_count": 4,
   "id": "af1b0dd4-6910-4891-9af4-fb40629babcb",
   "metadata": {},
   "outputs": [
    {
     "data": {
      "text/plain": [
       "203863"
      ]
     },
     "execution_count": 4,
     "metadata": {},
     "output_type": "execute_result"
    }
   ],
   "source": [
    "len(openalex)"
   ]
  },
  {
   "cell_type": "code",
   "execution_count": 5,
   "id": "21db4847-51f8-4890-9d7f-e4868d2be372",
   "metadata": {},
   "outputs": [],
   "source": [
    "#[i[\"doi\"] for i in openalex]"
   ]
  },
  {
   "cell_type": "code",
   "execution_count": 6,
   "id": "a455bf04-4f67-4abd-b91d-3f882723cf95",
   "metadata": {},
   "outputs": [
    {
     "name": "stdout",
     "output_type": "stream",
     "text": [
      "5000\n",
      "CPU times: user 6min 34s, sys: 345 ms, total: 6min 34s\n",
      "Wall time: 6min 34s\n"
     ]
    }
   ],
   "source": [
    "%%time\n",
    "p = []\n",
    "n = []\n",
    "counter = 0\n",
    "size=5000\n",
    "p_dois = []\n",
    "#positives\n",
    "for i in scopus:\n",
    "    \n",
    "    for j in openalex:\n",
    "        if i[\"DOI\"] ==  j['doi'].replace(\"https://doi.org/\",\"\"):\n",
    "            p.append((i,j))\n",
    "            p_dois.append(j['doi'].replace(\"https://doi.org/\",\"\"))\n",
    "            counter+=1\n",
    "            if counter%10 == 0:\n",
    "                clear_output(wait=True)\n",
    "                print(counter)\n",
    "            continue\n",
    "            \n",
    "        if len(p) == size:\n",
    "             break\n",
    "    if len(p) == size:\n",
    "         break"
   ]
  },
  {
   "cell_type": "code",
   "execution_count": 7,
   "id": "0e8c542f-48c6-4b57-93ad-0381f545eff7",
   "metadata": {},
   "outputs": [
    {
     "name": "stdout",
     "output_type": "stream",
     "text": [
      "5000\n",
      "CPU times: user 327 ms, sys: 0 ns, total: 327 ms\n",
      "Wall time: 327 ms\n"
     ]
    }
   ],
   "source": [
    "%%time\n",
    "#negatives\n",
    "n=[]\n",
    "counter=0\n",
    "n_dois = []\n",
    "for i in scopus:\n",
    "    for j in openalex:\n",
    "        if i[\"DOI\"] != j['doi'].replace(\"https://doi.org/\",\"\"):\n",
    "            if i[\"DOI\"] not in p_dois and j['doi'].replace(\"https://doi.org/\",\"\") not in p_dois:\n",
    "                n.append((i,j))\n",
    "                counter+=1\n",
    "                if counter == size:\n",
    "                    print(counter)\n",
    "                    break\n",
    "            if counter == size:\n",
    "                break\n",
    "            continue\n",
    "    if counter == size:\n",
    "        break\n"
   ]
  },
  {
   "cell_type": "code",
   "execution_count": null,
   "id": "0ff798e7-c33b-4adf-b024-50898e37e486",
   "metadata": {},
   "outputs": [],
   "source": [
    "\n"
   ]
  },
  {
   "cell_type": "code",
   "execution_count": 8,
   "id": "f6ee3925-c66c-4349-bf1e-c007d28c6fad",
   "metadata": {},
   "outputs": [
    {
     "data": {
      "text/plain": [
       "5000"
      ]
     },
     "execution_count": 8,
     "metadata": {},
     "output_type": "execute_result"
    }
   ],
   "source": [
    "len(p)"
   ]
  },
  {
   "cell_type": "code",
   "execution_count": 9,
   "id": "3567565f-36b5-4608-aaf4-02511d58d269",
   "metadata": {},
   "outputs": [
    {
     "data": {
      "text/plain": [
       "5000"
      ]
     },
     "execution_count": 9,
     "metadata": {},
     "output_type": "execute_result"
    }
   ],
   "source": [
    "len(n)"
   ]
  },
  {
   "cell_type": "code",
   "execution_count": 10,
   "id": "594ac996-2411-4d3d-970b-574021b0b64b",
   "metadata": {},
   "outputs": [
    {
     "data": {
      "text/plain": [
       "({'Authors': 'Jaramillo-Ayerbe F., Berrío-Muñoz J.',\n",
       "  'Title': 'Ivermectin for crusted Norwegian scabies induced by use of topical steroids',\n",
       "  'Year': 1998,\n",
       "  'Source title': 'Archives of Dermatology',\n",
       "  'DOI': '10.1001/archderm.134.2.143'},\n",
       " {'doi': 'https://doi.org/10.1001/archderm.134.2.143',\n",
       "  'title': 'Ivermectin for Crusted Norwegian Scabies Induced by Use of Topical Steroids',\n",
       "  'publication_year': 1998,\n",
       "  'host_venue': {'display_name': 'Archives of Dermatology'},\n",
       "  'authorships': [{'author': {'display_name': 'Felipe Jaramillo-Ayerbe'}},\n",
       "   {'author': {'display_name': 'Joaquín Berrío-Muñoz'}}]})"
      ]
     },
     "execution_count": 10,
     "metadata": {},
     "output_type": "execute_result"
    }
   ],
   "source": [
    "p[0]"
   ]
  },
  {
   "cell_type": "code",
   "execution_count": 11,
   "id": "655d1d8e-8108-4584-b6d8-86435f298a07",
   "metadata": {},
   "outputs": [
    {
     "data": {
      "text/plain": [
       "({'Authors': 'Flórez G.A.D., Mombello E.E., Voss S.',\n",
       "  'Title': 'Novel technique for the calculation of eddy current losses and Lorentz forces in foil winding transformers',\n",
       "  'Year': 2017,\n",
       "  'Source title': 'International Journal of Applied Electromagnetics and Mechanics',\n",
       "  'DOI': '10..3233/JAE-160144'},\n",
       " {'doi': 'https://doi.org/10.1000/riec.v1i1.1',\n",
       "  'title': 'ARQUEOLOGIA, TURISMO E HISTÓRIA E O PARQUE NACIONAL SERRA DA CAPIVARA – PNSC/PI',\n",
       "  'publication_year': 2018,\n",
       "  'host_venue': {'display_name': 'Revista Interdisciplinar Encontro das Ciências - RIEC | ISSN: 2595-0959 |'},\n",
       "  'authorships': [{'author': {'display_name': 'Michel Justamand'}},\n",
       "   {'author': {'display_name': 'Pedro Paulo A. Funari'}},\n",
       "   {'author': {'display_name': 'Andres Alarcon-Jimenez'}}]})"
      ]
     },
     "execution_count": 11,
     "metadata": {},
     "output_type": "execute_result"
    }
   ],
   "source": [
    "n[0]"
   ]
  },
  {
   "cell_type": "code",
   "execution_count": 12,
   "id": "56e20ddf-e6d9-4a61-a2c4-4e5f5b7d0359",
   "metadata": {},
   "outputs": [],
   "source": [
    "with open('dataset.pkl', 'wb') as f:\n",
    "    pickle.dump({\"p\":p,\"n\":n}, f)"
   ]
  },
  {
   "cell_type": "code",
   "execution_count": null,
   "id": "445ddcb7-74ad-4bbd-81d6-08ce2e9abead",
   "metadata": {},
   "outputs": [],
   "source": []
  }
 ],
 "metadata": {
  "kernelspec": {
   "display_name": "Python 3 (ipykernel)",
   "language": "python",
   "name": "python3"
  },
  "language_info": {
   "codemirror_mode": {
    "name": "ipython",
    "version": 3
   },
   "file_extension": ".py",
   "mimetype": "text/x-python",
   "name": "python",
   "nbconvert_exporter": "python",
   "pygments_lexer": "ipython3",
   "version": "3.11.4"
  }
 },
 "nbformat": 4,
 "nbformat_minor": 5
}
