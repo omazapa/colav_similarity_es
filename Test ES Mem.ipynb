{
 "cells": [
  {
   "cell_type": "code",
   "execution_count": 1,
   "id": "5946cbf4-2f95-4963-ba35-d4e430466a08",
   "metadata": {},
   "outputs": [],
   "source": [
    "from pymongo import MongoClient\n",
    "from elasticsearch import Elasticsearch, helpers\n",
    "import requests\n",
    "from IPython.display import JSON\n",
    "import numpy as np\n",
    "from fuzzywuzzy import fuzz\n",
    "from joblib import Parallel, delayed\n",
    "import pickle\n",
    "from IPython.display import clear_output, display\n",
    "from colavsim import colav_similarity, parse_doi, parse_string"
   ]
  },
  {
   "cell_type": "code",
   "execution_count": null,
   "id": "4ae6768e-e293-47c9-80b8-a10334d3f0d9",
   "metadata": {},
   "outputs": [],
   "source": []
  },
  {
   "cell_type": "code",
   "execution_count": 11,
   "id": "a4f0a557-ceaf-471e-9258-a9663e8a6fbd",
   "metadata": {},
   "outputs": [],
   "source": [
    "es = Elasticsearch(hosts=\"172.19.31.8\")"
   ]
  },
  {
   "cell_type": "code",
   "execution_count": 13,
   "id": "c8c72965-ebf8-41c5-a7da-d16ab578a248",
   "metadata": {},
   "outputs": [],
   "source": [
    "openalex = list(MongoClient()[\"openalexco\"][\"works\"].find({'doi': {\"$ne\": None}}))"
   ]
  },
  {
   "cell_type": "code",
   "execution_count": 14,
   "id": "f4965b84-4ec9-458a-86ea-1fe6114348a5",
   "metadata": {},
   "outputs": [
    {
     "data": {
      "text/plain": [
       "203863"
      ]
     },
     "execution_count": 14,
     "metadata": {},
     "output_type": "execute_result"
    }
   ],
   "source": [
    "len(openalex)"
   ]
  },
  {
   "cell_type": "code",
   "execution_count": 19,
   "id": "9cc2f39d-eeed-439e-aacc-03dc2413a021",
   "metadata": {},
   "outputs": [
    {
     "data": {
      "text/plain": [
       "{'_id': ObjectId('637cfba3244b9f9d0fe1695b'),\n",
       " 'id': 'https://openalex.org/W2805863727',\n",
       " 'doi': 'https://doi.org/10.1000/riec.v1i1.1',\n",
       " 'title': 'arqueologia, turismo e historia e o parque nacional serra da capivara - pnsc/pi',\n",
       " 'display_name': 'ARQUEOLOGIA, TURISMO E HISTÓRIA E O PARQUE NACIONAL SERRA DA CAPIVARA – PNSC/PI',\n",
       " 'publication_year': 2018,\n",
       " 'publication_date': '2018-02-06',\n",
       " 'ids': {'openalex': 'https://openalex.org/W2805863727',\n",
       "  'doi': 'https://doi.org/10.1000/riec.v1i1.1',\n",
       "  'mag': '2805863727'},\n",
       " 'host_venue': {'id': None,\n",
       "  'issn_l': None,\n",
       "  'issn': None,\n",
       "  'display_name': 'Revista Interdisciplinar Encontro das Ciências - RIEC | ISSN: 2595-0959 |',\n",
       "  'publisher': None,\n",
       "  'type': None,\n",
       "  'url': 'http://riec.fvs.edu.br/index.php/riec/article/view/1',\n",
       "  'is_oa': None,\n",
       "  'version': None,\n",
       "  'license': None},\n",
       " 'type': None,\n",
       " 'open_access': {'is_oa': True, 'oa_status': None, 'oa_url': None},\n",
       " 'authorships': [{'author_position': 'first',\n",
       "   'author': {'id': 'https://openalex.org/A2588682537',\n",
       "    'display_name': 'Michel Justamand',\n",
       "    'orcid': 'https://orcid.org/0000-0001-6944-5890'},\n",
       "   'institutions': [{'id': 'https://openalex.org/I62885914',\n",
       "     'display_name': 'Federal University of Amazonas',\n",
       "     'ror': 'https://ror.org/02263ky35',\n",
       "     'country_code': 'BR',\n",
       "     'type': 'education'}],\n",
       "   'raw_affiliation_string': 'Docente do Curso de Antropologia da Universidade Federal do Amazonas – UFAM, lotado no Instituto de Natureza e Cultura – INC, de Benjamin Constant.'},\n",
       "  {'author_position': 'middle',\n",
       "   'author': {'id': 'https://openalex.org/A1173931477',\n",
       "    'display_name': 'Pedro Paulo A. Funari',\n",
       "    'orcid': 'https://orcid.org/0000-0003-0183-7622'},\n",
       "   'institutions': [{'id': 'https://openalex.org/I181391015',\n",
       "     'display_name': 'State University of Campinas',\n",
       "     'ror': 'https://ror.org/04wffgt70',\n",
       "     'country_code': 'BR',\n",
       "     'type': 'education'}],\n",
       "   'raw_affiliation_string': 'História da Universidade Estadual de Campinas – UNICAMP'},\n",
       "  {'author_position': 'last',\n",
       "   'author': {'id': 'https://openalex.org/A2145175543',\n",
       "    'display_name': 'Andres Alarcon-Jimenez',\n",
       "    'orcid': None},\n",
       "   'institutions': [{'id': 'https://openalex.org/I189460059',\n",
       "     'display_name': 'El Bosque University',\n",
       "     'ror': 'https://ror.org/04m9gzq43',\n",
       "     'country_code': 'CO',\n",
       "     'type': 'education'}],\n",
       "   'raw_affiliation_string': 'Universidad El Bosque-'}],\n",
       " 'cited_by_count': 0,\n",
       " 'biblio': {'volume': '1', 'issue': '1', 'first_page': '1', 'last_page': '15'},\n",
       " 'is_retracted': False,\n",
       " 'is_paratext': None,\n",
       " 'concepts': [{'id': 'https://openalex.org/C205649164',\n",
       "   'wikidata': 'https://www.wikidata.org/wiki/Q1071',\n",
       "   'display_name': 'Geography',\n",
       "   'level': 0,\n",
       "   'score': '0.487553'},\n",
       "  {'id': 'https://openalex.org/C15708023',\n",
       "   'wikidata': 'https://www.wikidata.org/wiki/Q80083',\n",
       "   'display_name': 'Humanities',\n",
       "   'level': 1,\n",
       "   'score': '0.355929'}],\n",
       " 'mesh': [],\n",
       " 'alternate_host_venues': [],\n",
       " 'referenced_works': [],\n",
       " 'related_works': [],\n",
       " 'cited_by_api_url': 'https://api.openalex.org/works?filter=cites:W2805863727',\n",
       " 'counts_by_year': [],\n",
       " 'updated_date': '2021-11-04',\n",
       " 'created_date': '2018-06-13'}"
      ]
     },
     "execution_count": 19,
     "metadata": {},
     "output_type": "execute_result"
    }
   ],
   "source": [
    "openalex[0]"
   ]
  },
  {
   "cell_type": "code",
   "execution_count": 15,
   "id": "5ca0269f-806d-4b94-b088-cc1ff6add2d4",
   "metadata": {},
   "outputs": [],
   "source": [
    "es_index = \"openalex_raw\"\n",
    "recreate = True\n",
    "if recreate:\n",
    "    if es.indices.exists(index=es_index):\n",
    "        es.indices.delete(index=es_index)\n",
    "if not es.indices.exists(index=es_index):\n",
    "    es.indices.create(index=es_index)\n",
    "if recreate:\n",
    "    request_timeout = 60\n",
    "    bulk_size = 100\n",
    "\n",
    "    es_entries = []\n",
    "    counter = 0\n",
    "    for i in openalex:\n",
    "        work = {}\n",
    "        work[\"title\"] = i[\"title\"]\n",
    "        work[\"authors\"] = \"\"\n",
    "        for j in i[\"authorships\"]:\n",
    "            if \"display_name\" in j[\"author\"].keys(): \n",
    "                if j[\"author\"][\"display_name\"] is not None:\n",
    "                    work[\"authors\"] += \" \" + j[\"author\"][\"display_name\"]\n",
    "        work[\"source\"] = i[\"host_venue\"][\"display_name\"]\n",
    "        work[\"year\"] = i[\"publication_year\"]\n",
    "        work[\"volume\"] = i[\"biblio\"][\"volume\"] \n",
    "        work[\"issue\"] = i[\"biblio\"][\"issue\"] \n",
    "        work[\"first_page\"] = i[\"biblio\"][\"first_page\"]\n",
    "        work[\"last_page\"] = i[\"biblio\"][\"last_page\"]\n",
    "        work[\"doi\"] = i[\"doi\"] \n",
    "    \n",
    "        entry = {\"_index\": es_index,\n",
    "                 \"_id\": str(i[\"_id\"]),\n",
    "                 \"_source\": work}\n",
    "        es_entries.append(entry)\n",
    "        if len(es_entries) == bulk_size:\n",
    "            helpers.bulk(es, es_entries, refresh=True,request_timeout=request_timeout)\n",
    "            es_entries = []\n",
    "        counter +=1"
   ]
  },
  {
   "cell_type": "code",
   "execution_count": 8,
   "id": "525dba87-97da-4d54-8c63-3bebfa7a4fd0",
   "metadata": {},
   "outputs": [],
   "source": [
    "# settings = {\n",
    "#   \"settings\": {\n",
    "#     \"index\": {\n",
    "#       \"similarity\": {\n",
    "#         \"default\": {\n",
    "#           \"type\": \"DFR\",\n",
    "#           \"basic_model\": \"g\",\n",
    "#           \"after_effect\": \"b\",\n",
    "#           \"normalization\": \"h2\",\n",
    "#           \"normalization.h2.c\": \"600.0\"  # Cambia el valor según tus necesidades\n",
    "#         }\n",
    "#       }\n",
    "#     }\n",
    "#   }\n",
    "# }\n",
    "settings = {\n",
    "  \"settings\": {\n",
    "    \"index\": {\n",
    "      \"similarity\": {\n",
    "        \"default\": {\n",
    "          \"type\": \"BM25\",\n",
    "          \"b\": 1.2,   # Ajusta el parámetro \"b\" de BM25\n",
    "          \"k1\": 0.75,   # Cambia el valor según tus necesidades\n",
    "          \"discount_overlaps\":False\n",
    "        }\n",
    "      }\n",
    "    }\n",
    "  }\n",
    "}\n",
    "settings={}"
   ]
  },
  {
   "cell_type": "code",
   "execution_count": 16,
   "id": "2cb0ce25-94c5-4ab2-8832-8afc604f2bc3",
   "metadata": {},
   "outputs": [],
   "source": [
    "for i in range(len(openalex)):\n",
    "    openalex[i]['title'] = parse_string(openalex[i]['title'])"
   ]
  },
  {
   "cell_type": "code",
   "execution_count": 17,
   "id": "0e7486d3-e09a-4dc7-ba15-5d1e16b9c002",
   "metadata": {},
   "outputs": [],
   "source": [
    "es_index = \"openalex_parsed\"\n",
    "recreate = True\n",
    "if recreate:\n",
    "    if es.indices.exists(index=es_index):\n",
    "        es.indices.delete(index=es_index)\n",
    "if not es.indices.exists(index=es_index):\n",
    "    es.indices.create(index=es_index,body=settings)"
   ]
  },
  {
   "cell_type": "code",
   "execution_count": null,
   "id": "7c661e90-e8ae-4653-95a0-77bb40dcf40e",
   "metadata": {},
   "outputs": [],
   "source": []
  },
  {
   "cell_type": "code",
   "execution_count": 18,
   "id": "4362320d-2090-4ca8-a099-cea27b083d59",
   "metadata": {},
   "outputs": [],
   "source": [
    "if recreate:\n",
    "    request_timeout = 60\n",
    "    bulk_size = 100\n",
    "\n",
    "    es_entries = []\n",
    "    counter = 0\n",
    "    for i in openalex:\n",
    "        work = {}\n",
    "        work[\"title\"] = i[\"title\"]\n",
    "        work[\"authors\"] = \"\"\n",
    "        for j in i[\"authorships\"]:\n",
    "            if \"display_name\" in j[\"author\"].keys(): \n",
    "                if j[\"author\"][\"display_name\"] is not None:\n",
    "                    work[\"authors\"] += \" \" + j[\"author\"][\"display_name\"]\n",
    "        work[\"source\"] = i[\"host_venue\"][\"display_name\"]\n",
    "        work[\"year\"] = i[\"publication_year\"]\n",
    "        work[\"volume\"] = i[\"biblio\"][\"volume\"] \n",
    "        work[\"issue\"] = i[\"biblio\"][\"issue\"] \n",
    "        work[\"first_page\"] = i[\"biblio\"][\"first_page\"]\n",
    "        work[\"last_page\"] = i[\"biblio\"][\"last_page\"]\n",
    "        work[\"doi\"] = i[\"doi\"] \n",
    "    \n",
    "        entry = {\"_index\": es_index,\n",
    "                 \"_id\": str(i[\"_id\"]),\n",
    "                 \"_source\": work}\n",
    "        es_entries.append(entry)\n",
    "        if len(es_entries) == bulk_size:\n",
    "            helpers.bulk(es, es_entries, refresh=True,request_timeout=request_timeout)\n",
    "            es_entries = []\n",
    "        counter +=1"
   ]
  },
  {
   "cell_type": "code",
   "execution_count": 12,
   "id": "c2a3f0da-46fe-4ab1-8432-65aedbcf9a52",
   "metadata": {},
   "outputs": [],
   "source": [
    "settings = {\n",
    "  \"settings\": {\n",
    "    \"index\": {\n",
    "      \"similarity\": {\n",
    "        \"default\": {\n",
    "          \"type\": \"DFR\",\n",
    "          \"basic_model\": \"g\",\n",
    "          \"after_effect\": \"b\",\n",
    "          \"normalization\": \"h1\",\n",
    "          # \"normalization.h2.c\": \"600.0\"  # Cambia el valor según tus necesidades\n",
    "        }\n",
    "      }\n",
    "    }\n",
    "  }\n",
    "}\n",
    "\n"
   ]
  },
  {
   "cell_type": "code",
   "execution_count": 13,
   "id": "e94d6df3-dbf0-4450-954d-2d9b3d4ce221",
   "metadata": {},
   "outputs": [
    {
     "name": "stderr",
     "output_type": "stream",
     "text": [
      "/tmp/ipykernel_39320/4260525492.py:3: DeprecationWarning: The 'body' parameter is deprecated for the 'create' API and will be removed in 8.0.0. Instead use API parameters directly. See https://github.com/elastic/elasticsearch-py/issues/1698 for more information\n",
      "  es.indices.create(index=es_index,body=settings)\n"
     ]
    }
   ],
   "source": [
    "es_index = \"openalex_dfr\"\n",
    "if not es.indices.exists(index=es_index):\n",
    "    es.indices.create(index=es_index,body=settings)"
   ]
  },
  {
   "cell_type": "code",
   "execution_count": 14,
   "id": "32838422-118a-4cac-8a2d-a2d5296287aa",
   "metadata": {},
   "outputs": [],
   "source": [
    "if recreate:\n",
    "    request_timeout = 60\n",
    "    bulk_size = 100\n",
    "\n",
    "    es_entries = []\n",
    "    counter = 0\n",
    "    for i in openalex:\n",
    "        entry = {\"_index\": es_index,\n",
    "                 \"_id\": counter,\n",
    "                 \"_source\": i}\n",
    "        es_entries.append(entry)\n",
    "        if len(es_entries) == bulk_size:\n",
    "            helpers.bulk(es, es_entries, refresh=True,request_timeout=request_timeout)\n",
    "            es_entries = []\n",
    "        counter +=1"
   ]
  },
  {
   "cell_type": "code",
   "execution_count": null,
   "id": "9fd0174a-a8a7-40cc-9b1e-cd7d6b97e608",
   "metadata": {},
   "outputs": [],
   "source": [
    "settings = {\n",
    "  \"settings\": {\n",
    "    \"index\": {\n",
    "      \"similarity\": {\n",
    "        \"default\": {\n",
    "          \"type\": \"LMDirichlet\"\n",
    "        }\n",
    "      }\n",
    "    }\n",
    "  }\n",
    "}"
   ]
  },
  {
   "cell_type": "code",
   "execution_count": 15,
   "id": "93c05721-fcbb-41b6-81c8-873943bb4531",
   "metadata": {},
   "outputs": [
    {
     "name": "stderr",
     "output_type": "stream",
     "text": [
      "/tmp/ipykernel_39320/2560368478.py:3: DeprecationWarning: The 'body' parameter is deprecated for the 'create' API and will be removed in 8.0.0. Instead use API parameters directly. See https://github.com/elastic/elasticsearch-py/issues/1698 for more information\n",
      "  es.indices.create(index=es_index,body=settings)\n"
     ]
    }
   ],
   "source": [
    "es_index = \"openalex_lmdirichlet\"\n",
    "if not es.indices.exists(index=es_index):\n",
    "    es.indices.create(index=es_index,body=settings)"
   ]
  },
  {
   "cell_type": "code",
   "execution_count": 16,
   "id": "4a99f684-3909-483a-8112-2caa962a1157",
   "metadata": {},
   "outputs": [],
   "source": [
    "if recreate:\n",
    "    request_timeout = 60\n",
    "    bulk_size = 100\n",
    "\n",
    "    es_entries = []\n",
    "    counter = 0\n",
    "    for i in openalex:\n",
    "        entry = {\"_index\": es_index,\n",
    "                 \"_id\": counter,\n",
    "                 \"_source\": i}\n",
    "        es_entries.append(entry)\n",
    "        if len(es_entries) == bulk_size:\n",
    "            helpers.bulk(es, es_entries, refresh=True,request_timeout=request_timeout)\n",
    "            es_entries = []\n",
    "        counter +=1"
   ]
  },
  {
   "cell_type": "code",
   "execution_count": null,
   "id": "65c702f3-b638-4254-86d6-0c9e77581af4",
   "metadata": {},
   "outputs": [],
   "source": []
  }
 ],
 "metadata": {
  "kernelspec": {
   "display_name": "Python 3 (ipykernel)",
   "language": "python",
   "name": "python3"
  },
  "language_info": {
   "codemirror_mode": {
    "name": "ipython",
    "version": 3
   },
   "file_extension": ".py",
   "mimetype": "text/x-python",
   "name": "python",
   "nbconvert_exporter": "python",
   "pygments_lexer": "ipython3",
   "version": "3.9.2"
  }
 },
 "nbformat": 4,
 "nbformat_minor": 5
}
