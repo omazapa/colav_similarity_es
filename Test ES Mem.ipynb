{
 "cells": [
  {
   "cell_type": "code",
   "execution_count": 1,
   "id": "5946cbf4-2f95-4963-ba35-d4e430466a08",
   "metadata": {},
   "outputs": [],
   "source": [
    "from pymongo import MongoClient\n",
    "from elasticsearch import Elasticsearch, helpers\n",
    "import requests\n",
    "from IPython.display import JSON\n",
    "import numpy as np\n",
    "from fuzzywuzzy import fuzz\n",
    "from joblib import Parallel, delayed\n",
    "import pickle\n",
    "from IPython.display import clear_output, display\n",
    "from colavsim import colav_similarity, parse_doi, parse_string"
   ]
  },
  {
   "cell_type": "code",
   "execution_count": null,
   "id": "4ae6768e-e293-47c9-80b8-a10334d3f0d9",
   "metadata": {},
   "outputs": [],
   "source": []
  },
  {
   "cell_type": "code",
   "execution_count": 11,
   "id": "a4f0a557-ceaf-471e-9258-a9663e8a6fbd",
   "metadata": {},
   "outputs": [],
   "source": [
    "es = Elasticsearch(hosts=\"172.19.31.8\")"
   ]
  },
  {
   "cell_type": "code",
   "execution_count": 13,
   "id": "c8c72965-ebf8-41c5-a7da-d16ab578a248",
   "metadata": {},
   "outputs": [],
   "source": [
    "openalex = list(MongoClient()[\"openalexco\"][\"works\"].find({'doi': {\"$ne\": None}}))"
   ]
  },
  {
   "cell_type": "code",
   "execution_count": 14,
   "id": "f4965b84-4ec9-458a-86ea-1fe6114348a5",
   "metadata": {},
   "outputs": [
    {
     "data": {
      "text/plain": [
       "203863"
      ]
     },
     "execution_count": 14,
     "metadata": {},
     "output_type": "execute_result"
    }
   ],
   "source": [
    "len(openalex)"
   ]
  },
  {
   "cell_type": "code",
   "execution_count": 15,
   "id": "5ca0269f-806d-4b94-b088-cc1ff6add2d4",
   "metadata": {},
   "outputs": [],
   "source": [
    "es_index = \"openalex_raw\"\n",
    "recreate = True\n",
    "if recreate:\n",
    "    if es.indices.exists(index=es_index):\n",
    "        es.indices.delete(index=es_index)\n",
    "if not es.indices.exists(index=es_index):\n",
    "    es.indices.create(index=es_index)\n",
    "if recreate:\n",
    "    request_timeout = 60\n",
    "    bulk_size = 100\n",
    "\n",
    "    es_entries = []\n",
    "    counter = 0\n",
    "    for i in openalex:\n",
    "        work = {}\n",
    "        work[\"title\"] = i[\"title\"]\n",
    "        work[\"authors\"] = \"\"\n",
    "        for j in i[\"authorships\"]:\n",
    "            if \"display_name\" in j[\"author\"].keys(): \n",
    "                if j[\"author\"][\"display_name\"] is not None:\n",
    "                    work[\"authors\"] += \" \" + j[\"author\"][\"display_name\"]\n",
    "        work[\"source\"] = i[\"host_venue\"][\"display_name\"]\n",
    "        work[\"year\"] = i[\"publication_year\"]\n",
    "        work[\"volume\"] = i[\"biblio\"][\"volume\"] \n",
    "        work[\"issue\"] = i[\"biblio\"][\"issue\"] \n",
    "        work[\"first_page\"] = i[\"biblio\"][\"first_page\"]\n",
    "        work[\"last_page\"] = i[\"biblio\"][\"last_page\"]\n",
    "        work[\"doi\"] = i[\"doi\"] \n",
    "    \n",
    "        entry = {\"_index\": es_index,\n",
    "                 \"_id\": str(i[\"_id\"]),\n",
    "                 \"_source\": work}\n",
    "        es_entries.append(entry)\n",
    "        if len(es_entries) == bulk_size:\n",
    "            helpers.bulk(es, es_entries, refresh=True,request_timeout=request_timeout)\n",
    "            es_entries = []\n",
    "        counter +=1"
   ]
  },
  {
   "cell_type": "code",
   "execution_count": 8,
   "id": "525dba87-97da-4d54-8c63-3bebfa7a4fd0",
   "metadata": {},
   "outputs": [],
   "source": [
    "# settings = {\n",
    "#   \"settings\": {\n",
    "#     \"index\": {\n",
    "#       \"similarity\": {\n",
    "#         \"default\": {\n",
    "#           \"type\": \"DFR\",\n",
    "#           \"basic_model\": \"g\",\n",
    "#           \"after_effect\": \"b\",\n",
    "#           \"normalization\": \"h2\",\n",
    "#           \"normalization.h2.c\": \"600.0\"  # Cambia el valor según tus necesidades\n",
    "#         }\n",
    "#       }\n",
    "#     }\n",
    "#   }\n",
    "# }\n",
    "# settings = {\n",
    "#   \"settings\": {\n",
    "#     \"index\": {\n",
    "#       \"similarity\": {\n",
    "#         \"default\": {\n",
    "#           \"type\": \"BM25\",\n",
    "#           \"b\": 0.80,   # Ajusta el parámetro \"b\" de BM25\n",
    "#           \"k1\": 2.1   # Cambia el valor según tus necesidades\n",
    "#         }\n",
    "#       }\n",
    "#     }\n",
    "#   }\n",
    "# }\n",
    "settings={}"
   ]
  },
  {
   "cell_type": "code",
   "execution_count": 16,
   "id": "2cb0ce25-94c5-4ab2-8832-8afc604f2bc3",
   "metadata": {},
   "outputs": [],
   "source": [
    "for i in range(len(openalex)):\n",
    "    openalex[i]['title'] = parse_string(openalex[i]['title'])"
   ]
  },
  {
   "cell_type": "code",
   "execution_count": 17,
   "id": "0e7486d3-e09a-4dc7-ba15-5d1e16b9c002",
   "metadata": {},
   "outputs": [],
   "source": [
    "es_index = \"openalex_parsed\"\n",
    "recreate = True\n",
    "if recreate:\n",
    "    if es.indices.exists(index=es_index):\n",
    "        es.indices.delete(index=es_index)\n",
    "if not es.indices.exists(index=es_index):\n",
    "    es.indices.create(index=es_index)"
   ]
  },
  {
   "cell_type": "code",
   "execution_count": null,
   "id": "7c661e90-e8ae-4653-95a0-77bb40dcf40e",
   "metadata": {},
   "outputs": [],
   "source": []
  },
  {
   "cell_type": "code",
   "execution_count": 18,
   "id": "4362320d-2090-4ca8-a099-cea27b083d59",
   "metadata": {},
   "outputs": [],
   "source": [
    "if recreate:\n",
    "    request_timeout = 60\n",
    "    bulk_size = 100\n",
    "\n",
    "    es_entries = []\n",
    "    counter = 0\n",
    "    for i in openalex:\n",
    "        work = {}\n",
    "        work[\"title\"] = i[\"title\"]\n",
    "        work[\"authors\"] = \"\"\n",
    "        for j in i[\"authorships\"]:\n",
    "            if \"display_name\" in j[\"author\"].keys(): \n",
    "                if j[\"author\"][\"display_name\"] is not None:\n",
    "                    work[\"authors\"] += \" \" + j[\"author\"][\"display_name\"]\n",
    "        work[\"source\"] = i[\"host_venue\"][\"display_name\"]\n",
    "        work[\"year\"] = i[\"publication_year\"]\n",
    "        work[\"volume\"] = i[\"biblio\"][\"volume\"] \n",
    "        work[\"issue\"] = i[\"biblio\"][\"issue\"] \n",
    "        work[\"first_page\"] = i[\"biblio\"][\"first_page\"]\n",
    "        work[\"last_page\"] = i[\"biblio\"][\"last_page\"]\n",
    "        work[\"doi\"] = i[\"doi\"] \n",
    "    \n",
    "        entry = {\"_index\": es_index,\n",
    "                 \"_id\": str(i[\"_id\"]),\n",
    "                 \"_source\": work}\n",
    "        es_entries.append(entry)\n",
    "        if len(es_entries) == bulk_size:\n",
    "            helpers.bulk(es, es_entries, refresh=True,request_timeout=request_timeout)\n",
    "            es_entries = []\n",
    "        counter +=1"
   ]
  },
  {
   "cell_type": "code",
   "execution_count": 12,
   "id": "c2a3f0da-46fe-4ab1-8432-65aedbcf9a52",
   "metadata": {},
   "outputs": [],
   "source": [
    "settings = {\n",
    "  \"settings\": {\n",
    "    \"index\": {\n",
    "      \"similarity\": {\n",
    "        \"default\": {\n",
    "          \"type\": \"DFR\",\n",
    "          \"basic_model\": \"g\",\n",
    "          \"after_effect\": \"b\",\n",
    "          \"normalization\": \"h1\",\n",
    "          # \"normalization.h2.c\": \"600.0\"  # Cambia el valor según tus necesidades\n",
    "        }\n",
    "      }\n",
    "    }\n",
    "  }\n",
    "}\n",
    "\n"
   ]
  },
  {
   "cell_type": "code",
   "execution_count": 13,
   "id": "e94d6df3-dbf0-4450-954d-2d9b3d4ce221",
   "metadata": {},
   "outputs": [
    {
     "name": "stderr",
     "output_type": "stream",
     "text": [
      "/tmp/ipykernel_39320/4260525492.py:3: DeprecationWarning: The 'body' parameter is deprecated for the 'create' API and will be removed in 8.0.0. Instead use API parameters directly. See https://github.com/elastic/elasticsearch-py/issues/1698 for more information\n",
      "  es.indices.create(index=es_index,body=settings)\n"
     ]
    }
   ],
   "source": [
    "es_index = \"openalex_dfr\"\n",
    "if not es.indices.exists(index=es_index):\n",
    "    es.indices.create(index=es_index,body=settings)"
   ]
  },
  {
   "cell_type": "code",
   "execution_count": 14,
   "id": "32838422-118a-4cac-8a2d-a2d5296287aa",
   "metadata": {},
   "outputs": [],
   "source": [
    "if recreate:\n",
    "    request_timeout = 60\n",
    "    bulk_size = 100\n",
    "\n",
    "    es_entries = []\n",
    "    counter = 0\n",
    "    for i in openalex:\n",
    "        entry = {\"_index\": es_index,\n",
    "                 \"_id\": counter,\n",
    "                 \"_source\": i}\n",
    "        es_entries.append(entry)\n",
    "        if len(es_entries) == bulk_size:\n",
    "            helpers.bulk(es, es_entries, refresh=True,request_timeout=request_timeout)\n",
    "            es_entries = []\n",
    "        counter +=1"
   ]
  },
  {
   "cell_type": "code",
   "execution_count": null,
   "id": "9fd0174a-a8a7-40cc-9b1e-cd7d6b97e608",
   "metadata": {},
   "outputs": [],
   "source": [
    "settings = {\n",
    "  \"settings\": {\n",
    "    \"index\": {\n",
    "      \"similarity\": {\n",
    "        \"default\": {\n",
    "          \"type\": \"LMDirichlet\"\n",
    "        }\n",
    "      }\n",
    "    }\n",
    "  }\n",
    "}"
   ]
  },
  {
   "cell_type": "code",
   "execution_count": 15,
   "id": "93c05721-fcbb-41b6-81c8-873943bb4531",
   "metadata": {},
   "outputs": [
    {
     "name": "stderr",
     "output_type": "stream",
     "text": [
      "/tmp/ipykernel_39320/2560368478.py:3: DeprecationWarning: The 'body' parameter is deprecated for the 'create' API and will be removed in 8.0.0. Instead use API parameters directly. See https://github.com/elastic/elasticsearch-py/issues/1698 for more information\n",
      "  es.indices.create(index=es_index,body=settings)\n"
     ]
    }
   ],
   "source": [
    "es_index = \"openalex_lmdirichlet\"\n",
    "if not es.indices.exists(index=es_index):\n",
    "    es.indices.create(index=es_index,body=settings)"
   ]
  },
  {
   "cell_type": "code",
   "execution_count": 16,
   "id": "4a99f684-3909-483a-8112-2caa962a1157",
   "metadata": {},
   "outputs": [],
   "source": [
    "if recreate:\n",
    "    request_timeout = 60\n",
    "    bulk_size = 100\n",
    "\n",
    "    es_entries = []\n",
    "    counter = 0\n",
    "    for i in openalex:\n",
    "        entry = {\"_index\": es_index,\n",
    "                 \"_id\": counter,\n",
    "                 \"_source\": i}\n",
    "        es_entries.append(entry)\n",
    "        if len(es_entries) == bulk_size:\n",
    "            helpers.bulk(es, es_entries, refresh=True,request_timeout=request_timeout)\n",
    "            es_entries = []\n",
    "        counter +=1"
   ]
  },
  {
   "cell_type": "code",
   "execution_count": null,
   "id": "65c702f3-b638-4254-86d6-0c9e77581af4",
   "metadata": {},
   "outputs": [],
   "source": []
  }
 ],
 "metadata": {
  "kernelspec": {
   "display_name": "Python 3 (ipykernel)",
   "language": "python",
   "name": "python3"
  },
  "language_info": {
   "codemirror_mode": {
    "name": "ipython",
    "version": 3
   },
   "file_extension": ".py",
   "mimetype": "text/x-python",
   "name": "python",
   "nbconvert_exporter": "python",
   "pygments_lexer": "ipython3",
   "version": "3.9.2"
  }
 },
 "nbformat": 4,
 "nbformat_minor": 5
}
