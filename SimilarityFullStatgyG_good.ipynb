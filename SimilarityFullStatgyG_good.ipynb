{
 "cells": [
  {
   "cell_type": "code",
   "execution_count": 18,
   "id": "708b9f0b-9305-4e07-845c-59aeccd856b3",
   "metadata": {},
   "outputs": [],
   "source": [
    "from pymongo import MongoClient\n",
    "from elasticsearch import Elasticsearch, helpers\n",
    "import requests\n",
    "from IPython.display import JSON\n",
    "import numpy as np\n",
    "from fuzzywuzzy import fuzz\n",
    "from joblib import Parallel, delayed\n",
    "import pickle\n",
    "import matplotlib.pyplot as plt\n",
    "import numpy\n",
    "from sklearn import metrics\n",
    "import math\n",
    "from thefuzz import fuzz, process\n",
    "import re"
   ]
  },
  {
   "cell_type": "code",
   "execution_count": 2,
   "id": "85c9b460-8582-4449-992c-04ce74d3ccfc",
   "metadata": {},
   "outputs": [],
   "source": [
    "es = Elasticsearch()"
   ]
  },
  {
   "cell_type": "code",
   "execution_count": 3,
   "id": "4743a24f-e166-4894-8177-dbe6c52814a8",
   "metadata": {},
   "outputs": [],
   "source": [
    "# open a file, where you stored the pickled data\n",
    "file = open('dataset_full.pkl', 'rb')\n",
    "# dump information to that file\n",
    "data = pickle.load(file)\n",
    "# close the file\n",
    "file.close()"
   ]
  },
  {
   "cell_type": "code",
   "execution_count": 4,
   "id": "ead3c6c0-b35e-4455-9a6a-5b764337a5f6",
   "metadata": {},
   "outputs": [
    {
     "data": {
      "text/plain": [
       "101773"
      ]
     },
     "execution_count": 4,
     "metadata": {},
     "output_type": "execute_result"
    }
   ],
   "source": [
    "len(data[\"p\"])"
   ]
  },
  {
   "cell_type": "code",
   "execution_count": 5,
   "id": "345fb1b9-d27e-4d48-bf6b-a5421f8c8c1f",
   "metadata": {},
   "outputs": [
    {
     "data": {
      "text/plain": [
       "41596"
      ]
     },
     "execution_count": 5,
     "metadata": {},
     "output_type": "execute_result"
    }
   ],
   "source": [
    "len(data[\"n\"])"
   ]
  },
  {
   "cell_type": "code",
   "execution_count": 6,
   "id": "db99f311-cc92-4534-ae6d-e5ece5a4e1a5",
   "metadata": {},
   "outputs": [
    {
     "data": {
      "text/plain": [
       "{'Authors': 'Jaramillo-Ayerbe F., Berrío-Muñoz J.',\n",
       " 'Title': 'Ivermectin for crusted Norwegian scabies induced by use of topical steroids',\n",
       " 'Year': 1998,\n",
       " 'Source title': 'Archives of Dermatology',\n",
       " 'DOI': '10.1001/archderm.134.2.143'}"
      ]
     },
     "execution_count": 6,
     "metadata": {},
     "output_type": "execute_result"
    }
   ],
   "source": [
    "data[\"p\"][0]"
   ]
  },
  {
   "cell_type": "code",
   "execution_count": 7,
   "id": "9e96d497-83a8-47be-8801-f01acb2027ae",
   "metadata": {},
   "outputs": [
    {
     "data": {
      "text/plain": [
       "{'Authors': 'Flórez G.A.D., Mombello E.E., Voss S.',\n",
       " 'Title': 'Novel technique for the calculation of eddy current losses and Lorentz forces in foil winding transformers',\n",
       " 'Year': 2017,\n",
       " 'Source title': 'International Journal of Applied Electromagnetics and Mechanics',\n",
       " 'DOI': '10..3233/JAE-160144'}"
      ]
     },
     "execution_count": 7,
     "metadata": {},
     "output_type": "execute_result"
    }
   ],
   "source": [
    "data[\"n\"][0]"
   ]
  },
  {
   "cell_type": "code",
   "execution_count": 40,
   "id": "7d83326c-d441-4dc3-b39a-0a5cd3a4192a",
   "metadata": {},
   "outputs": [],
   "source": [
    "scopus = []\n",
    "for i in data[\"p\"][0:3000]:\n",
    "    scopus.append((i,True))\n",
    "for i in data[\"n\"][0:3000]:\n",
    "    scopus.append((i,False))"
   ]
  },
  {
   "cell_type": "code",
   "execution_count": 9,
   "id": "8e93091a-83f7-44c7-a1d1-285b6adbefdb",
   "metadata": {},
   "outputs": [],
   "source": [
    "es_index = \"openalex_test\"\n"
   ]
  },
  {
   "cell_type": "code",
   "execution_count": 10,
   "id": "6058f012-1ece-40f8-ad7a-85c610d908ad",
   "metadata": {},
   "outputs": [],
   "source": [
    "def get_oa_doi(es_reg):\n",
    "    for i in es_reg[\"_source\"]['external_ids']:\n",
    "        if i['source'] == \"doi\":\n",
    "            return i[\"id\"]\n",
    "\n",
    "\n",
    "def get_oa_doi(es_reg):\n",
    "    return es_reg[\"_source\"]['doi']\n"
   ]
  },
  {
   "cell_type": "code",
   "execution_count": 11,
   "id": "9579759a-ea77-4b5d-8552-997ebad85c50",
   "metadata": {},
   "outputs": [],
   "source": [
    "def search(Title, Authors, Source, Year, punto_de_corte = 0):\n",
    "    \"\"\"\n",
    "    Definir el valor mínimo del _score que deseas\n",
    "    Puedes ajustar este valor según tus necesidades\n",
    "\n",
    "    \"\"\"\n",
    "    if not isinstance(Title, str):\n",
    "        Title = \"\"\n",
    "    if not isinstance(Source, str):\n",
    "        Source = \"\"\n",
    "        \n",
    "        \n",
    "    body = {\n",
    "        \"query\": {\n",
    "            \"bool\": {\n",
    "                \"should\": [\n",
    "                    { \"match\": { \"title\":  Title }},\n",
    "                    { \"match\": { \"authorships.author.display_name\": Authors }},\n",
    "                    { \"match\": { \"host_venue.display_name\":  Source}},\n",
    "                    { \"match\": { \"publication_year\": Year }}\n",
    "                ]\n",
    "            }\n",
    "        },\n",
    "        \"size\": 10\n",
    "    }\n",
    "    \n",
    "    res = es.search(index=es_index, **body)\n",
    "    hits = []\n",
    "    \n",
    "    for i in res[\"hits\"][\"hits\"]:\n",
    "        if i[\"_score\"] >= punto_de_corte:\n",
    "            hits.append(i)\n",
    "    res[\"hits\"][\"hits\"] = hits\n",
    "    return  res"
   ]
  },
  {
   "cell_type": "code",
   "execution_count": 34,
   "id": "c81680b0-1e0b-4a5b-962b-3b17c341edda",
   "metadata": {},
   "outputs": [
    {
     "name": "stderr",
     "output_type": "stream",
     "text": [
      "[Parallel(n_jobs=15)]: Using backend ThreadingBackend with 15 concurrent workers.\n",
      "[Parallel(n_jobs=15)]: Done  11 tasks      | elapsed:    0.1s\n",
      "[Parallel(n_jobs=15)]: Done 132 tasks      | elapsed:    1.2s\n",
      "[Parallel(n_jobs=15)]: Done 335 tasks      | elapsed:    2.1s\n",
      "[Parallel(n_jobs=15)]: Done 618 tasks      | elapsed:    3.9s\n",
      "[Parallel(n_jobs=15)]: Done 983 tasks      | elapsed:    6.4s\n",
      "[Parallel(n_jobs=15)]: Done 1428 tasks      | elapsed:    8.8s\n",
      "[Parallel(n_jobs=15)]: Done 1955 tasks      | elapsed:   18.5s\n",
      "[Parallel(n_jobs=15)]: Done 2562 tasks      | elapsed:   22.0s\n",
      "[Parallel(n_jobs=15)]: Done 3251 tasks      | elapsed:   33.5s\n",
      "[Parallel(n_jobs=15)]: Done 4020 tasks      | elapsed:   37.7s\n",
      "[Parallel(n_jobs=15)]: Done 4871 tasks      | elapsed:   48.6s\n",
      "[Parallel(n_jobs=15)]: Done 5802 tasks      | elapsed:   54.2s\n"
     ]
    },
    {
     "name": "stdout",
     "output_type": "stream",
     "text": [
      "CPU times: user 57.8 s, sys: 3.84 s, total: 1min 1s\n",
      "Wall time: 1min 1s\n"
     ]
    },
    {
     "name": "stderr",
     "output_type": "stream",
     "text": [
      "[Parallel(n_jobs=15)]: Done 6000 out of 6000 | elapsed:  1.0min finished\n"
     ]
    }
   ],
   "source": [
    "%%time\n",
    "\n",
    "def es_similarity(rec,th = 0):\n",
    "    res = search(rec['Title'],rec['Authors'],rec['Source title'],rec['Year'],th)\n",
    "    if len(res[\"hits\"][\"hits\"]) > 1:\n",
    "        oa_doi = get_oa_doi(res[\"hits\"][\"hits\"][0]).replace(\"https://doi.org/\",\"\").lower()\n",
    "        sc_doi = rec[\"DOI\"].lower()\n",
    "        if oa_doi == sc_doi:\n",
    "            return (res[\"hits\"][\"hits\"][0],True)\n",
    "        else:\n",
    "            return (res[\"hits\"][\"hits\"][0],False)\n",
    "\n",
    "np.random.shuffle(scopus) #shuffle is inplace\n",
    "th=0\n",
    "results = Parallel(n_jobs=15,backend='threading',verbose=2)(delayed(es_similarity)(rec[0],th) for rec in scopus)\n"
   ]
  },
  {
   "cell_type": "code",
   "execution_count": 35,
   "id": "11a7bd58-023f-4a14-b2f2-79f98be8c1af",
   "metadata": {},
   "outputs": [
    {
     "data": {
      "text/plain": [
       "0"
      ]
     },
     "execution_count": 35,
     "metadata": {},
     "output_type": "execute_result"
    }
   ],
   "source": [
    "results.count(None)"
   ]
  },
  {
   "cell_type": "code",
   "execution_count": 36,
   "id": "458af1e4-502e-4cb4-9e73-7ac23e620fec",
   "metadata": {},
   "outputs": [
    {
     "data": {
      "text/plain": [
       "6000"
      ]
     },
     "execution_count": 36,
     "metadata": {},
     "output_type": "execute_result"
    }
   ],
   "source": [
    "len(results)"
   ]
  },
  {
   "cell_type": "code",
   "execution_count": 37,
   "id": "f9ffd190-2b84-439c-b549-a4ef8acbb1b3",
   "metadata": {},
   "outputs": [],
   "source": [
    "#>tp, tn, fp, fn\n",
    "actual  = [i[1] for i in scopus]\n",
    "predicted = [i[1] for i in results]\n"
   ]
  },
  {
   "cell_type": "code",
   "execution_count": 38,
   "id": "6d0b4511-b51c-4e9b-a7b6-e04db6e5b353",
   "metadata": {},
   "outputs": [
    {
     "data": {
      "image/png": "[encoded data removed]",
      "text/plain": [
       "<Figure size 640x480 with 2 Axes>"
      ]
     },
     "metadata": {},
     "output_type": "display_data"
    }
   ],
   "source": [
    "confusion_matrix = metrics.confusion_matrix(actual, predicted)\n",
    "cm_display = metrics.ConfusionMatrixDisplay(confusion_matrix = confusion_matrix, display_labels = [False, True])\n",
    "\n",
    "cm_display.plot()\n",
    "plt.show()"
   ]
  },
  {
   "cell_type": "code",
   "execution_count": 39,
   "id": "8a7cebbd-f4fd-4b02-ad35-4c33ebc41324",
   "metadata": {},
   "outputs": [
    {
     "name": "stdout",
     "output_type": "stream",
     "text": [
      "Accuracy  = 0.9958\n",
      "Precision = 1.0000\n",
      "Recall    = 0.9917\n",
      "F1        = 0.9958\n"
     ]
    }
   ],
   "source": [
    "acc = metrics.accuracy_score(actual,predicted)\n",
    "pre = metrics.precision_score(actual,predicted)\n",
    "rec = metrics.recall_score(actual,predicted)\n",
    "f1  = metrics.f1_score(actual,predicted)\n",
    "\n",
    "print(f\"Accuracy  = {acc:.4f}\")\n",
    "print(f\"Precision = {pre:.4f}\")\n",
    "print(f\"Recall    = {rec:.4f}\")\n",
    "print(f\"F1        = {f1:.4f}\")\n"
   ]
  },
  {
   "cell_type": "code",
   "execution_count": 19,
   "id": "4521e71c-b6f2-4c34-99af-5bb35b9821b7",
   "metadata": {},
   "outputs": [],
   "source": [
    "def parse_string(text):\n",
    "    text = unidecode(text.lower())\n",
    "    text = re.sub( r'[\\$_\\^]','', re.sub(r'\\\\\\w+','',text ))\n",
    "    return str(text)\n",
    "\n",
    "def __colav_similarity(title1,title2,journal1,journal2,year1,year2, ratio_thold=90, partial_thold=95,low_thold=80,verbose=0):\n",
    "\n",
    "    label = False\n",
    "    \n",
    "    #Se revisa si los años y las revistas coinciden\n",
    "    journal_check = False\n",
    "    if journal1 and journal2:\n",
    "        if fuzz.partial_ratio(unidecode(journal1.lower()),unidecode(journal2.lower()))>ratio_thold:\n",
    "            journal_check=True\n",
    "    year_check=False\n",
    "    if year1 and year2:\n",
    "        if year1==year2:\n",
    "            year_check = True\n",
    "    \n",
    "    length_check=False\n",
    "    if len(title1.split())>3 and len(title2.split())>3:\n",
    "        length_check=True\n",
    "        \n",
    "    #Si son pocas palabras y no hay por lo menos revista o año para revisar, se descarta de uan vez\n",
    "    if length_check == False and (journal_check == False or year_check == False):\n",
    "        return label\n",
    "    \n",
    "    if verbose==5:\n",
    "        if journal_check: print(\"Journals are the same\")\n",
    "        if year_check: print(\"Years are the same\")\n",
    "    \n",
    "    ratio = fuzz.ratio(title1, title2)\n",
    "    if verbose==5: print(\"Initial ratio: \",ratio)\n",
    "    if ratio > ratio_thold and length_check: #Comparación \"directa\"\n",
    "        label = True\n",
    "    if label == False:\n",
    "        #Comparaciones cuando el título viene en varios idiomas\n",
    "        title1_list=title1.split(\"[\")\n",
    "        title2_list=title2.split(\"[\")\n",
    "        if min([len(item) for item in title1_list]) > 10 and min([len(item) for item in title2_list]) > 10:\n",
    "            for title in title1_list:\n",
    "                tmp_title,ratio=process.extractOne(title,title2_list,scorer=fuzz.ratio)\n",
    "                if ratio > ratio_thold:\n",
    "                    label=True\n",
    "                    break\n",
    "            #if verbose==5: print(\"ratio over list: \",ratio)\n",
    "            if label==False:\n",
    "                for title in title1_list:\n",
    "                    tmp_title,ratio=process.extractOne(title,title2_list,scorer=fuzz.partial_ratio)\n",
    "                    if ratio > partial_thold:\n",
    "                        label=True\n",
    "                        break\n",
    "                    elif ratio > low_thold:\n",
    "                        if journal_check and year_check:\n",
    "                            label=True\n",
    "                            break\n",
    "                #if verbose==5: print(\"partial ratio over list: \",ratio)\n",
    "    \n",
    "    #Partial ratio section\n",
    "    if label == False:\n",
    "        ratio = fuzz.partial_ratio(title1, title2) #Cuando la comparación \"directa\" falla, relajamos el scorer\n",
    "        #if verbose==5: print(\"partial ratio: \",ratio)\n",
    "                \n",
    "        if ratio > partial_thold and length_check: #si el score supera el umbral (que debería ser mayor al umbral del ratio)\n",
    "            label=True\n",
    "        elif ratio > low_thold: #si no lo supera pero sigue siendo un valor alto, revisa el año y la revista\n",
    "            if journal_check and year_check:\n",
    "                label=True\n",
    "             \n",
    "    return label\n",
    "\n",
    "def colav_similarity(title1,title2,journal1,journal2,year1,year2,ratio_thold=90, partial_thold=95, low_thold=80,use_regex=True):\n",
    "    '''\n",
    "    Compare two papers to know if they are the same or not.\n",
    "\n",
    "    It uses the title, year and journal names of both papers to compare them in an somewhat elaborated way. Titles are compared using various algorithms of string comparison from thefuzz library with diferent levels of tolerance if its within a range determined by some threshold variables. The years must be the same, though we've seen an erro of +/- one year. Journal names are also compared using thefuzz's algorithms\n",
    "    \n",
    "    parameters\n",
    "    ----------\n",
    "        title1: str title of one of the papers\n",
    "        title2: str title of the other paper\n",
    "        journal1: str name of the journal in which one of the papers was published\n",
    "        journal2: str name of the journal in which the other paper was published\n",
    "        year1: int year in which one of the papers was published\n",
    "        year2: int year in which the other paper was published\n",
    "        ratio_thold: int threshold to compare through ratio function in thefuzz library\n",
    "        partial_ratio_thold: int threshold to compare throughpartial_ratio function in thefuzz library\n",
    "        low_thold: int threshold to discard some results with lower score values\n",
    "        use_regex: bool Uses a regex to clean the titles\n",
    "        \n",
    "    Returns\n",
    "    -------\n",
    "    label: bool true when the papers are (potentially) the same.\n",
    "    '''\n",
    "    title1 = unidecode(title1.lower())\n",
    "    title2 = unidecode(title2.lower())\n",
    "    \n",
    "    if year1: year1=int(year1)\n",
    "    if year2: year2=int(year2)\n",
    "    \n",
    "    label = False\n",
    "    \n",
    "    if not use_regex:\n",
    "        label = __colav_similarity(title1,title2,journal1,journal2, year1,year2,ratio_thold, partial_thold,low_thold,translation=translate)\n",
    "    elif use_regex:\n",
    "        label = __colav_similarity(parse_string(title1), parse_string(title2),journal1,journal2, year1,year2,ratio_thold, partial_thold,low_thold)\n",
    "    return label"
   ]
  },
  {
   "cell_type": "code",
   "execution_count": 21,
   "id": "02abd760-9fd3-46e1-b546-444a23f25825",
   "metadata": {},
   "outputs": [
    {
     "data": {
      "text/plain": [
       "2.212767629921492"
      ]
     },
     "execution_count": 21,
     "metadata": {},
     "output_type": "execute_result"
    }
   ],
   "source": [
    "2252*100/101773"
   ]
  },
  {
   "cell_type": "code",
   "execution_count": null,
   "id": "c79c9a59-c6dd-422c-ab73-b5885c388de5",
   "metadata": {},
   "outputs": [],
   "source": []
  }
 ],
 "metadata": {
  "kernelspec": {
   "display_name": "Python 3 (ipykernel)",
   "language": "python",
   "name": "python3"
  },
  "language_info": {
   "codemirror_mode": {
    "name": "ipython",
    "version": 3
   },
   "file_extension": ".py",
   "mimetype": "text/x-python",
   "name": "python",
   "nbconvert_exporter": "python",
   "pygments_lexer": "ipython3",
   "version": "3.11.4"
  }
 },
 "nbformat": 4,
 "nbformat_minor": 5
}
