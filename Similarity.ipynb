{
 "cells": [
  {
   "cell_type": "code",
   "execution_count": 1,
   "id": "708b9f0b-9305-4e07-845c-59aeccd856b3",
   "metadata": {},
   "outputs": [],
   "source": [
    "from pymongo import MongoClient\n",
    "from elasticsearch import Elasticsearch, helpers\n",
    "import requests\n",
    "from IPython.display import JSON\n",
    "import numpy as np\n",
    "from fuzzywuzzy import fuzz\n",
    "from joblib import Parallel, delayed\n",
    "import pickle\n",
    "import matplotlib.pyplot as plt\n",
    "import numpy\n",
    "from sklearn import metrics"
   ]
  },
  {
   "cell_type": "code",
   "execution_count": 2,
   "id": "85c9b460-8582-4449-992c-04ce74d3ccfc",
   "metadata": {},
   "outputs": [],
   "source": [
    "es = Elasticsearch()"
   ]
  },
  {
   "cell_type": "code",
   "execution_count": 3,
   "id": "4743a24f-e166-4894-8177-dbe6c52814a8",
   "metadata": {},
   "outputs": [],
   "source": [
    "# open a file, where you stored the pickled data\n",
    "file = open('dataset.pkl', 'rb')\n",
    "# dump information to that file\n",
    "data = pickle.load(file)\n",
    "# close the file\n",
    "file.close()"
   ]
  },
  {
   "cell_type": "code",
   "execution_count": 4,
   "id": "ead3c6c0-b35e-4455-9a6a-5b764337a5f6",
   "metadata": {},
   "outputs": [
    {
     "data": {
      "text/plain": [
       "5000"
      ]
     },
     "execution_count": 4,
     "metadata": {},
     "output_type": "execute_result"
    }
   ],
   "source": [
    "len(data[\"p\"])"
   ]
  },
  {
   "cell_type": "code",
   "execution_count": 5,
   "id": "345fb1b9-d27e-4d48-bf6b-a5421f8c8c1f",
   "metadata": {},
   "outputs": [
    {
     "data": {
      "text/plain": [
       "5000"
      ]
     },
     "execution_count": 5,
     "metadata": {},
     "output_type": "execute_result"
    }
   ],
   "source": [
    "len(data[\"n\"])"
   ]
  },
  {
   "cell_type": "code",
   "execution_count": 6,
   "id": "7d83326c-d441-4dc3-b39a-0a5cd3a4192a",
   "metadata": {},
   "outputs": [],
   "source": [
    "p_dois=[]\n",
    "n_dois=[]\n",
    "openalex = []\n",
    "scopus = []\n",
    "for i in data[\"p\"]:\n",
    "    p_dois.append(i[0][\"DOI\"])\n",
    "    openalex.append(i[1])\n",
    "    scopus.append(i[0])\n",
    "for i in data[\"n\"]:\n",
    "    n_dois.append(i[0][\"DOI\"])\n",
    "    openalex.append(i[1])\n",
    "    scopus.append(i[0])"
   ]
  },
  {
   "cell_type": "code",
   "execution_count": 7,
   "id": "8e93091a-83f7-44c7-a1d1-285b6adbefdb",
   "metadata": {},
   "outputs": [],
   "source": [
    "es_index = \"openalex\"\n",
    "recreate = True\n",
    "if recreate:\n",
    "    if es.indices.exists(index=es_index):\n",
    "        es.indices.delete(index=es_index)\n",
    "if not es.indices.exists(index=es_index):\n",
    "    es.indices.create(index=es_index)"
   ]
  },
  {
   "cell_type": "code",
   "execution_count": 8,
   "id": "27f8ce5f-14d0-464d-8e17-a4c29b9b6fb6",
   "metadata": {},
   "outputs": [],
   "source": [
    "if recreate:\n",
    "    request_timeout = 60\n",
    "    bulk_size = 100\n",
    "\n",
    "    es_entries = []\n",
    "    counter = 0\n",
    "    for i in openalex:\n",
    "        entry = {\"_index\": es_index,\n",
    "                 \"_id\": counter,\n",
    "                 \"_source\": i}\n",
    "        es_entries.append(entry)\n",
    "        if len(es_entries) == bulk_size:\n",
    "            helpers.bulk(es, es_entries, refresh=True,request_timeout=request_timeout)\n",
    "            es_entries = []\n",
    "        counter +=1"
   ]
  },
  {
   "cell_type": "code",
   "execution_count": 9,
   "id": "6058f012-1ece-40f8-ad7a-85c610d908ad",
   "metadata": {},
   "outputs": [],
   "source": [
    "def get_oa_doi(es_reg):\n",
    "    for i in es_reg[\"_source\"]['external_ids']:\n",
    "        if i['source'] == \"doi\":\n",
    "            return i[\"id\"]\n",
    "\n",
    "\n",
    "def get_oa_doi(es_reg):\n",
    "    return es_reg[\"_source\"]['doi']\n"
   ]
  },
  {
   "cell_type": "code",
   "execution_count": 10,
   "id": "62da2852-6a66-494d-8c54-22afd9742f4d",
   "metadata": {},
   "outputs": [
    {
     "data": {
      "text/plain": [
       "{'doi': 'https://doi.org/10.1001/archderm.134.2.143',\n",
       " 'title': 'Ivermectin for Crusted Norwegian Scabies Induced by Use of Topical Steroids',\n",
       " 'publication_year': 1998,\n",
       " 'host_venue': {'display_name': 'Archives of Dermatology'},\n",
       " 'authorships': [{'author': {'display_name': 'Felipe Jaramillo-Ayerbe'}},\n",
       "  {'author': {'display_name': 'Joaquín Berrío-Muñoz'}}]}"
      ]
     },
     "execution_count": 10,
     "metadata": {},
     "output_type": "execute_result"
    }
   ],
   "source": [
    "openalex[0]"
   ]
  },
  {
   "cell_type": "code",
   "execution_count": 11,
   "id": "9579759a-ea77-4b5d-8552-997ebad85c50",
   "metadata": {},
   "outputs": [],
   "source": [
    "def search(Title, Authors, Source, Year, punto_de_corte = 80.0):\n",
    "    \"\"\"\n",
    "    Definir el valor mínimo del _score que deseas\n",
    "    Puedes ajustar este valor según tus necesidades\n",
    "\n",
    "    \"\"\"\n",
    "    body = {\n",
    "        \"query\": {\n",
    "            \"bool\": {\n",
    "                \"should\": [\n",
    "                    { \"match\": { \"title\":  Title }},\n",
    "                    { \"match\": { \"authorships.author.display_name\": Authors }},\n",
    "                    { \"match\": { \"host_venue.display_name\":  Source}},\n",
    "                    { \"match\": { \"publication_year\": Year }}\n",
    "                ]\n",
    "            }\n",
    "        },\n",
    "        \"size\": 10\n",
    "    }\n",
    "    \n",
    "    res = es.search(index=es_index, **body)\n",
    "    hits = []\n",
    "    \n",
    "    for i in res[\"hits\"][\"hits\"]:\n",
    "        if i[\"_score\"] >= punto_de_corte:\n",
    "            hits.append(i)\n",
    "    res[\"hits\"][\"hits\"] = hits\n",
    "    return  res\n"
   ]
  },
  {
   "cell_type": "code",
   "execution_count": 12,
   "id": "c81680b0-1e0b-4a5b-962b-3b17c341edda",
   "metadata": {},
   "outputs": [
    {
     "name": "stdout",
     "output_type": "stream",
     "text": [
      "CPU times: user 5.06 s, sys: 1.04 s, total: 6.1 s\n",
      "Wall time: 5.2 s\n"
     ]
    }
   ],
   "source": [
    "%%time\n",
    "\n",
    "def es_similarity(rec,p,th):\n",
    "    res = search(rec['Title'],rec['Authors'],rec['Source title'],rec['Year'],th)\n",
    "    if p:\n",
    "        if len(res[\"hits\"][\"hits\"]) > 1:\n",
    "            oa_doi = get_oa_doi(res[\"hits\"][\"hits\"][0]).replace(\"https://doi.org/\",\"\")\n",
    "            sc_doi = rec[\"DOI\"]\n",
    "            if oa_doi == sc_doi and oa_doi in p_dois:\n",
    "                return True\n",
    "        return False\n",
    "    else:\n",
    "        #sc_doi = rec[\"DOI\"]\n",
    "        if len(res[\"hits\"][\"hits\"]) == 0:\n",
    "            True\n",
    "        return False\n",
    "\n",
    "th=0\n",
    "halt = len(data[\"p\"])\n",
    "total = len(scopus)\n",
    "results_p = Parallel(n_jobs=15,backend='threading',verbose=0)(delayed(es_similarity)(rec,True,th) for rec in scopus[0:halt])\n",
    "results_n = Parallel(n_jobs=15,backend='threading',verbose=0)(delayed(es_similarity)(rec,False,th) for rec in scopus[halt:total])\n"
   ]
  },
  {
   "cell_type": "code",
   "execution_count": 13,
   "id": "f9ffd190-2b84-439c-b549-a4ef8acbb1b3",
   "metadata": {},
   "outputs": [],
   "source": [
    "#>tp, tn, fp, fn\n",
    "actual  = np.concatenate((np.ones(halt, dtype=bool), np.zeros(halt, dtype=bool)))\n",
    "predicted = np.concatenate((results_p,results_n))"
   ]
  },
  {
   "cell_type": "code",
   "execution_count": 14,
   "id": "6d0b4511-b51c-4e9b-a7b6-e04db6e5b353",
   "metadata": {},
   "outputs": [
    {
     "data": {
      "image/png": "[encoded data removed]",
      "text/plain": [
       "<Figure size 640x480 with 2 Axes>"
      ]
     },
     "metadata": {},
     "output_type": "display_data"
    }
   ],
   "source": [
    "confusion_matrix = metrics.confusion_matrix(actual, predicted)\n",
    "cm_display = metrics.ConfusionMatrixDisplay(confusion_matrix = confusion_matrix, display_labels = [True, False])\n",
    "\n",
    "cm_display.plot()\n",
    "plt.show()"
   ]
  },
  {
   "cell_type": "code",
   "execution_count": 15,
   "id": "8a7cebbd-f4fd-4b02-ad35-4c33ebc41324",
   "metadata": {},
   "outputs": [
    {
     "name": "stdout",
     "output_type": "stream",
     "text": [
      "Accuracy  = 0.9994\n",
      "Precision = 1.0000\n",
      "Recall    = 0.9988\n",
      "F1        = 0.9994\n"
     ]
    }
   ],
   "source": [
    "acc = metrics.accuracy_score(actual,predicted)\n",
    "pre = metrics.precision_score(actual,predicted)\n",
    "rec = metrics.recall_score(actual,predicted)\n",
    "f1  = metrics.f1_score(actual,predicted)\n",
    "\n",
    "print(f\"Accuracy  = {acc:.4f}\")\n",
    "print(f\"Precision = {pre:.4f}\")\n",
    "print(f\"Recall    = {rec:.4f}\")\n",
    "print(f\"F1        = {f1:.4f}\")\n"
   ]
  },
  {
   "cell_type": "code",
   "execution_count": null,
   "id": "3a8e6b91-0abf-4afc-a161-86543a081830",
   "metadata": {},
   "outputs": [],
   "source": []
  },
  {
   "cell_type": "code",
   "execution_count": 16,
   "id": "51ec41fc-bf93-45f9-a413-2dad08caca4b",
   "metadata": {},
   "outputs": [
    {
     "name": "stdout",
     "output_type": "stream",
     "text": [
      "Ivermectin for crusted Norwegian scabies induced by use of topical steroids\n",
      "10.1001/archderm.134.2.143\n"
     ]
    },
    {
     "data": {
      "text/plain": [
       "{'took': 2,\n",
       " 'timed_out': False,\n",
       " '_shards': {'total': 1, 'successful': 1, 'skipped': 0, 'failed': 0},\n",
       " 'hits': {'total': {'value': 7917, 'relation': 'eq'},\n",
       "  'max_score': 112.95028,\n",
       "  'hits': [{'_index': 'openalex',\n",
       "    '_id': '0',\n",
       "    '_score': 112.95028,\n",
       "    '_source': {'doi': 'https://doi.org/10.1001/archderm.134.2.143',\n",
       "     'title': 'Ivermectin for Crusted Norwegian Scabies Induced by Use of Topical Steroids',\n",
       "     'publication_year': 1998,\n",
       "     'host_venue': {'display_name': 'Archives of Dermatology'},\n",
       "     'authorships': [{'author': {'display_name': 'Felipe Jaramillo-Ayerbe'}},\n",
       "      {'author': {'display_name': 'Joaquín Berrío-Muñoz'}}]}},\n",
       "   {'_index': 'openalex',\n",
       "    '_id': '1',\n",
       "    '_score': 112.95028,\n",
       "    '_source': {'doi': 'https://doi.org/10.1001/archderm.134.2.143',\n",
       "     'title': 'Ivermectin for Crusted Norwegian Scabies Induced by Use of Topical Steroids',\n",
       "     'publication_year': 1998,\n",
       "     'host_venue': {'display_name': 'Archives of Dermatology'},\n",
       "     'authorships': [{'author': {'display_name': 'Felipe Jaramillo-Ayerbe'}},\n",
       "      {'author': {'display_name': 'Joaquín Berrío-Muñoz'}}]}},\n",
       "   {'_index': 'openalex',\n",
       "    '_id': '5003',\n",
       "    '_score': 24.535328,\n",
       "    '_source': {'doi': 'https://doi.org/10.1001/archderm.127.6.888',\n",
       "     'title': \"Multiple oral papules in a native South American girl. Focal epithelial hyperplasia (Heck's disease).\",\n",
       "     'publication_year': 1991,\n",
       "     'host_venue': {'display_name': 'Archives of Dermatology'},\n",
       "     'authorships': [{'author': {'display_name': 'Jaramillo F'}},\n",
       "      {'author': {'display_name': 'Rodríguez G'}}]}},\n",
       "   {'_index': 'openalex',\n",
       "    '_id': '5',\n",
       "    '_score': 18.907564,\n",
       "    '_source': {'doi': 'https://doi.org/10.1001/archderm.1988.01670110009002',\n",
       "     'title': 'Treatment of Localized Vitiligo by Autologous Minigrafting',\n",
       "     'publication_year': 1988,\n",
       "     'host_venue': {'display_name': 'Archives of Dermatology'},\n",
       "     'authorships': [{'author': {'display_name': 'Rafael Falabella'}}]}},\n",
       "   {'_index': 'openalex',\n",
       "    '_id': '4',\n",
       "    '_score': 18.070599,\n",
       "    '_source': {'doi': 'https://doi.org/10.1001/archderm.143.11.1415',\n",
       "     'title': 'Functional Dysregulation of Dendritic Cells in Patients With Papular Urticaria Caused by Fleabite',\n",
       "     'publication_year': 2007,\n",
       "     'host_venue': {'display_name': 'Archives of Dermatology'},\n",
       "     'authorships': [{'author': {'display_name': 'Adriana Cuéllar'}},\n",
       "      {'author': {'display_name': 'Elizabeth García'}},\n",
       "      {'author': {'display_name': 'Adriana Rodríguez'}},\n",
       "      {'author': {'display_name': 'Evelyne Halpert'}},\n",
       "      {'author': {'display_name': 'Alberto Gómez'}}]}},\n",
       "   {'_index': 'openalex',\n",
       "    '_id': '7935',\n",
       "    '_score': 18.037941,\n",
       "    '_source': {'doi': 'https://doi.org/10.1007/978-3-030-84107-2_14',\n",
       "     'title': 'Inflammatory Diseases Induced by Ultraviolet Radiation',\n",
       "     'publication_year': 2022,\n",
       "     'host_venue': {'display_name': 'Atlas of Dermatology'},\n",
       "     'authorships': [{'author': {'display_name': 'Adriana Motta'}},\n",
       "      {'author': {'display_name': 'Luis Fernando González'}},\n",
       "      {'author': {'display_name': 'Gonzalo García'}},\n",
       "      {'author': {'display_name': 'Jennifer Guzmán'}},\n",
       "      {'author': {'display_name': 'Lorena Prada'}},\n",
       "      {'author': {'display_name': 'Hugo Herrera'}},\n",
       "      {'author': {'display_name': 'Mariam Rolon'}}]}},\n",
       "   {'_index': 'openalex',\n",
       "    '_id': '7959',\n",
       "    '_score': 18.037941,\n",
       "    '_source': {'doi': 'https://doi.org/10.1007/978-3-030-84107-2_7',\n",
       "     'title': 'Inflammatory Skin Diseases Induced by Drugs',\n",
       "     'publication_year': 2022,\n",
       "     'host_venue': {'display_name': 'Atlas of Dermatology'},\n",
       "     'authorships': [{'author': {'display_name': 'Adriana Motta'}},\n",
       "      {'author': {'display_name': 'Luis Fernando González'}},\n",
       "      {'author': {'display_name': 'Gonzalo García'}},\n",
       "      {'author': {'display_name': 'Jennifer Guzmán'}},\n",
       "      {'author': {'display_name': 'Lorena Prada'}},\n",
       "      {'author': {'display_name': 'Hugo Herrera'}},\n",
       "      {'author': {'display_name': 'Mariam Rolon'}}]}},\n",
       "   {'_index': 'openalex',\n",
       "    '_id': '6',\n",
       "    '_score': 16.572094,\n",
       "    '_source': {'doi': 'https://doi.org/10.1001/archdermatol.2010.48',\n",
       "     'title': 'The Expanding Spectrum of Eschar-Associated Rickettsioses in the United States',\n",
       "     'publication_year': 2010,\n",
       "     'host_venue': {'display_name': 'Archives of Dermatology'},\n",
       "     'authorships': [{'author': {'display_name': 'W. Chad Cragun'}},\n",
       "      {'author': {'display_name': 'Brenda L. Bartlett'}},\n",
       "      {'author': {'display_name': 'Michael W. Ellis'}},\n",
       "      {'author': {'display_name': 'Aaron Z. Hoover'}},\n",
       "      {'author': {'display_name': 'Stephen K. Tyring'}},\n",
       "      {'author': {'display_name': 'Natalia Mendoza'}},\n",
       "      {'author': {'display_name': 'Todd J. Vento'}},\n",
       "      {'author': {'display_name': 'William L. Nicholson'}},\n",
       "      {'author': {'display_name': 'Marina E. Eremeeva'}},\n",
       "      {'author': {'display_name': 'Juan P. Olano'}},\n",
       "      {'author': {'display_name': 'Ronald P. Rapini'}},\n",
       "      {'author': {'display_name': 'Christopher D. Paddock'}}]}},\n",
       "   {'_index': 'openalex',\n",
       "    '_id': '7',\n",
       "    '_score': 16.572094,\n",
       "    '_source': {'doi': 'https://doi.org/10.1001/archdermatol.2010.48',\n",
       "     'title': 'The Expanding Spectrum of Eschar-Associated Rickettsioses in the United States',\n",
       "     'publication_year': 2010,\n",
       "     'host_venue': {'display_name': 'Archives of Dermatology'},\n",
       "     'authorships': [{'author': {'display_name': 'W. Chad Cragun'}},\n",
       "      {'author': {'display_name': 'Brenda L. Bartlett'}},\n",
       "      {'author': {'display_name': 'Michael W. Ellis'}},\n",
       "      {'author': {'display_name': 'Aaron Z. Hoover'}},\n",
       "      {'author': {'display_name': 'Stephen K. Tyring'}},\n",
       "      {'author': {'display_name': 'Natalia Mendoza'}},\n",
       "      {'author': {'display_name': 'Todd J. Vento'}},\n",
       "      {'author': {'display_name': 'William L. Nicholson'}},\n",
       "      {'author': {'display_name': 'Marina E. Eremeeva'}},\n",
       "      {'author': {'display_name': 'Juan P. Olano'}},\n",
       "      {'author': {'display_name': 'Ronald P. Rapini'}},\n",
       "      {'author': {'display_name': 'Christopher D. Paddock'}}]}},\n",
       "   {'_index': 'openalex',\n",
       "    '_id': '8',\n",
       "    '_score': 16.572094,\n",
       "    '_source': {'doi': 'https://doi.org/10.1001/archdermatol.2010.48',\n",
       "     'title': 'The Expanding Spectrum of Eschar-Associated Rickettsioses in the United States',\n",
       "     'publication_year': 2010,\n",
       "     'host_venue': {'display_name': 'Archives of Dermatology'},\n",
       "     'authorships': [{'author': {'display_name': 'W. Chad Cragun'}},\n",
       "      {'author': {'display_name': 'Brenda L. Bartlett'}},\n",
       "      {'author': {'display_name': 'Michael W. Ellis'}},\n",
       "      {'author': {'display_name': 'Aaron Z. Hoover'}},\n",
       "      {'author': {'display_name': 'Stephen K. Tyring'}},\n",
       "      {'author': {'display_name': 'Natalia Mendoza'}},\n",
       "      {'author': {'display_name': 'Todd J. Vento'}},\n",
       "      {'author': {'display_name': 'William L. Nicholson'}},\n",
       "      {'author': {'display_name': 'Marina E. Eremeeva'}},\n",
       "      {'author': {'display_name': 'Juan P. Olano'}},\n",
       "      {'author': {'display_name': 'Ronald P. Rapini'}},\n",
       "      {'author': {'display_name': 'Christopher D. Paddock'}}]}}]}}"
      ]
     },
     "execution_count": 16,
     "metadata": {},
     "output_type": "execute_result"
    }
   ],
   "source": [
    "rec = scopus[0]\n",
    "print(rec[\"Title\"])\n",
    "print(rec[\"DOI\"])\n",
    "res = search(rec['Title'],rec['Authors'],rec['Source title'],rec['Year'],0)\n",
    "res"
   ]
  },
  {
   "cell_type": "code",
   "execution_count": 17,
   "id": "55ecdf1f-dec1-40b2-a92c-06cac229c43b",
   "metadata": {},
   "outputs": [
    {
     "ename": "NameError",
     "evalue": "name 'search_doi' is not defined",
     "output_type": "error",
     "traceback": [
      "\u001b[0;31m---------------------------------------------------------------------------\u001b[0m",
      "\u001b[0;31mNameError\u001b[0m                                 Traceback (most recent call last)",
      "Cell \u001b[0;32mIn[17], line 1\u001b[0m\n\u001b[0;32m----> 1\u001b[0m \u001b[43msearch_doi\u001b[49m(rec[\u001b[38;5;124m\"\u001b[39m\u001b[38;5;124mDOI\u001b[39m\u001b[38;5;124m\"\u001b[39m])\n",
      "\u001b[0;31mNameError\u001b[0m: name 'search_doi' is not defined"
     ]
    }
   ],
   "source": [
    "search_doi(rec[\"DOI\"])\n"
   ]
  },
  {
   "cell_type": "code",
   "execution_count": null,
   "id": "66b97c4a-3827-4c67-b8cc-72dd2498aa14",
   "metadata": {},
   "outputs": [],
   "source": [
    "if \"10.1001/archderm.134.2.143\" in n_dois:\n",
    "    print(\"fond\")"
   ]
  },
  {
   "cell_type": "code",
   "execution_count": null,
   "id": "a3f4233f-903e-4c05-ba37-27af05a6c8b4",
   "metadata": {},
   "outputs": [],
   "source": [
    "res"
   ]
  },
  {
   "cell_type": "code",
   "execution_count": null,
   "id": "a53b364b-db45-49ca-9947-f7efbd44028c",
   "metadata": {},
   "outputs": [],
   "source": [
    "print(rec[\"Title\"])\n",
    "#print(rec[\"Title\"])\n",
    "\n",
    "oa_doi = get_oa_doi(res[\"hits\"][\"hits\"][0])\n",
    "sc_doi = rec[\"DOI\"]\n",
    "print(oa_doi,sc_doi)\n",
    "fuzz.token_sort_ratio(oa_doi,sc_doi)\n"
   ]
  },
  {
   "cell_type": "code",
   "execution_count": null,
   "id": "803fce39-e1e4-4fd2-9794-c75351447406",
   "metadata": {},
   "outputs": [],
   "source": []
  },
  {
   "cell_type": "code",
   "execution_count": null,
   "id": "6edb0de2-9953-4d34-a7f7-c946692868bb",
   "metadata": {},
   "outputs": [],
   "source": [
    "rec = scopus[0]\n",
    "print(rec[\"DOI\"])\n",
    "search_doi(rec[\"DOI\"])"
   ]
  },
  {
   "cell_type": "code",
   "execution_count": null,
   "id": "d6b24d25-6bc6-4713-b774-e73dc4ada995",
   "metadata": {},
   "outputs": [],
   "source": [
    "%%time\n",
    "count = 0\n",
    "for rec in scopus[0:1000]:\n",
    "    res = search(rec['Title'],rec['Authors'],rec['Source title'],rec['Year'])\n",
    "    count +=1\n",
    "    if count%1000 == 0:\n",
    "        print(count)"
   ]
  },
  {
   "cell_type": "code",
   "execution_count": null,
   "id": "7f65b285-386e-4691-bbee-347f15a84946",
   "metadata": {},
   "outputs": [],
   "source": []
  },
  {
   "cell_type": "code",
   "execution_count": null,
   "id": "99437ef5-5cff-44ad-8b20-99911b6c8acf",
   "metadata": {},
   "outputs": [],
   "source": []
  }
 ],
 "metadata": {
  "kernelspec": {
   "display_name": "Python 3 (ipykernel)",
   "language": "python",
   "name": "python3"
  },
  "language_info": {
   "codemirror_mode": {
    "name": "ipython",
    "version": 3
   },
   "file_extension": ".py",
   "mimetype": "text/x-python",
   "name": "python",
   "nbconvert_exporter": "python",
   "pygments_lexer": "ipython3",
   "version": "3.11.4"
  }
 },
 "nbformat": 4,
 "nbformat_minor": 5
}
