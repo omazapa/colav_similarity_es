{
 "cells": [
  {
   "cell_type": "code",
   "execution_count": 55,
   "id": "708b9f0b-9305-4e07-845c-59aeccd856b3",
   "metadata": {},
   "outputs": [],
   "source": [
    "from pymongo import MongoClient\n",
    "from elasticsearch import Elasticsearch, helpers\n",
    "import requests\n",
    "from IPython.display import JSON\n",
    "import numpy as np\n",
    "from fuzzywuzzy import fuzz\n",
    "from joblib import Parallel, delayed\n",
    "import pickle\n",
    "import matplotlib.pyplot as plt\n",
    "import numpy\n",
    "from sklearn import metrics"
   ]
  },
  {
   "cell_type": "code",
   "execution_count": 12,
   "id": "85c9b460-8582-4449-992c-04ce74d3ccfc",
   "metadata": {},
   "outputs": [],
   "source": [
    "es = Elasticsearch()"
   ]
  },
  {
   "cell_type": "code",
   "execution_count": 19,
   "id": "4743a24f-e166-4894-8177-dbe6c52814a8",
   "metadata": {},
   "outputs": [],
   "source": [
    "# open a file, where you stored the pickled data\n",
    "file = open('dataset.pkl', 'rb')\n",
    "# dump information to that file\n",
    "data = pickle.load(file)\n",
    "# close the file\n",
    "file.close()"
   ]
  },
  {
   "cell_type": "code",
   "execution_count": 20,
   "id": "ead3c6c0-b35e-4455-9a6a-5b764337a5f6",
   "metadata": {},
   "outputs": [
    {
     "data": {
      "text/plain": [
       "3000"
      ]
     },
     "execution_count": 20,
     "metadata": {},
     "output_type": "execute_result"
    }
   ],
   "source": [
    "len(data[\"p\"])"
   ]
  },
  {
   "cell_type": "code",
   "execution_count": 21,
   "id": "345fb1b9-d27e-4d48-bf6b-a5421f8c8c1f",
   "metadata": {},
   "outputs": [
    {
     "data": {
      "text/plain": [
       "3000"
      ]
     },
     "execution_count": 21,
     "metadata": {},
     "output_type": "execute_result"
    }
   ],
   "source": [
    "len(data[\"n\"])"
   ]
  },
  {
   "cell_type": "code",
   "execution_count": 27,
   "id": "7d83326c-d441-4dc3-b39a-0a5cd3a4192a",
   "metadata": {},
   "outputs": [],
   "source": [
    "p_dois=[]\n",
    "n_dois=[]\n",
    "openalex = []\n",
    "scopus = []\n",
    "for i in data[\"p\"]:\n",
    "    p_dois.append(i[0][\"DOI\"])\n",
    "    openalex.append(i[1])\n",
    "    scopus.append(i[0])\n",
    "for i in data[\"n\"]:\n",
    "    n_dois.append(i[0][\"DOI\"])\n",
    "    openalex.append(i[1])\n",
    "    scopus.append(i[0])"
   ]
  },
  {
   "cell_type": "code",
   "execution_count": 23,
   "id": "8e93091a-83f7-44c7-a1d1-285b6adbefdb",
   "metadata": {},
   "outputs": [],
   "source": [
    "es_index = \"openalex\"\n",
    "recreate = True\n",
    "if recreate:\n",
    "    if es.indices.exists(index=es_index):\n",
    "        es.indices.delete(index=es_index)\n",
    "if not es.indices.exists(index=es_index):\n",
    "    es.indices.create(index=es_index)"
   ]
  },
  {
   "cell_type": "code",
   "execution_count": 24,
   "id": "27f8ce5f-14d0-464d-8e17-a4c29b9b6fb6",
   "metadata": {},
   "outputs": [],
   "source": [
    "if recreate:\n",
    "    request_timeout = 60\n",
    "    bulk_size = 100\n",
    "\n",
    "    es_entries = []\n",
    "    counter = 0\n",
    "    for i in openalex:\n",
    "        entry = {\"_index\": es_index,\n",
    "                 \"_id\": counter,\n",
    "                 \"_source\": i}\n",
    "        es_entries.append(entry)\n",
    "        if len(es_entries) == bulk_size:\n",
    "            helpers.bulk(es, es_entries, refresh=True,request_timeout=request_timeout)\n",
    "            es_entries = []\n",
    "        counter +=1"
   ]
  },
  {
   "cell_type": "code",
   "execution_count": 39,
   "id": "6058f012-1ece-40f8-ad7a-85c610d908ad",
   "metadata": {},
   "outputs": [],
   "source": [
    "def get_oa_doi(es_reg):\n",
    "    for i in es_reg[\"_source\"]['external_ids']:\n",
    "        if i['source'] == \"doi\":\n",
    "            return i[\"id\"]\n",
    "\n",
    "\n",
    "def get_oa_doi(es_reg):\n",
    "    return es_reg[\"_source\"]['external_ids'][\"id\"]\n"
   ]
  },
  {
   "cell_type": "code",
   "execution_count": 40,
   "id": "9579759a-ea77-4b5d-8552-997ebad85c50",
   "metadata": {},
   "outputs": [],
   "source": [
    "def search(Title, Authors, Source, Year, punto_de_corte = 80.0):\n",
    "    \"\"\"\n",
    "    Definir el valor mínimo del _score que deseas\n",
    "    Puedes ajustar este valor según tus necesidades\n",
    "\n",
    "    \"\"\"\n",
    "    body = {\n",
    "        \"query\": {\n",
    "            \"bool\": {\n",
    "                \"should\": [\n",
    "                    { \"match\": { \"titles.title\":  Title }},\n",
    "                    { \"match\": { \"authors.full_name\": Authors }},\n",
    "                    { \"match\": { \"source.names.name\":  Source}},\n",
    "                    { \"match\": { \"year_published\": Year }}\n",
    "                ]\n",
    "            }\n",
    "        },\n",
    "        \"size\": 10\n",
    "    }\n",
    "    \n",
    "    res = es.search(index=es_index, **body)\n",
    "    hits = []\n",
    "    \n",
    "    for i in res[\"hits\"][\"hits\"]:\n",
    "        if i[\"_score\"] >= punto_de_corte:\n",
    "            hits.append(i)\n",
    "    res[\"hits\"][\"hits\"] = hits\n",
    "    return  res\n",
    "\n",
    "def search_doi(doi, punto_de_corte = 20.0):\n",
    "    body = {\n",
    "      \"query\": {\n",
    "        \"bool\": {\n",
    "          \"must\": \n",
    "            { \"match\": { \"external_ids.id\":  doi }}              \n",
    "        }\n",
    "      },\n",
    "      \"size\": 5,\n",
    "    }\n",
    "    res = es.search(index=es_index, **body)\n",
    "    hits = []\n",
    "    for i in res[\"hits\"][\"hits\"]:\n",
    "        if i[\"_score\"] >= punto_de_corte:\n",
    "            hits.append(i)\n",
    "    res[\"hits\"][\"hits\"] = hits\n",
    "    return res"
   ]
  },
  {
   "cell_type": "code",
   "execution_count": 99,
   "id": "c81680b0-1e0b-4a5b-962b-3b17c341edda",
   "metadata": {},
   "outputs": [
    {
     "name": "stdout",
     "output_type": "stream",
     "text": [
      "CPU times: user 4.61 s, sys: 976 ms, total: 5.59 s\n",
      "Wall time: 4.71 s\n"
     ]
    }
   ],
   "source": [
    "%%time\n",
    "def es_similarity(rec,p,th):\n",
    "    res = search(rec['Title'],rec['Authors'],rec['Source title'],rec['Year'],th)\n",
    "    if p:\n",
    "        if len(res[\"hits\"][\"hits\"]) > 1:\n",
    "            oa_doi = get_oa_doi(res[\"hits\"][\"hits\"][0])\n",
    "            sc_doi = rec[\"DOI\"]\n",
    "            if oa_doi == sc_doi and oa_doi in p_dois:\n",
    "                return True\n",
    "        return False\n",
    "    else:\n",
    "        sc_doi = rec[\"DOI\"]\n",
    "        res_doi = search_doi(sc_doi)\n",
    "        if len(res_doi[\"hits\"][\"hits\"]) == 0:\n",
    "            True\n",
    "        return False\n",
    "\n",
    "th=20\n",
    "results_p = Parallel(n_jobs=15,backend='threading',verbose=0)(delayed(es_similarity)(rec,True,th) for rec in scopus[0:3000])\n",
    "results_n = Parallel(n_jobs=15,backend='threading',verbose=0)(delayed(es_similarity)(rec,False,th) for rec in scopus[3000:6000])\n"
   ]
  },
  {
   "cell_type": "code",
   "execution_count": 100,
   "id": "f9ffd190-2b84-439c-b549-a4ef8acbb1b3",
   "metadata": {},
   "outputs": [],
   "source": [
    "#>tp, tn, fp, fn\n",
    "actual  = np.concatenate((np.ones(3000, dtype=bool), np.zeros(3000, dtype=bool)))\n",
    "predicted = np.concatenate((results_p,results_n))"
   ]
  },
  {
   "cell_type": "code",
   "execution_count": 101,
   "id": "6d0b4511-b51c-4e9b-a7b6-e04db6e5b353",
   "metadata": {},
   "outputs": [
    {
     "data": {
      "image/png": "[encoded data removed]",
      "text/plain": [
       "<Figure size 640x480 with 2 Axes>"
      ]
     },
     "metadata": {},
     "output_type": "display_data"
    }
   ],
   "source": [
    "confusion_matrix = metrics.confusion_matrix(actual, predicted)\n",
    "cm_display = metrics.ConfusionMatrixDisplay(confusion_matrix = confusion_matrix, display_labels = [True, False])\n",
    "\n",
    "cm_display.plot()\n",
    "plt.show()"
   ]
  },
  {
   "cell_type": "code",
   "execution_count": 102,
   "id": "8a7cebbd-f4fd-4b02-ad35-4c33ebc41324",
   "metadata": {},
   "outputs": [
    {
     "name": "stdout",
     "output_type": "stream",
     "text": [
      "Accuracy  = 0.9795\n",
      "Precision = 1.0\n",
      "Recall    = 0.959\n"
     ]
    }
   ],
   "source": [
    "acc = metrics.accuracy_score(actual,predicted)\n",
    "pre = metrics.precision_score(actual,predicted)\n",
    "rec = metrics.recall_score(actual,predicted)\n",
    "\n",
    "print(f\"Accuracy  = {acc}\")\n",
    "print(f\"Precision = {pre}\")\n",
    "print(f\"Recall    = {rec}\")\n"
   ]
  },
  {
   "cell_type": "code",
   "execution_count": null,
   "id": "3a8e6b91-0abf-4afc-a161-86543a081830",
   "metadata": {},
   "outputs": [],
   "source": []
  },
  {
   "cell_type": "code",
   "execution_count": 83,
   "id": "51ec41fc-bf93-45f9-a413-2dad08caca4b",
   "metadata": {},
   "outputs": [
    {
     "name": "stdout",
     "output_type": "stream",
     "text": [
      "Novel technique for the calculation of eddy current losses and Lorentz forces in foil winding transformers\n",
      "10..3233/JAE-160144\n"
     ]
    },
    {
     "data": {
      "text/plain": [
       "{'took': 2,\n",
       " 'timed_out': False,\n",
       " '_shards': {'total': 1, 'successful': 1, 'skipped': 0, 'failed': 0},\n",
       " 'hits': {'total': {'value': 5270, 'relation': 'eq'},\n",
       "  'max_score': 23.00544,\n",
       "  'hits': []}}"
      ]
     },
     "execution_count": 83,
     "metadata": {},
     "output_type": "execute_result"
    }
   ],
   "source": [
    "rec = scopus[3001]\n",
    "print(rec[\"Title\"])\n",
    "print(rec[\"DOI\"])\n",
    "res = search(rec['Title'],rec['Authors'],rec['Source title'],rec['Year'],80)\n",
    "res"
   ]
  },
  {
   "cell_type": "code",
   "execution_count": null,
   "id": "55ecdf1f-dec1-40b2-a92c-06cac229c43b",
   "metadata": {},
   "outputs": [],
   "source": [
    "search_doi(rec[\"DOI\"])\n"
   ]
  },
  {
   "cell_type": "code",
   "execution_count": 34,
   "id": "66b97c4a-3827-4c67-b8cc-72dd2498aa14",
   "metadata": {},
   "outputs": [],
   "source": [
    "if \"10.1001/archderm.134.2.143\" in n_dois:\n",
    "    print(\"fond\")"
   ]
  },
  {
   "cell_type": "code",
   "execution_count": null,
   "id": "a3f4233f-903e-4c05-ba37-27af05a6c8b4",
   "metadata": {},
   "outputs": [],
   "source": [
    "res"
   ]
  },
  {
   "cell_type": "code",
   "execution_count": null,
   "id": "a53b364b-db45-49ca-9947-f7efbd44028c",
   "metadata": {},
   "outputs": [],
   "source": [
    "print(rec[\"Title\"])\n",
    "#print(rec[\"Title\"])\n",
    "\n",
    "oa_doi = get_oa_doi(res[\"hits\"][\"hits\"][0])\n",
    "sc_doi = rec[\"DOI\"]\n",
    "print(oa_doi,sc_doi)\n",
    "fuzz.token_sort_ratio(oa_doi,sc_doi)\n"
   ]
  },
  {
   "cell_type": "code",
   "execution_count": null,
   "id": "803fce39-e1e4-4fd2-9794-c75351447406",
   "metadata": {},
   "outputs": [],
   "source": []
  },
  {
   "cell_type": "code",
   "execution_count": null,
   "id": "6edb0de2-9953-4d34-a7f7-c946692868bb",
   "metadata": {},
   "outputs": [],
   "source": [
    "rec = scopus[0]\n",
    "print(rec[\"DOI\"])\n",
    "search_doi(rec[\"DOI\"])"
   ]
  },
  {
   "cell_type": "code",
   "execution_count": null,
   "id": "d6b24d25-6bc6-4713-b774-e73dc4ada995",
   "metadata": {},
   "outputs": [],
   "source": [
    "%%time\n",
    "count = 0\n",
    "for rec in scopus[0:1000]:\n",
    "    res = search(rec['Title'],rec['Authors'],rec['Source title'],rec['Year'])\n",
    "    count +=1\n",
    "    if count%1000 == 0:\n",
    "        print(count)"
   ]
  },
  {
   "cell_type": "code",
   "execution_count": null,
   "id": "7f65b285-386e-4691-bbee-347f15a84946",
   "metadata": {},
   "outputs": [],
   "source": []
  }
 ],
 "metadata": {
  "kernelspec": {
   "display_name": "Python 3 (ipykernel)",
   "language": "python",
   "name": "python3"
  },
  "language_info": {
   "codemirror_mode": {
    "name": "ipython",
    "version": 3
   },
   "file_extension": ".py",
   "mimetype": "text/x-python",
   "name": "python",
   "nbconvert_exporter": "python",
   "pygments_lexer": "ipython3",
   "version": "3.11.4"
  }
 },
 "nbformat": 4,
 "nbformat_minor": 5
}
