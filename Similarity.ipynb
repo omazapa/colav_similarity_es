{
 "cells": [
  {
   "cell_type": "code",
   "execution_count": 1,
   "id": "708b9f0b-9305-4e07-845c-59aeccd856b3",
   "metadata": {},
   "outputs": [],
   "source": [
    "from pymongo import MongoClient\n",
    "from elasticsearch import Elasticsearch, helpers\n",
    "import requests\n",
    "from IPython.display import JSON\n",
    "import numpy as np\n",
    "from fuzzywuzzy import fuzz\n",
    "from joblib import Parallel, delayed\n",
    "import pickle\n",
    "import matplotlib.pyplot as plt\n",
    "import numpy\n",
    "from sklearn import metrics"
   ]
  },
  {
   "cell_type": "code",
   "execution_count": 2,
   "id": "85c9b460-8582-4449-992c-04ce74d3ccfc",
   "metadata": {},
   "outputs": [],
   "source": [
    "es = Elasticsearch()"
   ]
  },
  {
   "cell_type": "code",
   "execution_count": 3,
   "id": "4743a24f-e166-4894-8177-dbe6c52814a8",
   "metadata": {},
   "outputs": [],
   "source": [
    "# open a file, where you stored the pickled data\n",
    "file = open('dataset.pkl', 'rb')\n",
    "# dump information to that file\n",
    "data = pickle.load(file)\n",
    "# close the file\n",
    "file.close()"
   ]
  },
  {
   "cell_type": "code",
   "execution_count": 4,
   "id": "ead3c6c0-b35e-4455-9a6a-5b764337a5f6",
   "metadata": {},
   "outputs": [
    {
     "data": {
      "text/plain": [
       "5000"
      ]
     },
     "execution_count": 4,
     "metadata": {},
     "output_type": "execute_result"
    }
   ],
   "source": [
    "len(data[\"p\"])"
   ]
  },
  {
   "cell_type": "code",
   "execution_count": 5,
   "id": "345fb1b9-d27e-4d48-bf6b-a5421f8c8c1f",
   "metadata": {},
   "outputs": [
    {
     "data": {
      "text/plain": [
       "5000"
      ]
     },
     "execution_count": 5,
     "metadata": {},
     "output_type": "execute_result"
    }
   ],
   "source": [
    "len(data[\"n\"])"
   ]
  },
  {
   "cell_type": "code",
   "execution_count": 6,
   "id": "7d83326c-d441-4dc3-b39a-0a5cd3a4192a",
   "metadata": {},
   "outputs": [],
   "source": [
    "p_dois=[]\n",
    "n_dois=[]\n",
    "openalex = []\n",
    "scopus = []\n",
    "for i in data[\"p\"]:\n",
    "    p_dois.append(i[0][\"DOI\"])\n",
    "    openalex.append(i[1])\n",
    "    scopus.append(i[0])\n",
    "for i in data[\"n\"]:\n",
    "    n_dois.append(i[0][\"DOI\"])\n",
    "    openalex.append(i[1])\n",
    "    scopus.append(i[0])"
   ]
  },
  {
   "cell_type": "code",
   "execution_count": 7,
   "id": "8e93091a-83f7-44c7-a1d1-285b6adbefdb",
   "metadata": {},
   "outputs": [],
   "source": [
    "es_index = \"openalex\"\n",
    "recreate = True\n",
    "if recreate:\n",
    "    if es.indices.exists(index=es_index):\n",
    "        es.indices.delete(index=es_index)\n",
    "if not es.indices.exists(index=es_index):\n",
    "    es.indices.create(index=es_index)"
   ]
  },
  {
   "cell_type": "code",
   "execution_count": 8,
   "id": "27f8ce5f-14d0-464d-8e17-a4c29b9b6fb6",
   "metadata": {},
   "outputs": [],
   "source": [
    "if recreate:\n",
    "    request_timeout = 60\n",
    "    bulk_size = 100\n",
    "\n",
    "    es_entries = []\n",
    "    counter = 0\n",
    "    for i in openalex:\n",
    "        entry = {\"_index\": es_index,\n",
    "                 \"_id\": counter,\n",
    "                 \"_source\": i}\n",
    "        es_entries.append(entry)\n",
    "        if len(es_entries) == bulk_size:\n",
    "            helpers.bulk(es, es_entries, refresh=True,request_timeout=request_timeout)\n",
    "            es_entries = []\n",
    "        counter +=1"
   ]
  },
  {
   "cell_type": "code",
   "execution_count": 9,
   "id": "6058f012-1ece-40f8-ad7a-85c610d908ad",
   "metadata": {},
   "outputs": [],
   "source": [
    "def get_oa_doi(es_reg):\n",
    "    for i in es_reg[\"_source\"]['external_ids']:\n",
    "        if i['source'] == \"doi\":\n",
    "            return i[\"id\"]\n",
    "\n",
    "\n",
    "def get_oa_doi(es_reg):\n",
    "    return es_reg[\"_source\"]['external_ids'][\"id\"]\n"
   ]
  },
  {
   "cell_type": "code",
   "execution_count": 10,
   "id": "9579759a-ea77-4b5d-8552-997ebad85c50",
   "metadata": {},
   "outputs": [],
   "source": [
    "def search(Title, Authors, Source, Year, punto_de_corte = 80.0):\n",
    "    \"\"\"\n",
    "    Definir el valor mínimo del _score que deseas\n",
    "    Puedes ajustar este valor según tus necesidades\n",
    "\n",
    "    \"\"\"\n",
    "    body = {\n",
    "        \"query\": {\n",
    "            \"bool\": {\n",
    "                \"should\": [\n",
    "                    { \"match\": { \"titles.title\":  Title }},\n",
    "                    { \"match\": { \"authors.full_name\": Authors }},\n",
    "                    { \"match\": { \"source.names.name\":  Source}},\n",
    "                    { \"match\": { \"year_published\": Year }}\n",
    "                ]\n",
    "            }\n",
    "        },\n",
    "        \"size\": 10\n",
    "    }\n",
    "    \n",
    "    res = es.search(index=es_index, **body)\n",
    "    hits = []\n",
    "    \n",
    "    for i in res[\"hits\"][\"hits\"]:\n",
    "        if i[\"_score\"] >= punto_de_corte:\n",
    "            hits.append(i)\n",
    "    res[\"hits\"][\"hits\"] = hits\n",
    "    return  res\n",
    "\n",
    "# def search_doi(doi, punto_de_corte = 20.0):\n",
    "#     body = {\n",
    "#       \"query\": {\n",
    "#         \"bool\": {\n",
    "#           \"must\": \n",
    "#             { \"match\": { \"external_ids.id\":  doi }}              \n",
    "#         }\n",
    "#       },\n",
    "#       \"size\": 5,\n",
    "#     }\n",
    "#     res = es.search(index=es_index, **body)\n",
    "#     hits = []\n",
    "#     for i in res[\"hits\"][\"hits\"]:\n",
    "#         if i[\"_score\"] >= punto_de_corte:\n",
    "#             hits.append(i)\n",
    "#     res[\"hits\"][\"hits\"] = hits\n",
    "#     return res"
   ]
  },
  {
   "cell_type": "code",
   "execution_count": 11,
   "id": "c81680b0-1e0b-4a5b-962b-3b17c341edda",
   "metadata": {},
   "outputs": [
    {
     "name": "stdout",
     "output_type": "stream",
     "text": [
      "CPU times: user 5.17 s, sys: 905 ms, total: 6.07 s\n",
      "Wall time: 5.17 s\n"
     ]
    }
   ],
   "source": [
    "%%time\n",
    "\n",
    "def es_similarity(rec,p,th):\n",
    "    res = search(rec['Title'],rec['Authors'],rec['Source title'],rec['Year'],th)\n",
    "    if p:\n",
    "        if len(res[\"hits\"][\"hits\"]) > 1:\n",
    "            oa_doi = get_oa_doi(res[\"hits\"][\"hits\"][0])\n",
    "            sc_doi = rec[\"DOI\"]\n",
    "            if oa_doi == sc_doi and oa_doi in p_dois:\n",
    "                return True\n",
    "        return False\n",
    "    else:\n",
    "        sc_doi = rec[\"DOI\"]\n",
    "        if len(res[\"hits\"][\"hits\"]) == 0:\n",
    "            True\n",
    "        return False\n",
    "\n",
    "th=0\n",
    "halt = len(data[\"p\"])\n",
    "total = len(scopus)\n",
    "results_p = Parallel(n_jobs=15,backend='threading',verbose=0)(delayed(es_similarity)(rec,True,th) for rec in scopus[0:halt])\n",
    "results_n = Parallel(n_jobs=15,backend='threading',verbose=0)(delayed(es_similarity)(rec,False,th) for rec in scopus[halt:total])\n"
   ]
  },
  {
   "cell_type": "code",
   "execution_count": 12,
   "id": "f9ffd190-2b84-439c-b549-a4ef8acbb1b3",
   "metadata": {},
   "outputs": [],
   "source": [
    "#>tp, tn, fp, fn\n",
    "actual  = np.concatenate((np.ones(halt, dtype=bool), np.zeros(halt, dtype=bool)))\n",
    "predicted = np.concatenate((results_p,results_n))"
   ]
  },
  {
   "cell_type": "code",
   "execution_count": 13,
   "id": "6d0b4511-b51c-4e9b-a7b6-e04db6e5b353",
   "metadata": {},
   "outputs": [
    {
     "data": {
      "image/png": "[encoded data removed]",
      "text/plain": [
       "<Figure size 640x480 with 2 Axes>"
      ]
     },
     "metadata": {},
     "output_type": "display_data"
    }
   ],
   "source": [
    "confusion_matrix = metrics.confusion_matrix(actual, predicted)\n",
    "cm_display = metrics.ConfusionMatrixDisplay(confusion_matrix = confusion_matrix, display_labels = [True, False])\n",
    "\n",
    "cm_display.plot()\n",
    "plt.show()"
   ]
  },
  {
   "cell_type": "code",
   "execution_count": 14,
   "id": "8a7cebbd-f4fd-4b02-ad35-4c33ebc41324",
   "metadata": {},
   "outputs": [
    {
     "name": "stdout",
     "output_type": "stream",
     "text": [
      "Accuracy  = 0.9992\n",
      "Precision = 1.0000\n",
      "Recall    = 0.9984\n",
      "F1        = 0.9992\n"
     ]
    }
   ],
   "source": [
    "acc = metrics.accuracy_score(actual,predicted)\n",
    "pre = metrics.precision_score(actual,predicted)\n",
    "rec = metrics.recall_score(actual,predicted)\n",
    "f1  = metrics.f1_score(actual,predicted)\n",
    "\n",
    "print(f\"Accuracy  = {acc:.4f}\")\n",
    "print(f\"Precision = {pre:.4f}\")\n",
    "print(f\"Recall    = {rec:.4f}\")\n",
    "print(f\"F1        = {f1:.4f}\")\n"
   ]
  },
  {
   "cell_type": "code",
   "execution_count": null,
   "id": "3a8e6b91-0abf-4afc-a161-86543a081830",
   "metadata": {},
   "outputs": [],
   "source": []
  },
  {
   "cell_type": "code",
   "execution_count": 15,
   "id": "51ec41fc-bf93-45f9-a413-2dad08caca4b",
   "metadata": {},
   "outputs": [
    {
     "name": "stdout",
     "output_type": "stream",
     "text": [
      "Development of a high granularity photovoltaic model that considers complex nonuniform shadow conditions and different cell temperatures\n",
      "10.1007/978-3-030-56970-9_4\n"
     ]
    },
    {
     "data": {
      "text/plain": [
       "{'took': 2,\n",
       " 'timed_out': False,\n",
       " '_shards': {'total': 1, 'successful': 1, 'skipped': 0, 'failed': 0},\n",
       " 'hits': {'total': {'value': 8802, 'relation': 'eq'},\n",
       "  'max_score': 173.34668,\n",
       "  'hits': [{'_index': 'openalex',\n",
       "    '_id': '4010',\n",
       "    '_score': 173.34668,\n",
       "    '_source': {'titles': [{'title': 'Development of a high granularity photovoltaic model that considers complex nonuniform shadow conditions and different cell temperatures'},\n",
       "      {'title': 'Development of a high granularity photovoltaic model that considers complex nonuniform shadow conditions and different cell temperatures'}],\n",
       "     'external_ids': {'source': 'doi', 'id': '10.1007/978-3-030-56970-9_4'},\n",
       "     'year_published': 2020,\n",
       "     'authors': [{'full_name': 'Luis Garcia-Gutierrez'},\n",
       "      {'full_name': 'Michael Bressan'},\n",
       "      {'full_name': 'Antonino Sferlazza'},\n",
       "      {'full_name': 'Fernando Jimenez'},\n",
       "      {'full_name': 'Salvador De-Las-Heras'},\n",
       "      {'full_name': 'Corinne Alonso'}],\n",
       "     'source': {'names': [{'lang': 'en',\n",
       "        'name': 'Lecture Notes in Electrical Engineering'}]}}},\n",
       "   {'_index': 'openalex',\n",
       "    '_id': '3669',\n",
       "    '_score': 28.357426,\n",
       "    '_source': {'titles': [{'title': 'Development and Characterization of a Transient Overvoltage Recorder in Distribution Networks'},\n",
       "      {'title': 'Development and Characterization of a Transient Overvoltage Recorder in Distribution Networks'}],\n",
       "     'external_ids': {'source': 'doi', 'id': '10.1007/978-3-030-31676-1_16'},\n",
       "     'year_published': 2019,\n",
       "     'authors': [{'full_name': 'L. Perdomo'},\n",
       "      {'full_name': 'A. Alfonso'},\n",
       "      {'full_name': 'Francisco Santamaría Piedrahita'},\n",
       "      {'full_name': 'Francisco Roman'}],\n",
       "     'source': {'names': [{'lang': 'en',\n",
       "        'name': 'Lecture Notes in Electrical Engineering'}]}}},\n",
       "   {'_index': 'openalex',\n",
       "    '_id': '3940',\n",
       "    '_score': 26.78153,\n",
       "    '_source': {'titles': [{'title': 'Neural Networks Identification of Eleven Types of Faults in High Voltage Transmission Lines'}],\n",
       "     'external_ids': {'source': 'doi', 'id': '10.1007/978-3-030-53021-1_18'},\n",
       "     'year_published': 2019,\n",
       "     'authors': [{'full_name': 'F Laura Bautista'},\n",
       "      {'full_name': 'N Cesar Valencia'},\n",
       "      {'full_name': 'F Gerson Portilla'},\n",
       "      {'full_name': 'Alfredo Sanabria'},\n",
       "      {'full_name': 'Carlos Pinto'},\n",
       "      {'full_name': 'A Hernando González'},\n",
       "      {'full_name': 'P Carlos Arizmendi'},\n",
       "      {'full_name': 'C David Orjuela'}],\n",
       "     'source': {'names': [{'lang': 'en',\n",
       "        'name': 'Lecture Notes in Electrical Engineering'}]}}},\n",
       "   {'_index': 'openalex',\n",
       "    '_id': '3941',\n",
       "    '_score': 26.241373,\n",
       "    '_source': {'titles': [{'title': 'Design of a Model for the Implementation of an Access Control to a WIFI Network'}],\n",
       "     'external_ids': {'source': 'doi', 'id': '10.1007/978-3-030-53021-1_19'},\n",
       "     'year_published': 2019,\n",
       "     'authors': [{'full_name': 'Fabian Blanco Garrido'},\n",
       "      {'full_name': 'Wilfred Torres Cerón'},\n",
       "      {'full_name': 'A H Fredys Simanca'},\n",
       "      {'full_name': 'E H Pablo Carreño'},\n",
       "      {'full_name': 'Mauricio Alonso Moncada'}],\n",
       "     'source': {'names': [{'lang': 'en',\n",
       "        'name': 'Lecture Notes in Electrical Engineering'}]}}},\n",
       "   {'_index': 'openalex',\n",
       "    '_id': '4035',\n",
       "    '_score': 25.363874,\n",
       "    '_source': {'titles': [{'title': 'Microservices Backlog - A Model of Granularity Specification and Microservice Identification'}],\n",
       "     'external_ids': {'source': 'doi', 'id': '10.1007/978-3-030-59592-0_6'},\n",
       "     'year_published': 2020,\n",
       "     'authors': [{'full_name': 'Fredy Humberto Vera Rivera'},\n",
       "      {'full_name': 'Eduard Gilberto Puerto Cuadros'},\n",
       "      {'full_name': 'Hernán Astudillo'},\n",
       "      {'full_name': 'Carlos Mauricio Gaona-Cuevas'}],\n",
       "     'source': {'names': [{'lang': 'en',\n",
       "        'name': 'Lecture Notes in Computer Science'}]}}},\n",
       "   {'_index': 'openalex',\n",
       "    '_id': '3973',\n",
       "    '_score': 25.1633,\n",
       "    '_source': {'titles': [{'title': 'The Application of an Information System in the E-Government of Colombia to Improve Service to Citizens'},\n",
       "      {'title': 'The application of an information system in the e-government of Colombia to improve service to citizens'}],\n",
       "     'external_ids': {'source': 'doi', 'id': '10.1007/978-3-030-53021-1_62'},\n",
       "     'year_published': 2019,\n",
       "     'authors': [{'full_name': 'G. Ortegon-Cortazar'},\n",
       "      {'full_name': 'J. Samper-Zapater'},\n",
       "      {'full_name': 'F. Garcia-Sanchez'},\n",
       "      {'full_name': 'Olmer Garcia-Bedoya'},\n",
       "      {'full_name': 'C. O. Diaz'}],\n",
       "     'source': {'names': [{'lang': 'en',\n",
       "        'name': 'Lecture Notes in Electrical Engineering'}]}}},\n",
       "   {'_index': 'openalex',\n",
       "    '_id': '3967',\n",
       "    '_score': 25.041975,\n",
       "    '_source': {'titles': [{'title': 'Resource Allocation Model for a Computer System'}],\n",
       "     'external_ids': {'source': 'doi', 'id': '10.1007/978-3-030-53021-1_50'},\n",
       "     'year_published': 2019,\n",
       "     'authors': [{'full_name': 'Joaquín F. Sánchez'},\n",
       "      {'full_name': 'Juan P. Ospina'},\n",
       "      {'full_name': 'Carlos Collazos'},\n",
       "      {'full_name': 'Henry Avendaño'},\n",
       "      {'full_name': 'Emiro De-la-Hoz-Franco'},\n",
       "      {'full_name': 'Zhoe Comas-González'},\n",
       "      {'full_name': 'N. Vanesa Landero'}],\n",
       "     'source': {'names': [{'lang': 'en',\n",
       "        'name': 'Lecture Notes in Electrical Engineering'}]}}},\n",
       "   {'_index': 'openalex',\n",
       "    '_id': '3969',\n",
       "    '_score': 24.48197,\n",
       "    '_source': {'titles': [{'title': 'Planar cavity-backed antenna prototype by groove waveguide technique'},\n",
       "      {'title': 'Planar cavity-backed antenna prototype by groove waveguide technique'}],\n",
       "     'external_ids': {'source': 'doi', 'id': '10.1007/978-3-030-53021-1_52'},\n",
       "     'year_published': 2019,\n",
       "     'authors': [{'full_name': 'H. F. Guarnizo Mendez'},\n",
       "      {'full_name': 'M. A. Poloche Arango'},\n",
       "      {'full_name': 'T. A. Rubiano Suazo'},\n",
       "      {'full_name': 'S. H. Rojas Martínez'},\n",
       "      {'full_name': 'F. J. Gutiérrez Bernal'}],\n",
       "     'source': {'names': [{'lang': 'en',\n",
       "        'name': 'Lecture Notes in Electrical Engineering'}]}}},\n",
       "   {'_index': 'openalex',\n",
       "    '_id': '4189',\n",
       "    '_score': 23.103893,\n",
       "    '_source': {'titles': [{'title': 'Development of a Fresnel Artisanal System for the Production of Hot Water or Steam'}],\n",
       "     'external_ids': {'source': 'doi', 'id': '10.1007/978-3-030-72212-8_15'},\n",
       "     'year_published': 2020,\n",
       "     'authors': [{'full_name': 'Brayan Eduardo Tarazona Romero'},\n",
       "      {'full_name': 'A. Campos-Celador'},\n",
       "      {'full_name': 'Yecid Muñoz-Maldonado'},\n",
       "      {'full_name': 'J. G. Ascanio-Villabona'},\n",
       "      {'full_name': 'Camilo Leonardo Sandoval Rodriguez'},\n",
       "      {'full_name': 'Arly Dario Rincón Quintero'}],\n",
       "     'source': {'names': [{'lang': 'en',\n",
       "        'name': 'Lecture Notes in Electrical Engineering'}]}}},\n",
       "   {'_index': 'openalex',\n",
       "    '_id': '3250',\n",
       "    '_score': 22.99883,\n",
       "    '_source': {'titles': [{'title': 'Design of a Computational Model for Organizational Learning in Research and Development Centers (R&D)'},\n",
       "      {'title': 'Design of a Computational Model for Organizational Learning in Research and Development Centers (R&D)'}],\n",
       "     'external_ids': {'source': 'doi', 'id': '10.1007/978-3-030-03928-8_40'},\n",
       "     'year_published': 2018,\n",
       "     'authors': [{'full_name': 'Marco Javier Suarez Baron'},\n",
       "      {'full_name': 'José Fdo. López'},\n",
       "      {'full_name': 'Carlos Enrique Montenegro-Marin'},\n",
       "      {'full_name': 'Paulo Alonso Gaona García'}],\n",
       "     'source': {'names': [{'lang': 'en',\n",
       "        'name': 'Lecture Notes in Computer Science'}]}}}]}}"
      ]
     },
     "execution_count": 15,
     "metadata": {},
     "output_type": "execute_result"
    }
   ],
   "source": [
    "rec = scopus[4010]\n",
    "print(rec[\"Title\"])\n",
    "print(rec[\"DOI\"])\n",
    "res = search(rec['Title'],rec['Authors'],rec['Source title'],rec['Year'],0)\n",
    "res"
   ]
  },
  {
   "cell_type": "code",
   "execution_count": 16,
   "id": "55ecdf1f-dec1-40b2-a92c-06cac229c43b",
   "metadata": {},
   "outputs": [
    {
     "ename": "NameError",
     "evalue": "name 'search_doi' is not defined",
     "output_type": "error",
     "traceback": [
      "\u001b[0;31m---------------------------------------------------------------------------\u001b[0m",
      "\u001b[0;31mNameError\u001b[0m                                 Traceback (most recent call last)",
      "Cell \u001b[0;32mIn[16], line 1\u001b[0m\n\u001b[0;32m----> 1\u001b[0m \u001b[43msearch_doi\u001b[49m(rec[\u001b[38;5;124m\"\u001b[39m\u001b[38;5;124mDOI\u001b[39m\u001b[38;5;124m\"\u001b[39m])\n",
      "\u001b[0;31mNameError\u001b[0m: name 'search_doi' is not defined"
     ]
    }
   ],
   "source": [
    "search_doi(rec[\"DOI\"])\n"
   ]
  },
  {
   "cell_type": "code",
   "execution_count": null,
   "id": "66b97c4a-3827-4c67-b8cc-72dd2498aa14",
   "metadata": {},
   "outputs": [],
   "source": [
    "if \"10.1001/archderm.134.2.143\" in n_dois:\n",
    "    print(\"fond\")"
   ]
  },
  {
   "cell_type": "code",
   "execution_count": null,
   "id": "a3f4233f-903e-4c05-ba37-27af05a6c8b4",
   "metadata": {},
   "outputs": [],
   "source": [
    "res"
   ]
  },
  {
   "cell_type": "code",
   "execution_count": null,
   "id": "a53b364b-db45-49ca-9947-f7efbd44028c",
   "metadata": {},
   "outputs": [],
   "source": [
    "print(rec[\"Title\"])\n",
    "#print(rec[\"Title\"])\n",
    "\n",
    "oa_doi = get_oa_doi(res[\"hits\"][\"hits\"][0])\n",
    "sc_doi = rec[\"DOI\"]\n",
    "print(oa_doi,sc_doi)\n",
    "fuzz.token_sort_ratio(oa_doi,sc_doi)\n"
   ]
  },
  {
   "cell_type": "code",
   "execution_count": null,
   "id": "803fce39-e1e4-4fd2-9794-c75351447406",
   "metadata": {},
   "outputs": [],
   "source": []
  },
  {
   "cell_type": "code",
   "execution_count": null,
   "id": "6edb0de2-9953-4d34-a7f7-c946692868bb",
   "metadata": {},
   "outputs": [],
   "source": [
    "rec = scopus[0]\n",
    "print(rec[\"DOI\"])\n",
    "search_doi(rec[\"DOI\"])"
   ]
  },
  {
   "cell_type": "code",
   "execution_count": null,
   "id": "d6b24d25-6bc6-4713-b774-e73dc4ada995",
   "metadata": {},
   "outputs": [],
   "source": [
    "%%time\n",
    "count = 0\n",
    "for rec in scopus[0:1000]:\n",
    "    res = search(rec['Title'],rec['Authors'],rec['Source title'],rec['Year'])\n",
    "    count +=1\n",
    "    if count%1000 == 0:\n",
    "        print(count)"
   ]
  },
  {
   "cell_type": "code",
   "execution_count": null,
   "id": "7f65b285-386e-4691-bbee-347f15a84946",
   "metadata": {},
   "outputs": [],
   "source": []
  },
  {
   "cell_type": "code",
   "execution_count": null,
   "id": "99437ef5-5cff-44ad-8b20-99911b6c8acf",
   "metadata": {},
   "outputs": [],
   "source": []
  }
 ],
 "metadata": {
  "kernelspec": {
   "display_name": "Python 3 (ipykernel)",
   "language": "python",
   "name": "python3"
  },
  "language_info": {
   "codemirror_mode": {
    "name": "ipython",
    "version": 3
   },
   "file_extension": ".py",
   "mimetype": "text/x-python",
   "name": "python",
   "nbconvert_exporter": "python",
   "pygments_lexer": "ipython3",
   "version": "3.11.4"
  }
 },
 "nbformat": 4,
 "nbformat_minor": 5
}
