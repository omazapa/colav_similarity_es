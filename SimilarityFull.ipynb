{
 "cells": [
  {
   "cell_type": "code",
   "execution_count": 159,
   "id": "708b9f0b-9305-4e07-845c-59aeccd856b3",
   "metadata": {},
   "outputs": [],
   "source": [
    "from pymongo import MongoClient\n",
    "from elasticsearch import Elasticsearch, helpers\n",
    "import requests\n",
    "from IPython.display import JSON\n",
    "import numpy as np\n",
    "from fuzzywuzzy import fuzz\n",
    "from joblib import Parallel, delayed\n",
    "import pickle\n",
    "import matplotlib.pyplot as plt\n",
    "import numpy\n",
    "from sklearn import metrics\n",
    "import math\n",
    "import seaborn as sns"
   ]
  },
  {
   "cell_type": "code",
   "execution_count": 2,
   "id": "85c9b460-8582-4449-992c-04ce74d3ccfc",
   "metadata": {},
   "outputs": [],
   "source": [
    "es = Elasticsearch()"
   ]
  },
  {
   "cell_type": "code",
   "execution_count": 3,
   "id": "4743a24f-e166-4894-8177-dbe6c52814a8",
   "metadata": {},
   "outputs": [],
   "source": [
    "# open a file, where you stored the pickled data\n",
    "file = open('dataset_full.pkl', 'rb')\n",
    "# dump information to that file\n",
    "data = pickle.load(file)\n",
    "# close the file\n",
    "file.close()"
   ]
  },
  {
   "cell_type": "code",
   "execution_count": 4,
   "id": "ead3c6c0-b35e-4455-9a6a-5b764337a5f6",
   "metadata": {},
   "outputs": [
    {
     "data": {
      "text/plain": [
       "101773"
      ]
     },
     "execution_count": 4,
     "metadata": {},
     "output_type": "execute_result"
    }
   ],
   "source": [
    "len(data[\"p\"])"
   ]
  },
  {
   "cell_type": "code",
   "execution_count": 5,
   "id": "345fb1b9-d27e-4d48-bf6b-a5421f8c8c1f",
   "metadata": {},
   "outputs": [
    {
     "data": {
      "text/plain": [
       "41596"
      ]
     },
     "execution_count": 5,
     "metadata": {},
     "output_type": "execute_result"
    }
   ],
   "source": [
    "len(data[\"n\"])"
   ]
  },
  {
   "cell_type": "code",
   "execution_count": 6,
   "id": "db99f311-cc92-4534-ae6d-e5ece5a4e1a5",
   "metadata": {},
   "outputs": [
    {
     "data": {
      "text/plain": [
       "{'Authors': 'Jaramillo-Ayerbe F., Berrío-Muñoz J.',\n",
       " 'Title': 'Ivermectin for crusted Norwegian scabies induced by use of topical steroids',\n",
       " 'Year': 1998,\n",
       " 'Source title': 'Archives of Dermatology',\n",
       " 'DOI': '10.1001/archderm.134.2.143'}"
      ]
     },
     "execution_count": 6,
     "metadata": {},
     "output_type": "execute_result"
    }
   ],
   "source": [
    "data[\"p\"][0]"
   ]
  },
  {
   "cell_type": "code",
   "execution_count": 7,
   "id": "9e96d497-83a8-47be-8801-f01acb2027ae",
   "metadata": {},
   "outputs": [
    {
     "data": {
      "text/plain": [
       "{'Authors': 'Flórez G.A.D., Mombello E.E., Voss S.',\n",
       " 'Title': 'Novel technique for the calculation of eddy current losses and Lorentz forces in foil winding transformers',\n",
       " 'Year': 2017,\n",
       " 'Source title': 'International Journal of Applied Electromagnetics and Mechanics',\n",
       " 'DOI': '10..3233/JAE-160144'}"
      ]
     },
     "execution_count": 7,
     "metadata": {},
     "output_type": "execute_result"
    }
   ],
   "source": [
    "data[\"n\"][0]"
   ]
  },
  {
   "cell_type": "code",
   "execution_count": 70,
   "id": "7d83326c-d441-4dc3-b39a-0a5cd3a4192a",
   "metadata": {},
   "outputs": [],
   "source": [
    "scopus = []\n",
    "#size = 40000\n",
    "for i in data[\"p\"]:\n",
    "    scopus.append((i,True))\n",
    "for i in data[\"n\"]:\n",
    "    scopus.append((i,False))"
   ]
  },
  {
   "cell_type": "code",
   "execution_count": 28,
   "id": "8e93091a-83f7-44c7-a1d1-285b6adbefdb",
   "metadata": {},
   "outputs": [],
   "source": [
    "es_index = \"openalex_test\"\n"
   ]
  },
  {
   "cell_type": "code",
   "execution_count": 29,
   "id": "6058f012-1ece-40f8-ad7a-85c610d908ad",
   "metadata": {},
   "outputs": [],
   "source": [
    "def get_oa_doi(es_reg):\n",
    "    for i in es_reg[\"_source\"]['external_ids']:\n",
    "        if i['source'] == \"doi\":\n",
    "            return i[\"id\"]\n",
    "\n",
    "\n",
    "def get_oa_doi(es_reg):\n",
    "    return es_reg[\"_source\"]['doi']\n"
   ]
  },
  {
   "cell_type": "code",
   "execution_count": 30,
   "id": "9579759a-ea77-4b5d-8552-997ebad85c50",
   "metadata": {},
   "outputs": [],
   "source": [
    "def search(Title, Authors, Source, Year, punto_de_corte = 0):\n",
    "    \"\"\"\n",
    "    Definir el valor mínimo del _score que deseas\n",
    "    Puedes ajustar este valor según tus necesidades\n",
    "\n",
    "    \"\"\"\n",
    "    if not isinstance(Title, str):\n",
    "        Title = \"\"\n",
    "    if not isinstance(Source, str):\n",
    "        Source = \"\"\n",
    "        \n",
    "        \n",
    "    body = {\n",
    "        \"query\": {\n",
    "            \"bool\": {\n",
    "                \"should\": [\n",
    "                    { \"match\": { \"title\":  Title }},\n",
    "                    { \"match\": { \"authorships.author.display_name\": Authors }},\n",
    "                    { \"match\": { \"host_venue.display_name\":  Source}},\n",
    "                    { \"match\": { \"publication_year\": Year }}\n",
    "                ]\n",
    "            }\n",
    "        },\n",
    "        \"size\": 10\n",
    "    }\n",
    "    \n",
    "    res = es.search(index=es_index, **body)\n",
    "    hits = []\n",
    "    \n",
    "    for i in res[\"hits\"][\"hits\"]:\n",
    "        if i[\"_score\"] >= punto_de_corte:\n",
    "            hits.append(i)\n",
    "    res[\"hits\"][\"hits\"] = hits\n",
    "    return  res"
   ]
  },
  {
   "cell_type": "code",
   "execution_count": 191,
   "id": "c81680b0-1e0b-4a5b-962b-3b17c341edda",
   "metadata": {},
   "outputs": [
    {
     "name": "stderr",
     "output_type": "stream",
     "text": [
      "[Parallel(n_jobs=15)]: Using backend ThreadingBackend with 15 concurrent workers.\n",
      "[Parallel(n_jobs=15)]: Done  11 tasks      | elapsed:    0.0s\n",
      "[Parallel(n_jobs=15)]: Done 132 tasks      | elapsed:    0.9s\n",
      "[Parallel(n_jobs=15)]: Done 335 tasks      | elapsed:    2.1s\n",
      "[Parallel(n_jobs=15)]: Done 618 tasks      | elapsed:    3.6s\n",
      "[Parallel(n_jobs=15)]: Done 983 tasks      | elapsed:    6.4s\n",
      "[Parallel(n_jobs=15)]: Done 1428 tasks      | elapsed:    9.8s\n",
      "[Parallel(n_jobs=15)]: Done 1955 tasks      | elapsed:   12.6s\n",
      "[Parallel(n_jobs=15)]: Done 2562 tasks      | elapsed:   16.5s\n",
      "[Parallel(n_jobs=15)]: Done 3251 tasks      | elapsed:   21.7s\n",
      "[Parallel(n_jobs=15)]: Done 4020 tasks      | elapsed:   26.9s\n",
      "[Parallel(n_jobs=15)]: Done 4871 tasks      | elapsed:   32.7s\n",
      "[Parallel(n_jobs=15)]: Done 5802 tasks      | elapsed:   38.0s\n",
      "[Parallel(n_jobs=15)]: Done 6815 tasks      | elapsed:   43.5s\n",
      "[Parallel(n_jobs=15)]: Done 7908 tasks      | elapsed:   49.4s\n",
      "[Parallel(n_jobs=15)]: Done 9083 tasks      | elapsed:   56.4s\n",
      "[Parallel(n_jobs=15)]: Done 10338 tasks      | elapsed:  1.1min\n",
      "[Parallel(n_jobs=15)]: Done 11675 tasks      | elapsed:  1.2min\n",
      "[Parallel(n_jobs=15)]: Done 13092 tasks      | elapsed:  1.3min\n",
      "[Parallel(n_jobs=15)]: Done 14591 tasks      | elapsed:  1.5min\n",
      "[Parallel(n_jobs=15)]: Done 16170 tasks      | elapsed:  1.6min\n",
      "[Parallel(n_jobs=15)]: Done 17831 tasks      | elapsed:  1.8min\n",
      "[Parallel(n_jobs=15)]: Done 19572 tasks      | elapsed:  1.9min\n",
      "[Parallel(n_jobs=15)]: Done 21395 tasks      | elapsed:  2.1min\n",
      "[Parallel(n_jobs=15)]: Done 23298 tasks      | elapsed:  2.3min\n",
      "[Parallel(n_jobs=15)]: Done 25283 tasks      | elapsed:  2.4min\n",
      "[Parallel(n_jobs=15)]: Done 27348 tasks      | elapsed:  2.6min\n",
      "[Parallel(n_jobs=15)]: Done 29495 tasks      | elapsed:  2.8min\n",
      "[Parallel(n_jobs=15)]: Done 31722 tasks      | elapsed:  3.0min\n",
      "[Parallel(n_jobs=15)]: Done 34031 tasks      | elapsed:  3.2min\n",
      "[Parallel(n_jobs=15)]: Done 36420 tasks      | elapsed:  3.4min\n",
      "[Parallel(n_jobs=15)]: Done 38891 tasks      | elapsed:  3.6min\n",
      "[Parallel(n_jobs=15)]: Done 41442 tasks      | elapsed:  3.8min\n",
      "[Parallel(n_jobs=15)]: Done 44075 tasks      | elapsed:  4.0min\n",
      "[Parallel(n_jobs=15)]: Done 46788 tasks      | elapsed:  4.3min\n",
      "[Parallel(n_jobs=15)]: Done 49583 tasks      | elapsed:  4.5min\n",
      "[Parallel(n_jobs=15)]: Done 52458 tasks      | elapsed:  4.8min\n",
      "[Parallel(n_jobs=15)]: Done 55415 tasks      | elapsed:  5.0min\n",
      "[Parallel(n_jobs=15)]: Done 58452 tasks      | elapsed:  5.3min\n",
      "[Parallel(n_jobs=15)]: Done 61571 tasks      | elapsed:  5.6min\n",
      "[Parallel(n_jobs=15)]: Done 64770 tasks      | elapsed:  5.8min\n",
      "[Parallel(n_jobs=15)]: Done 68051 tasks      | elapsed:  6.1min\n",
      "[Parallel(n_jobs=15)]: Done 71412 tasks      | elapsed:  6.4min\n",
      "[Parallel(n_jobs=15)]: Done 74855 tasks      | elapsed:  6.7min\n",
      "[Parallel(n_jobs=15)]: Done 78378 tasks      | elapsed:  6.9min\n",
      "[Parallel(n_jobs=15)]: Done 81983 tasks      | elapsed:  7.2min\n",
      "[Parallel(n_jobs=15)]: Done 85668 tasks      | elapsed:  7.5min\n",
      "[Parallel(n_jobs=15)]: Done 89435 tasks      | elapsed:  7.8min\n",
      "[Parallel(n_jobs=15)]: Done 93282 tasks      | elapsed:  8.1min\n",
      "[Parallel(n_jobs=15)]: Done 97211 tasks      | elapsed:  8.4min\n",
      "[Parallel(n_jobs=15)]: Done 101220 tasks      | elapsed:  8.7min\n",
      "[Parallel(n_jobs=15)]: Done 105311 tasks      | elapsed:  9.0min\n",
      "[Parallel(n_jobs=15)]: Done 109482 tasks      | elapsed:  9.3min\n",
      "[Parallel(n_jobs=15)]: Done 113735 tasks      | elapsed:  9.6min\n",
      "[Parallel(n_jobs=15)]: Done 118068 tasks      | elapsed: 10.0min\n",
      "[Parallel(n_jobs=15)]: Done 122483 tasks      | elapsed: 10.3min\n",
      "[Parallel(n_jobs=15)]: Done 126978 tasks      | elapsed: 10.6min\n",
      "[Parallel(n_jobs=15)]: Done 131555 tasks      | elapsed: 11.0min\n",
      "[Parallel(n_jobs=15)]: Done 136212 tasks      | elapsed: 11.4min\n",
      "[Parallel(n_jobs=15)]: Done 140951 tasks      | elapsed: 11.8min\n"
     ]
    },
    {
     "name": "stdout",
     "output_type": "stream",
     "text": [
      "CPU times: user 11min 41s, sys: 55.4 s, total: 12min 36s\n",
      "Wall time: 11min 56s\n"
     ]
    },
    {
     "name": "stderr",
     "output_type": "stream",
     "text": [
      "[Parallel(n_jobs=15)]: Done 143369 out of 143369 | elapsed: 11.9min finished\n"
     ]
    }
   ],
   "source": [
    "%%time\n",
    "\n",
    "def es_similarity(rec,th = 0):\n",
    "    res = search(rec['Title'],rec['Authors'],rec['Source title'],rec['Year'],th)\n",
    "    if len(res[\"hits\"][\"hits\"]) > 1:\n",
    "    #     return True\n",
    "    # return False\n",
    "        oa_doi = get_oa_doi(res[\"hits\"][\"hits\"][0]).replace(\"https://doi.org/\",\"\").lower()\n",
    "        sc_doi = rec[\"DOI\"].lower()\n",
    "        if oa_doi == sc_doi:\n",
    "            return (True,res[\"hits\"][\"hits\"][0][\"_score\"])\n",
    "        else:\n",
    "            return (False,res[\"hits\"][\"hits\"][0][\"_score\"])\n",
    "\n",
    "np.random.shuffle(scopus) #shuffle is inplace\n",
    "th=0\n",
    "results = Parallel(n_jobs=15,backend='threading',verbose=2)(delayed(es_similarity)(rec[0],th) for rec in scopus)\n"
   ]
  },
  {
   "cell_type": "code",
   "execution_count": 192,
   "id": "11a7bd58-023f-4a14-b2f2-79f98be8c1af",
   "metadata": {},
   "outputs": [
    {
     "data": {
      "text/plain": [
       "0"
      ]
     },
     "execution_count": 192,
     "metadata": {},
     "output_type": "execute_result"
    }
   ],
   "source": [
    "results.count(None)"
   ]
  },
  {
   "cell_type": "code",
   "execution_count": 193,
   "id": "458af1e4-502e-4cb4-9e73-7ac23e620fec",
   "metadata": {},
   "outputs": [
    {
     "data": {
      "text/plain": [
       "143369"
      ]
     },
     "execution_count": 193,
     "metadata": {},
     "output_type": "execute_result"
    }
   ],
   "source": [
    "len(results)"
   ]
  },
  {
   "cell_type": "code",
   "execution_count": 196,
   "id": "f9ffd190-2b84-439c-b549-a4ef8acbb1b3",
   "metadata": {},
   "outputs": [],
   "source": [
    "#>tp, tn, fp, fn\n",
    "actual  = [i[1] for i in scopus]\n",
    "predicted = [i[0] for i in results]\n",
    "#predicted = results\n"
   ]
  },
  {
   "cell_type": "code",
   "execution_count": 197,
   "id": "6d0b4511-b51c-4e9b-a7b6-e04db6e5b353",
   "metadata": {},
   "outputs": [
    {
     "data": {
      "image/png": "[encoded data removed]",
      "text/plain": [
       "<Figure size 640x480 with 2 Axes>"
      ]
     },
     "metadata": {},
     "output_type": "display_data"
    }
   ],
   "source": [
    "confusion_matrix = metrics.confusion_matrix(actual, predicted)\n",
    "cm_display = metrics.ConfusionMatrixDisplay(confusion_matrix = confusion_matrix, display_labels = [False, True])\n",
    "\n",
    "cm_display.plot()\n",
    "plt.show()"
   ]
  },
  {
   "cell_type": "code",
   "execution_count": 207,
   "id": "8a7cebbd-f4fd-4b02-ad35-4c33ebc41324",
   "metadata": {},
   "outputs": [
    {
     "name": "stdout",
     "output_type": "stream",
     "text": [
      "Accuracy  = 0.9794\n",
      "Precision = 1.0000\n",
      "Recall    = 0.9710\n",
      "F1        = 0.9853\n"
     ]
    }
   ],
   "source": [
    "acc = metrics.accuracy_score(actual,predicted)\n",
    "pre = metrics.precision_score(actual,predicted)\n",
    "rec = metrics.recall_score(actual,predicted)\n",
    "f1  = metrics.f1_score(actual,predicted)\n",
    "\n",
    "print(f\"Accuracy  = {acc:.4f}\")\n",
    "print(f\"Precision = {pre:.4f}\")\n",
    "print(f\"Recall    = {rec:.4f}\")\n",
    "print(f\"F1        = {f1:.4f}\")\n"
   ]
  },
  {
   "cell_type": "code",
   "execution_count": 208,
   "id": "3a8e6b91-0abf-4afc-a161-86543a081830",
   "metadata": {},
   "outputs": [],
   "source": [
    "score_p = []\n",
    "score_n = []\n",
    "for i in results:\n",
    "    if i[0]:\n",
    "        score_p.append(i[1])\n",
    "    else:\n",
    "        score_n.append(i[1])\n"
   ]
  },
  {
   "cell_type": "code",
   "execution_count": 209,
   "id": "c9d1a567-26fc-4c60-b95f-7af84bb388cd",
   "metadata": {},
   "outputs": [
    {
     "data": {
      "text/plain": [
       "14091.0205"
      ]
     },
     "execution_count": 209,
     "metadata": {},
     "output_type": "execute_result"
    }
   ],
   "source": [
    "np.max(score_n)"
   ]
  },
  {
   "cell_type": "code",
   "execution_count": 210,
   "id": "c2fac318-316a-48bf-a840-33feb1bf4e2b",
   "metadata": {},
   "outputs": [
    {
     "data": {
      "text/plain": [
       "17.427406"
      ]
     },
     "execution_count": 210,
     "metadata": {},
     "output_type": "execute_result"
    }
   ],
   "source": [
    "np.min(score_p)"
   ]
  },
  {
   "cell_type": "code",
   "execution_count": 211,
   "id": "f0465eab-93df-4b40-a3a2-463904a7f2fb",
   "metadata": {},
   "outputs": [
    {
     "data": {
      "text/plain": [
       "405.4229444101755"
      ]
     },
     "execution_count": 211,
     "metadata": {},
     "output_type": "execute_result"
    }
   ],
   "source": [
    "np.mean(score_n)"
   ]
  },
  {
   "cell_type": "code",
   "execution_count": 212,
   "id": "33f7b43a-f290-425e-96ad-25e795d5f53a",
   "metadata": {},
   "outputs": [
    {
     "data": {
      "text/plain": [
       "147.83455799785466"
      ]
     },
     "execution_count": 212,
     "metadata": {},
     "output_type": "execute_result"
    }
   ],
   "source": [
    "np.mean(score_p)"
   ]
  },
  {
   "cell_type": "code",
   "execution_count": 213,
   "id": "e8cffe83-b478-4675-9d91-ef9f6dbb51da",
   "metadata": {},
   "outputs": [],
   "source": [
    "f_score_p = []\n",
    "mean_p = np.mean(score_p)\n",
    "for i in score_p:\n",
    "    if i<400:\n",
    "        f_score_p.append(i)"
   ]
  },
  {
   "cell_type": "code",
   "execution_count": 214,
   "id": "1263e9d8-d1ff-481b-b6a1-fa995a9d358f",
   "metadata": {},
   "outputs": [],
   "source": [
    "f_score_n = []\n",
    "mean_n = np.mean(score_n)\n",
    "for i in score_n:\n",
    "    if i<400:\n",
    "        f_score_n.append(i)"
   ]
  },
  {
   "cell_type": "code",
   "execution_count": 215,
   "id": "0f0a02e0-4a6b-4885-94f7-5a67016900b1",
   "metadata": {},
   "outputs": [],
   "source": [
    "f_score_p = np.array(f_score_p)\n",
    "f_score_n = np.array(f_score_n)\n"
   ]
  },
  {
   "cell_type": "code",
   "execution_count": 241,
   "id": "e63e5c50-e323-4388-989e-f23cf8dfdc1c",
   "metadata": {},
   "outputs": [],
   "source": [
    "# Obtiene la información del histograma\n",
    "valores_p, bordes_p = np.histogram(f_score_p, bins=100, density=True)\n",
    "centros_p = 0.5 * (bordes_p[:-1] + bordes_p[1:])\n",
    "\n",
    "# Encuentra el valor máximo en el eje Y\n",
    "valor_maximo_y_p = max(valores_p)\n",
    "\n",
    "# Encuentra el valor en el eje X para el cual Y es máximo\n",
    "valor_maximo_x_p = centros_p[np.argmax(valores_p)]\n",
    "\n"
   ]
  },
  {
   "cell_type": "code",
   "execution_count": 242,
   "id": "f00554f5-3b0f-4e12-b63a-987d2100f45d",
   "metadata": {},
   "outputs": [
    {
     "data": {
      "text/plain": [
       "126.40125829"
      ]
     },
     "execution_count": 242,
     "metadata": {},
     "output_type": "execute_result"
    }
   ],
   "source": [
    "valor_maximo_x_p"
   ]
  },
  {
   "cell_type": "code",
   "execution_count": 243,
   "id": "33418a40-4153-4c75-995e-2107cefc795e",
   "metadata": {},
   "outputs": [],
   "source": [
    "# Obtiene la información del histograma\n",
    "valores_n, bordes_n = np.histogram(f_score_n, bins=100, density=True)\n",
    "centros_n = 0.5 * (bordes_n[:-1] + bordes_n[1:])\n",
    "\n",
    "# Encuentra el valor máximo en el eje Y\n",
    "valor_maximo_y_n = max(valores_n)\n",
    "\n",
    "# Encuentra el valor en el eje X para el cual Y es máximo\n",
    "valor_maximo_x_n = centros_n[np.argmax(valores_n)]"
   ]
  },
  {
   "cell_type": "code",
   "execution_count": 244,
   "id": "9d81c00a-30b9-433b-9b78-a785570dd1b9",
   "metadata": {},
   "outputs": [
    {
     "data": {
      "text/plain": [
       "33.87606443999999"
      ]
     },
     "execution_count": 244,
     "metadata": {},
     "output_type": "execute_result"
    }
   ],
   "source": [
    "valor_maximo_x_n"
   ]
  },
  {
   "cell_type": "code",
   "execution_count": 245,
   "id": "29900e42-8de9-4e7f-a246-9228903932ee",
   "metadata": {},
   "outputs": [
    {
     "data": {
      "text/plain": [
       "True"
      ]
     },
     "execution_count": 245,
     "metadata": {},
     "output_type": "execute_result"
    },
    {
     "data": {
      "image/png": "[encoded data removed]",
      "text/plain": [
       "<Figure size 800x600 with 1 Axes>"
      ]
     },
     "metadata": {},
     "output_type": "display_data"
    }
   ],
   "source": [
    "n_bins = 100\n",
    "\n",
    "\n",
    "plt.figure(figsize=(8,6))\n",
    "plt.hist(f_score_p, bins=100, alpha=0.5, label=\"data1\", density=False)\n",
    "plt.hist(f_score_n, bins=100, alpha=0.5, label=\"data2\", density=False)\n",
    "# Dibuja una línea vertical en el punto máximo\n",
    "plt.axvline(x=valor_maximo_x_p, color='r', linestyle='--', label=f'Máximo en X: {valor_maximo_x_p:.2f}')\n",
    "plt.axvline(x=valor_maximo_x_n, color='r', linestyle='--', label=f'Máximo en X: {valor_maximo_x_n:.2f}')\n",
    "\n",
    "True"
   ]
  },
  {
   "cell_type": "code",
   "execution_count": null,
   "id": "fc380b7f-05fb-4ff0-952b-7c881a4c75d1",
   "metadata": {},
   "outputs": [],
   "source": []
  },
  {
   "cell_type": "code",
   "execution_count": 217,
   "id": "eea506b2-e01f-417e-a6ad-cf353eb6c7ee",
   "metadata": {},
   "outputs": [
    {
     "data": {
      "image/png": "[encoded data removed]",
      "text/plain": [
       "<Figure size 640x480 with 1 Axes>"
      ]
     },
     "metadata": {},
     "output_type": "display_data"
    }
   ],
   "source": [
    "rng = min(f_score_p.min(), f_score_n.min()), max(f_score_p.max(), f_score_n.max())\n",
    "n1, bins1, _ = plt.hist(f_score_p, alpha=0.4, bins=100, range=rng)\n",
    "n2, bins2, _ = plt.hist(f_score_n, alpha=0.4, bins=30, range=rng)"
   ]
  },
  {
   "cell_type": "code",
   "execution_count": 167,
   "id": "0d9ec1f7-4ea2-4f64-a623-72f739cd686e",
   "metadata": {},
   "outputs": [
    {
     "data": {
      "text/plain": [
       "10356.0"
      ]
     },
     "execution_count": 167,
     "metadata": {},
     "output_type": "execute_result"
    },
    {
     "data": {
      "image/png": "[encoded data removed]",
      "text/plain": [
       "<Figure size 640x480 with 1 Axes>"
      ]
     },
     "metadata": {},
     "output_type": "display_data"
    }
   ],
   "source": [
    "intersection = np.minimum(n1, n2)\n",
    "area = intersection.sum()\n",
    "plt.bar(bins1[:-1], intersection, width=bins1[1]- bins1[0])\n",
    "area"
   ]
  },
  {
   "cell_type": "code",
   "execution_count": 168,
   "id": "b85cdf93-00e7-408d-ac84-6a25b7ce2021",
   "metadata": {},
   "outputs": [
    {
     "data": {
      "text/plain": [
       "2201.0"
      ]
     },
     "execution_count": 168,
     "metadata": {},
     "output_type": "execute_result"
    }
   ],
   "source": [
    "np.max(intersection)"
   ]
  },
  {
   "cell_type": "code",
   "execution_count": 171,
   "id": "8d588fca-17af-47c4-afed-3b3e6f8fed1a",
   "metadata": {},
   "outputs": [
    {
     "data": {
      "text/plain": [
       "array([ 12.937753  ,  25.83920723,  38.74066147,  51.6421157 ,\n",
       "        64.54356993,  77.44502417,  90.3464784 , 103.24793263,\n",
       "       116.14938687, 129.0508411 , 141.95229533, 154.85374957,\n",
       "       167.7552038 , 180.65665803, 193.55811227, 206.4595665 ,\n",
       "       219.36102073, 232.26247497, 245.1639292 , 258.06538343,\n",
       "       270.96683767, 283.8682919 , 296.76974613, 309.67120037,\n",
       "       322.5726546 , 335.47410883, 348.37556307, 361.2770173 ,\n",
       "       374.17847153, 387.07992577, 399.98138   ])"
      ]
     },
     "execution_count": 171,
     "metadata": {},
     "output_type": "execute_result"
    }
   ],
   "source": [
    "bins1\n"
   ]
  },
  {
   "cell_type": "code",
   "execution_count": null,
   "id": "4521e71c-b6f2-4c34-99af-5bb35b9821b7",
   "metadata": {},
   "outputs": [],
   "source": []
  }
 ],
 "metadata": {
  "kernelspec": {
   "display_name": "Python 3 (ipykernel)",
   "language": "python",
   "name": "python3"
  },
  "language_info": {
   "codemirror_mode": {
    "name": "ipython",
    "version": 3
   },
   "file_extension": ".py",
   "mimetype": "text/x-python",
   "name": "python",
   "nbconvert_exporter": "python",
   "pygments_lexer": "ipython3",
   "version": "3.11.4"
  }
 },
 "nbformat": 4,
 "nbformat_minor": 5
}
