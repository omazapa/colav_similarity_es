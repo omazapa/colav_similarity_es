{
 "cells": [
  {
   "cell_type": "code",
   "execution_count": 2,
   "id": "5946cbf4-2f95-4963-ba35-d4e430466a08",
   "metadata": {},
   "outputs": [],
   "source": [
    "from pymongo import MongoClient\n",
    "from elasticsearch import Elasticsearch, helpers\n",
    "import requests\n",
    "from IPython.display import JSON\n",
    "import numpy as np\n",
    "from fuzzywuzzy import fuzz\n",
    "from joblib import Parallel, delayed\n",
    "import pickle\n",
    "from IPython.display import clear_output, display\n",
    "from colavsim import colav_similarity, parse_doi, parse_string"
   ]
  },
  {
   "cell_type": "code",
   "execution_count": 3,
   "id": "a4f0a557-ceaf-471e-9258-a9663e8a6fbd",
   "metadata": {},
   "outputs": [],
   "source": [
    "es = Elasticsearch()"
   ]
  },
  {
   "cell_type": "code",
   "execution_count": 3,
   "id": "c8c72965-ebf8-41c5-a7da-d16ab578a248",
   "metadata": {},
   "outputs": [],
   "source": [
    "openalex = list(MongoClient()[\"openalexco\"][\"works\"].find({'doi': {\"$ne\": None}},{\"_id\":0}))"
   ]
  },
  {
   "cell_type": "code",
   "execution_count": 19,
   "id": "0b3de650-62aa-44a7-835c-2fe062d37907",
   "metadata": {},
   "outputs": [],
   "source": [
    "for i in range(len(openalex)):\n",
    "    openalex[i]['title'] = parse_string(openalex[i]['title'])"
   ]
  },
  {
   "cell_type": "code",
   "execution_count": 20,
   "id": "f4965b84-4ec9-458a-86ea-1fe6114348a5",
   "metadata": {},
   "outputs": [
    {
     "data": {
      "text/plain": [
       "203863"
      ]
     },
     "execution_count": 20,
     "metadata": {},
     "output_type": "execute_result"
    }
   ],
   "source": [
    "len(openalex)"
   ]
  },
  {
   "cell_type": "code",
   "execution_count": 53,
   "id": "6ff49f95-b7bd-4288-876a-43e2c1f46878",
   "metadata": {},
   "outputs": [],
   "source": [
    "# settings = {\n",
    "#   \"settings\": {\n",
    "#     \"index\": {\n",
    "#       \"similarity\": {\n",
    "#         \"default\": {\n",
    "#           \"type\": \"DFR\",\n",
    "#           \"basic_model\": \"g\",\n",
    "#           \"after_effect\": \"b\",\n",
    "#           \"normalization\": \"h2\",\n",
    "#           \"normalization.h2.c\": \"600.0\"  # Cambia el valor según tus necesidades\n",
    "#         }\n",
    "#       }\n",
    "#     }\n",
    "#   }\n",
    "# }\n",
    "# settings = {\n",
    "#   \"settings\": {\n",
    "#     \"index\": {\n",
    "#       \"similarity\": {\n",
    "#         \"default\": {\n",
    "#           \"type\": \"BM25\",\n",
    "#           \"b\": 0.80,   # Ajusta el parámetro \"b\" de BM25\n",
    "#           \"k1\": 2.1   # Cambia el valor según tus necesidades\n",
    "#         }\n",
    "#       }\n",
    "#     }\n",
    "#   }\n",
    "# }\n",
    "settings={}"
   ]
  },
  {
   "cell_type": "code",
   "execution_count": 54,
   "id": "2cb0ce25-94c5-4ab2-8832-8afc604f2bc3",
   "metadata": {},
   "outputs": [],
   "source": [
    "for i in range(len(openalex)):\n",
    "    openalex[i]['title'] = parse_string(openalex[i]['title'])"
   ]
  },
  {
   "cell_type": "code",
   "execution_count": 4,
   "id": "0e7486d3-e09a-4dc7-ba15-5d1e16b9c002",
   "metadata": {},
   "outputs": [
    {
     "name": "stderr",
     "output_type": "stream",
     "text": [
      "/tmp/ipykernel_105520/1927439833.py:6: DeprecationWarning: Using positional arguments for APIs is deprecated and will be disabled in 8.0.0. Instead use only keyword arguments for all APIs. See https://github.com/elastic/elasticsearch-py/issues/1698 for more information\n",
      "  indices = es.indices.get_alias(\"*\").keys()\n"
     ]
    }
   ],
   "source": [
    "es_index = \"oa\"\n",
    "index_size = 5000\n",
    "recreate = True\n",
    "if recreate:\n",
    "    # Obtener una lista de todos los índices\n",
    "    indices = es.indices.get_alias(\"*\").keys()\n",
    "\n",
    "    # Eliminar cada índice\n",
    "    for index in indices:\n",
    "        es.indices.delete(index=index)\n",
    "    #for i in range(int(len(openalex)/index_size)):\n",
    "    #    if es.indices.exists(index=es_index):\n",
    "    #        es.indices.delete(index=es_index)\n"
   ]
  },
  {
   "cell_type": "code",
   "execution_count": 56,
   "id": "4362320d-2090-4ca8-a099-cea27b083d59",
   "metadata": {},
   "outputs": [
    {
     "name": "stderr",
     "output_type": "stream",
     "text": [
      "/tmp/ipykernel_239436/3024032966.py:12: DeprecationWarning: The 'body' parameter is deprecated for the 'create' API and will be removed in a future version. Instead use API parameters directly. See https://github.com/elastic/elasticsearch-py/issues/1698 for more information\n",
      "  es.indices.create(index=es_index+str(index_n),body=settings)\n"
     ]
    }
   ],
   "source": [
    "if recreate:\n",
    "    \n",
    "    request_timeout = 60\n",
    "    bulk_size = 100\n",
    "    es_entries = []\n",
    "    counter = 0\n",
    "    index_n = 0\n",
    "    for i in openalex:\n",
    "        if counter%index_size == 0:\n",
    "            index_n=int(index_n)+1\n",
    "            if not es.indices.exists(index=es_index+str(index_n)):\n",
    "                es.indices.create(index=es_index+str(index_n),body=settings)\n",
    "#                es.indices.create(index=es_index+str(index_n),document=settings)\n",
    "\n",
    "                #es.indices.put_settings(index=es_index+str(index_n), body=settings)\n",
    "        entry = {\"_index\": es_index+str(index_n),\n",
    "                 \"_id\": counter,\n",
    "                 \"_source\": i}\n",
    "        es_entries.append(entry)\n",
    "        if len(es_entries) == bulk_size:\n",
    "            helpers.bulk(es, es_entries, refresh=True,request_timeout=request_timeout)\n",
    "            es_entries = []\n",
    "        counter +=1"
   ]
  },
  {
   "cell_type": "code",
   "execution_count": null,
   "id": "c2a3f0da-46fe-4ab1-8432-65aedbcf9a52",
   "metadata": {},
   "outputs": [],
   "source": []
  },
  {
   "cell_type": "code",
   "execution_count": null,
   "id": "e94d6df3-dbf0-4450-954d-2d9b3d4ce221",
   "metadata": {},
   "outputs": [],
   "source": []
  },
  {
   "cell_type": "code",
   "execution_count": null,
   "id": "32838422-118a-4cac-8a2d-a2d5296287aa",
   "metadata": {},
   "outputs": [],
   "source": []
  },
  {
   "cell_type": "code",
   "execution_count": null,
   "id": "9fd0174a-a8a7-40cc-9b1e-cd7d6b97e608",
   "metadata": {},
   "outputs": [],
   "source": []
  },
  {
   "cell_type": "code",
   "execution_count": null,
   "id": "4a99f684-3909-483a-8112-2caa962a1157",
   "metadata": {},
   "outputs": [],
   "source": []
  }
 ],
 "metadata": {
  "kernelspec": {
   "display_name": "Python 3 (ipykernel)",
   "language": "python",
   "name": "python3"
  },
  "language_info": {
   "codemirror_mode": {
    "name": "ipython",
    "version": 3
   },
   "file_extension": ".py",
   "mimetype": "text/x-python",
   "name": "python",
   "nbconvert_exporter": "python",
   "pygments_lexer": "ipython3",
   "version": "3.9.2"
  }
 },
 "nbformat": 4,
 "nbformat_minor": 5
}
