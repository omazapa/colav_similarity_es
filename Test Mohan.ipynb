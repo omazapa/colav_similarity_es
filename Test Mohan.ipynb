{
 "cells": [
  {
   "cell_type": "code",
   "execution_count": 35,
   "id": "18f96b9d-566c-47f1-a2a4-bf26a5205c4f",
   "metadata": {},
   "outputs": [],
   "source": [
    "from mohan.Similarity import Similarity\n",
    "from mohan.ColavSimilarity import parse_doi, parse_string\n",
    "from mohan.Schemas import openalex_works\n",
    "from joblib import Parallel, delayed\n",
    "import pickle\n",
    "import numpy as np\n",
    "from mohan.ColavSimilarity import ColavSimilarity, parse_doi, parse_string\n",
    "from mohan.Schemas import kahi_works\n",
    "from elasticsearch import Elasticsearch, __version__ as es_version\n",
    "from sklearn import metrics\n",
    "import matplotlib.pyplot as plt"
   ]
  },
  {
   "cell_type": "code",
   "execution_count": 14,
   "id": "d9119c5e-1f2d-462b-9f67-8115c6493fbc",
   "metadata": {},
   "outputs": [],
   "source": [
    "s = Similarity(\"openalex_parsed\",schema = openalex_works)"
   ]
  },
  {
   "cell_type": "code",
   "execution_count": 13,
   "id": "a4656340-57ac-47e9-8f96-4d95df289871",
   "metadata": {},
   "outputs": [],
   "source": [
    "# open a file, where you stored the pickled data\n",
    "file = open('dataset_full.pkl', 'rb')\n",
    "# dump information to that file\n",
    "data = pickle.load(file)\n",
    "# close the file\n",
    "file.close()"
   ]
  },
  {
   "cell_type": "code",
   "execution_count": 10,
   "id": "beee123d-184c-4ab8-95fa-a639b144e5d6",
   "metadata": {},
   "outputs": [
    {
     "name": "stderr",
     "output_type": "stream",
     "text": [
      "[Parallel(n_jobs=64)]: Using backend ThreadingBackend with 64 concurrent workers.\n",
      "[Parallel(n_jobs=64)]: Done  34 tasks      | elapsed:    0.3s\n",
      "[Parallel(n_jobs=64)]: Done 237 tasks      | elapsed:    3.1s\n",
      "[Parallel(n_jobs=64)]: Done 520 tasks      | elapsed:    6.8s\n",
      "[Parallel(n_jobs=64)]: Done 885 tasks      | elapsed:   10.9s\n",
      "[Parallel(n_jobs=64)]: Done 1330 tasks      | elapsed:   16.2s\n",
      "[Parallel(n_jobs=64)]: Done 1857 tasks      | elapsed:   20.0s\n",
      "[Parallel(n_jobs=64)]: Done 2464 tasks      | elapsed:   28.0s\n",
      "[Parallel(n_jobs=64)]: Done 3153 tasks      | elapsed:   34.8s\n",
      "[Parallel(n_jobs=64)]: Done 3922 tasks      | elapsed:   42.5s\n",
      "[Parallel(n_jobs=64)]: Done 4773 tasks      | elapsed:   50.0s\n",
      "[Parallel(n_jobs=64)]: Done 5704 tasks      | elapsed:  1.0min\n",
      "[Parallel(n_jobs=64)]: Done 6717 tasks      | elapsed:  1.2min\n",
      "[Parallel(n_jobs=64)]: Done 7810 tasks      | elapsed:  1.4min\n",
      "[Parallel(n_jobs=64)]: Done 8985 tasks      | elapsed:  1.6min\n",
      "[Parallel(n_jobs=64)]: Done 10240 tasks      | elapsed:  1.8min\n",
      "[Parallel(n_jobs=64)]: Done 11577 tasks      | elapsed:  2.1min\n",
      "[Parallel(n_jobs=64)]: Done 12994 tasks      | elapsed:  2.3min\n",
      "[Parallel(n_jobs=64)]: Done 14493 tasks      | elapsed:  2.6min\n",
      "[Parallel(n_jobs=64)]: Done 16072 tasks      | elapsed:  2.8min\n",
      "[Parallel(n_jobs=64)]: Done 17733 tasks      | elapsed:  3.1min\n",
      "[Parallel(n_jobs=64)]: Done 19474 tasks      | elapsed:  3.4min\n",
      "[Parallel(n_jobs=64)]: Done 21297 tasks      | elapsed:  3.7min\n",
      "[Parallel(n_jobs=64)]: Done 23200 tasks      | elapsed:  4.0min\n",
      "[Parallel(n_jobs=64)]: Done 25185 tasks      | elapsed:  4.3min\n",
      "[Parallel(n_jobs=64)]: Done 27250 tasks      | elapsed:  4.7min\n",
      "[Parallel(n_jobs=64)]: Done 29397 tasks      | elapsed:  5.0min\n",
      "[Parallel(n_jobs=64)]: Done 31624 tasks      | elapsed:  5.4min\n",
      "[Parallel(n_jobs=64)]: Done 33933 tasks      | elapsed:  5.7min\n",
      "[Parallel(n_jobs=64)]: Done 36322 tasks      | elapsed:  6.1min\n",
      "[Parallel(n_jobs=64)]: Done 38793 tasks      | elapsed:  6.5min\n",
      "[Parallel(n_jobs=64)]: Done 41344 tasks      | elapsed:  7.0min\n",
      "[Parallel(n_jobs=64)]: Done 43977 tasks      | elapsed:  7.4min\n",
      "[Parallel(n_jobs=64)]: Done 46690 tasks      | elapsed:  7.8min\n",
      "[Parallel(n_jobs=64)]: Done 49485 tasks      | elapsed:  8.2min\n",
      "[Parallel(n_jobs=64)]: Done 52360 tasks      | elapsed:  8.7min\n",
      "[Parallel(n_jobs=64)]: Done 55317 tasks      | elapsed:  9.2min\n",
      "[Parallel(n_jobs=64)]: Done 58354 tasks      | elapsed:  9.7min\n",
      "[Parallel(n_jobs=64)]: Done 61473 tasks      | elapsed: 10.2min\n",
      "[Parallel(n_jobs=64)]: Done 64672 tasks      | elapsed: 10.7min\n",
      "[Parallel(n_jobs=64)]: Done 67953 tasks      | elapsed: 11.2min\n",
      "[Parallel(n_jobs=64)]: Done 71314 tasks      | elapsed: 11.8min\n",
      "[Parallel(n_jobs=64)]: Done 74757 tasks      | elapsed: 12.3min\n",
      "[Parallel(n_jobs=64)]: Done 78280 tasks      | elapsed: 12.9min\n",
      "[Parallel(n_jobs=64)]: Done 81885 tasks      | elapsed: 13.4min\n",
      "[Parallel(n_jobs=64)]: Done 85570 tasks      | elapsed: 14.1min\n",
      "[Parallel(n_jobs=64)]: Done 89337 tasks      | elapsed: 14.7min\n",
      "[Parallel(n_jobs=64)]: Done 93184 tasks      | elapsed: 15.3min\n",
      "[Parallel(n_jobs=64)]: Done 97113 tasks      | elapsed: 15.9min\n",
      "[Parallel(n_jobs=64)]: Done 101122 tasks      | elapsed: 16.6min\n",
      "[Parallel(n_jobs=64)]: Done 105213 tasks      | elapsed: 17.3min\n",
      "[Parallel(n_jobs=64)]: Done 109384 tasks      | elapsed: 17.9min\n",
      "[Parallel(n_jobs=64)]: Done 113637 tasks      | elapsed: 18.6min\n",
      "[Parallel(n_jobs=64)]: Done 117970 tasks      | elapsed: 19.2min\n",
      "[Parallel(n_jobs=64)]: Done 122385 tasks      | elapsed: 20.0min\n",
      "[Parallel(n_jobs=64)]: Done 126880 tasks      | elapsed: 20.7min\n",
      "[Parallel(n_jobs=64)]: Done 131457 tasks      | elapsed: 21.4min\n",
      "[Parallel(n_jobs=64)]: Done 136114 tasks      | elapsed: 22.1min\n",
      "[Parallel(n_jobs=64)]: Done 140853 tasks      | elapsed: 22.9min\n",
      "[Parallel(n_jobs=64)]: Done 143369 out of 143369 | elapsed: 23.3min finished\n"
     ]
    }
   ],
   "source": [
    "scopus = []\n",
    "np.random.shuffle(data[\"p\"])\n",
    "np.random.shuffle(data[\"n\"])\n",
    "for i in data[\"p\"]:#[0:5001]:\n",
    "    scopus.append((i,True))\n",
    "for i in data[\"n\"]:#[0:5000]:\n",
    "    scopus.append((i,False))\n",
    "np.random.shuffle(scopus) #shuffle is inplace\n",
    "results = Parallel(n_jobs=64,backend='threading',verbose=2)(delayed(s.search)(rec[0]['Title'],rec[0]['Authors'],rec[0]['Source title'],rec[0]['Year'],\n",
    "                 rec[0]['Volume'], rec[0]['Issue'], rec[0]['Page start'], rec[0]['Page end'],\n",
    "                 ratio_thold = 90, partial_thold = 95, low_thold = 80) for rec in scopus)"
   ]
  },
  {
   "cell_type": "code",
   "execution_count": 11,
   "id": "c22b43c3-9763-4f35-ba48-0797bcd1be86",
   "metadata": {},
   "outputs": [],
   "source": [
    "actual = []\n",
    "predicted = []\n",
    "for i in range(len(results)):\n",
    "    actual.append(scopus[i][1])\n",
    "    if results[i] is not None:\n",
    "        predicted.append(True)\n",
    "    else:\n",
    "        predicted.append(False)        "
   ]
  },
  {
   "cell_type": "code",
   "execution_count": 12,
   "id": "56813e58-9a78-4734-a640-023e624fe846",
   "metadata": {},
   "outputs": [
    {
     "data": {
      "image/png": "[encoded data removed]",
      "text/plain": [
       "<Figure size 640x480 with 2 Axes>"
      ]
     },
     "metadata": {},
     "output_type": "display_data"
    }
   ],
   "source": [
    "confusion_matrix = metrics.confusion_matrix(actual, predicted)\n",
    "confusion_matrix = np.flip(confusion_matrix)\n",
    "cm_display = metrics.ConfusionMatrixDisplay(confusion_matrix = confusion_matrix, display_labels = [True, False])\n",
    "\n",
    "cm_display.plot()\n",
    "plt.show()"
   ]
  },
  {
   "cell_type": "code",
   "execution_count": 13,
   "id": "9ffc281b-e516-47e1-a23b-2171c915fb2f",
   "metadata": {},
   "outputs": [
    {
     "data": {
      "text/plain": [
       "0.7025438967113085"
      ]
     },
     "execution_count": 13,
     "metadata": {},
     "output_type": "execute_result"
    }
   ],
   "source": [
    "fn = confusion_matrix[0][1]*100/(confusion_matrix[0][0]+confusion_matrix[0][1])\n",
    "fn"
   ]
  },
  {
   "cell_type": "code",
   "execution_count": 14,
   "id": "037ad3b2-b3ad-4031-8ccf-ad6392d78abc",
   "metadata": {},
   "outputs": [
    {
     "data": {
      "text/plain": [
       "5.978940282719492"
      ]
     },
     "execution_count": 14,
     "metadata": {},
     "output_type": "execute_result"
    }
   ],
   "source": [
    "fp = confusion_matrix[1][0]*100/(confusion_matrix[1][0]+confusion_matrix[1][1])\n",
    "fp"
   ]
  },
  {
   "cell_type": "code",
   "execution_count": null,
   "id": "db368c81-08d4-4298-b773-222a383a97e7",
   "metadata": {},
   "outputs": [],
   "source": []
  }
 ],
 "metadata": {
  "kernelspec": {
   "display_name": "Python 3 (ipykernel)",
   "language": "python",
   "name": "python3"
  },
  "language_info": {
   "codemirror_mode": {
    "name": "ipython",
    "version": 3
   },
   "file_extension": ".py",
   "mimetype": "text/x-python",
   "name": "python",
   "nbconvert_exporter": "python",
   "pygments_lexer": "ipython3",
   "version": "3.9.2"
  }
 },
 "nbformat": 4,
 "nbformat_minor": 5
}
