{
 "cells": [
  {
   "cell_type": "code",
   "execution_count": 3,
   "id": "18f96b9d-566c-47f1-a2a4-bf26a5205c4f",
   "metadata": {},
   "outputs": [],
   "source": [
    "from mohan.Similarity import Similarity\n",
    "#from mohan.ColavSimilarity import parse_doi, parse_string\n",
    "from joblib import Parallel, delayed\n",
    "import pickle\n",
    "import numpy as np\n",
    "#from mohan.ColavSimilarity import ColavSimilarity, parse_doi, parse_string\n",
    "from elasticsearch import Elasticsearch, __version__ as es_version\n",
    "from sklearn import metrics\n",
    "import matplotlib.pyplot as plt"
   ]
  },
  {
   "cell_type": "code",
   "execution_count": null,
   "id": "a726b003-b079-44cf-babb-f98f522b1c2d",
   "metadata": {},
   "outputs": [],
   "source": [
    "\n"
   ]
  },
  {
   "cell_type": "code",
   "execution_count": 4,
   "id": "d9119c5e-1f2d-462b-9f67-8115c6493fbc",
   "metadata": {},
   "outputs": [],
   "source": [
    "s = Similarity(\"openalex_parsed\",es_uri=\"172.19.31.8\")"
   ]
  },
  {
   "cell_type": "code",
   "execution_count": 5,
   "id": "a4656340-57ac-47e9-8f96-4d95df289871",
   "metadata": {},
   "outputs": [],
   "source": [
    "# open a file, where you stored the pickled data\n",
    "file = open('dataset_full.pkl', 'rb')\n",
    "# dump information to that file\n",
    "data = pickle.load(file)\n",
    "# close the file\n",
    "file.close()"
   ]
  },
  {
   "cell_type": "code",
   "execution_count": null,
   "id": "569f887c-7197-40f3-8f17-e07452463357",
   "metadata": {},
   "outputs": [],
   "source": []
  },
  {
   "cell_type": "code",
   "execution_count": 6,
   "id": "beee123d-184c-4ab8-95fa-a639b144e5d6",
   "metadata": {},
   "outputs": [
    {
     "name": "stdout",
     "output_type": "stream",
     "text": [
      "0\n"
     ]
    },
    {
     "name": "stderr",
     "output_type": "stream",
     "text": [
      "[Parallel(n_jobs=72)]: Using backend ThreadingBackend with 72 concurrent workers.\n",
      "[Parallel(n_jobs=72)]: Done  56 tasks      | elapsed:    0.3s\n",
      "[Parallel(n_jobs=72)]: Done 306 tasks      | elapsed:    1.5s\n",
      "[Parallel(n_jobs=72)]: Done 656 tasks      | elapsed:    3.1s\n",
      "[Parallel(n_jobs=72)]: Done 1106 tasks      | elapsed:    5.3s\n",
      "[Parallel(n_jobs=72)]: Done 1656 tasks      | elapsed:    7.9s\n",
      "[Parallel(n_jobs=72)]: Done 2306 tasks      | elapsed:   11.0s\n",
      "[Parallel(n_jobs=72)]: Done 3056 tasks      | elapsed:   14.4s\n",
      "[Parallel(n_jobs=72)]: Done 3906 tasks      | elapsed:   18.4s\n",
      "[Parallel(n_jobs=72)]: Done 4856 tasks      | elapsed:   22.9s\n",
      "[Parallel(n_jobs=72)]: Done 6000 out of 6000 | elapsed:   28.3s finished\n",
      "[Parallel(n_jobs=72)]: Using backend ThreadingBackend with 72 concurrent workers.\n",
      "[Parallel(n_jobs=72)]: Done  56 tasks      | elapsed:    0.3s\n",
      "[Parallel(n_jobs=72)]: Done 306 tasks      | elapsed:    1.4s\n",
      "[Parallel(n_jobs=72)]: Done 656 tasks      | elapsed:    3.1s\n",
      "[Parallel(n_jobs=72)]: Done 1106 tasks      | elapsed:    5.2s\n",
      "[Parallel(n_jobs=72)]: Done 1656 tasks      | elapsed:    8.0s\n",
      "[Parallel(n_jobs=72)]: Done 2306 tasks      | elapsed:   11.0s\n",
      "[Parallel(n_jobs=72)]: Done 3056 tasks      | elapsed:   14.5s\n",
      "[Parallel(n_jobs=72)]: Done 3906 tasks      | elapsed:   18.8s\n",
      "[Parallel(n_jobs=72)]: Done 4856 tasks      | elapsed:   23.4s\n",
      "[Parallel(n_jobs=72)]: Done 6000 out of 6000 | elapsed:   28.7s finished\n",
      "[Parallel(n_jobs=72)]: Using backend ThreadingBackend with 72 concurrent workers.\n",
      "[Parallel(n_jobs=72)]: Done  56 tasks      | elapsed:    0.3s\n",
      "[Parallel(n_jobs=72)]: Done 306 tasks      | elapsed:    1.4s\n",
      "[Parallel(n_jobs=72)]: Done 656 tasks      | elapsed:    3.0s\n",
      "[Parallel(n_jobs=72)]: Done 1106 tasks      | elapsed:    5.1s\n",
      "[Parallel(n_jobs=72)]: Done 1656 tasks      | elapsed:    7.7s\n",
      "[Parallel(n_jobs=72)]: Done 2306 tasks      | elapsed:   10.4s\n",
      "[Parallel(n_jobs=72)]: Done 3056 tasks      | elapsed:   14.1s\n",
      "[Parallel(n_jobs=72)]: Done 3906 tasks      | elapsed:   18.2s\n",
      "[Parallel(n_jobs=72)]: Done 4856 tasks      | elapsed:   22.8s\n",
      "[Parallel(n_jobs=72)]: Done 6000 out of 6000 | elapsed:   28.2s finished\n",
      "[Parallel(n_jobs=72)]: Using backend ThreadingBackend with 72 concurrent workers.\n",
      "[Parallel(n_jobs=72)]: Done  56 tasks      | elapsed:    0.3s\n",
      "[Parallel(n_jobs=72)]: Done 306 tasks      | elapsed:    1.6s\n",
      "[Parallel(n_jobs=72)]: Done 656 tasks      | elapsed:    3.7s\n",
      "[Parallel(n_jobs=72)]: Done 1106 tasks      | elapsed:    5.2s\n",
      "[Parallel(n_jobs=72)]: Done 1656 tasks      | elapsed:    8.4s\n",
      "[Parallel(n_jobs=72)]: Done 2306 tasks      | elapsed:   11.3s\n",
      "[Parallel(n_jobs=72)]: Done 3056 tasks      | elapsed:   14.3s\n",
      "[Parallel(n_jobs=72)]: Done 3906 tasks      | elapsed:   18.4s\n",
      "[Parallel(n_jobs=72)]: Done 4856 tasks      | elapsed:   23.1s\n",
      "[Parallel(n_jobs=72)]: Done 6000 out of 6000 | elapsed:   28.6s finished\n",
      "[Parallel(n_jobs=72)]: Using backend ThreadingBackend with 72 concurrent workers.\n",
      "[Parallel(n_jobs=72)]: Done  56 tasks      | elapsed:    0.3s\n",
      "[Parallel(n_jobs=72)]: Done 306 tasks      | elapsed:    1.5s\n",
      "[Parallel(n_jobs=72)]: Done 656 tasks      | elapsed:    3.1s\n",
      "[Parallel(n_jobs=72)]: Done 1106 tasks      | elapsed:    5.2s\n",
      "[Parallel(n_jobs=72)]: Done 1656 tasks      | elapsed:    7.9s\n",
      "[Parallel(n_jobs=72)]: Done 2306 tasks      | elapsed:   11.0s\n",
      "[Parallel(n_jobs=72)]: Done 3056 tasks      | elapsed:   14.9s\n",
      "[Parallel(n_jobs=72)]: Done 3906 tasks      | elapsed:   19.1s\n",
      "[Parallel(n_jobs=72)]: Done 4856 tasks      | elapsed:   23.8s\n",
      "[Parallel(n_jobs=72)]: Done 6000 out of 6000 | elapsed:   29.3s finished\n",
      "[Parallel(n_jobs=72)]: Using backend ThreadingBackend with 72 concurrent workers.\n",
      "[Parallel(n_jobs=72)]: Done  56 tasks      | elapsed:    0.3s\n",
      "[Parallel(n_jobs=72)]: Done 306 tasks      | elapsed:    1.4s\n",
      "[Parallel(n_jobs=72)]: Done 656 tasks      | elapsed:    3.2s\n",
      "[Parallel(n_jobs=72)]: Done 1106 tasks      | elapsed:    5.3s\n",
      "[Parallel(n_jobs=72)]: Done 1656 tasks      | elapsed:    7.8s\n",
      "[Parallel(n_jobs=72)]: Done 2306 tasks      | elapsed:   10.9s\n",
      "[Parallel(n_jobs=72)]: Done 3056 tasks      | elapsed:   14.4s\n",
      "[Parallel(n_jobs=72)]: Done 3906 tasks      | elapsed:   18.6s\n",
      "[Parallel(n_jobs=72)]: Done 4856 tasks      | elapsed:   23.2s\n",
      "[Parallel(n_jobs=72)]: Done 6000 out of 6000 | elapsed:   28.7s finished\n",
      "[Parallel(n_jobs=72)]: Using backend ThreadingBackend with 72 concurrent workers.\n",
      "[Parallel(n_jobs=72)]: Done  56 tasks      | elapsed:    0.3s\n",
      "[Parallel(n_jobs=72)]: Done 306 tasks      | elapsed:    1.6s\n",
      "[Parallel(n_jobs=72)]: Done 656 tasks      | elapsed:    3.2s\n",
      "[Parallel(n_jobs=72)]: Done 1106 tasks      | elapsed:    5.3s\n",
      "[Parallel(n_jobs=72)]: Done 1656 tasks      | elapsed:    7.9s\n",
      "[Parallel(n_jobs=72)]: Done 2306 tasks      | elapsed:   11.0s\n",
      "[Parallel(n_jobs=72)]: Done 3056 tasks      | elapsed:   14.6s\n",
      "[Parallel(n_jobs=72)]: Done 3906 tasks      | elapsed:   18.9s\n",
      "[Parallel(n_jobs=72)]: Done 4856 tasks      | elapsed:   23.5s\n",
      "[Parallel(n_jobs=72)]: Done 6000 out of 6000 | elapsed:   28.8s finished\n",
      "[Parallel(n_jobs=72)]: Using backend ThreadingBackend with 72 concurrent workers.\n",
      "[Parallel(n_jobs=72)]: Done  56 tasks      | elapsed:    0.5s\n",
      "[Parallel(n_jobs=72)]: Done 306 tasks      | elapsed:    1.5s\n",
      "[Parallel(n_jobs=72)]: Done 656 tasks      | elapsed:    3.3s\n",
      "[Parallel(n_jobs=72)]: Done 1106 tasks      | elapsed:    5.5s\n",
      "[Parallel(n_jobs=72)]: Done 1656 tasks      | elapsed:    7.9s\n",
      "[Parallel(n_jobs=72)]: Done 2306 tasks      | elapsed:   11.0s\n",
      "[Parallel(n_jobs=72)]: Done 3056 tasks      | elapsed:   14.6s\n",
      "[Parallel(n_jobs=72)]: Done 3906 tasks      | elapsed:   18.9s\n",
      "[Parallel(n_jobs=72)]: Done 4856 tasks      | elapsed:   23.6s\n",
      "[Parallel(n_jobs=72)]: Done 6000 out of 6000 | elapsed:   29.0s finished\n",
      "[Parallel(n_jobs=72)]: Using backend ThreadingBackend with 72 concurrent workers.\n",
      "[Parallel(n_jobs=72)]: Done  56 tasks      | elapsed:    0.3s\n",
      "[Parallel(n_jobs=72)]: Done 306 tasks      | elapsed:    1.9s\n",
      "[Parallel(n_jobs=72)]: Done 656 tasks      | elapsed:    3.5s\n",
      "[Parallel(n_jobs=72)]: Done 1106 tasks      | elapsed:    5.1s\n",
      "[Parallel(n_jobs=72)]: Done 1656 tasks      | elapsed:    7.7s\n",
      "[Parallel(n_jobs=72)]: Done 2306 tasks      | elapsed:   10.9s\n",
      "[Parallel(n_jobs=72)]: Done 3056 tasks      | elapsed:   14.5s\n",
      "[Parallel(n_jobs=72)]: Done 3906 tasks      | elapsed:   18.7s\n",
      "[Parallel(n_jobs=72)]: Done 4856 tasks      | elapsed:   23.3s\n",
      "[Parallel(n_jobs=72)]: Done 6000 out of 6000 | elapsed:   28.7s finished\n",
      "[Parallel(n_jobs=72)]: Using backend ThreadingBackend with 72 concurrent workers.\n",
      "[Parallel(n_jobs=72)]: Done  56 tasks      | elapsed:    0.3s\n",
      "[Parallel(n_jobs=72)]: Done 306 tasks      | elapsed:    1.4s\n",
      "[Parallel(n_jobs=72)]: Done 656 tasks      | elapsed:    3.0s\n",
      "[Parallel(n_jobs=72)]: Done 1106 tasks      | elapsed:    5.2s\n",
      "[Parallel(n_jobs=72)]: Done 1656 tasks      | elapsed:    7.9s\n",
      "[Parallel(n_jobs=72)]: Done 2306 tasks      | elapsed:   10.8s\n",
      "[Parallel(n_jobs=72)]: Done 3056 tasks      | elapsed:   14.3s\n",
      "[Parallel(n_jobs=72)]: Done 3906 tasks      | elapsed:   18.5s\n",
      "[Parallel(n_jobs=72)]: Done 4856 tasks      | elapsed:   23.1s\n",
      "[Parallel(n_jobs=72)]: Done 6000 out of 6000 | elapsed:   28.4s finished\n"
     ]
    }
   ],
   "source": [
    "\n",
    "fns = []\n",
    "fps = []\n",
    "\n",
    "for i in range(100):\n",
    "    if i%10 == 0:\n",
    "        print(i)\n",
    "    scopus = []\n",
    "    np.random.shuffle(data[\"p\"])\n",
    "    np.random.shuffle(data[\"n\"])\n",
    "    for i in data[\"p\"][0:3000]:\n",
    "        scopus.append((i,True))\n",
    "    for i in data[\"n\"][0:3000]:\n",
    "        scopus.append((i,False))\n",
    "    np.random.shuffle(scopus) #shuffle is inplace\n",
    "    results = Parallel(n_jobs=72,backend='threading',verbose=1)(delayed(s.search_work)(rec[0]['Title'],rec[0]['Source title'],rec[0]['Year'],\n",
    "                     \" \".join(rec[0]['Authors'].split(\",\")[0:5]), rec[0]['Volume'], rec[0]['Issue'], rec[0]['Page start'], rec[0]['Page end']) for rec in scopus)\n",
    "                     #use_es_thold = False, es_thold_low = 0, es_thold_high = 180,#) for rec in scopus)\n",
    "                     #ratio_thold = 90, partial_thold = 92, low_thold = 81) for rec in scopus)\n",
    "    actual = []\n",
    "    predicted = []\n",
    "    for i in range(len(results)):\n",
    "        actual.append(scopus[i][1])\n",
    "        if results[i] is not None:\n",
    "            predicted.append(True)\n",
    "        else:\n",
    "            predicted.append(False)\n",
    "    confusion_matrix = metrics.confusion_matrix(actual, predicted)\n",
    "    confusion_matrix = np.flip(confusion_matrix)\n",
    "    fn = confusion_matrix[0][1]*100/(confusion_matrix[0][0]+confusion_matrix[0][1])\n",
    "    fns.append(fn)\n",
    "    fp = confusion_matrix[1][0]*100/(confusion_matrix[1][0]+confusion_matrix[1][1])\n",
    "    fps.append(fp)"
   ]
  },
  {
   "cell_type": "code",
   "execution_count": 7,
   "id": "89319b35-bd0e-40ef-b59d-dc62f45c378e",
   "metadata": {},
   "outputs": [
    {
     "data": {
      "text/plain": [
       "True"
      ]
     },
     "execution_count": 7,
     "metadata": {},
     "output_type": "execute_result"
    },
    {
     "data": {
      "image/png": "[encoded data removed]",
      "text/plain": [
       "<Figure size 800x600 with 1 Axes>"
      ]
     },
     "metadata": {},
     "output_type": "display_data"
    }
   ],
   "source": [
    "plt.figure(figsize=(8,6))\n",
    "plt.hist(fns, bins=10, alpha=0.5, label=\"data1\", density=False)\n",
    "True"
   ]
  },
  {
   "cell_type": "code",
   "execution_count": 8,
   "id": "7091d9cd-7e91-4b84-b8ad-eddce22641ac",
   "metadata": {},
   "outputs": [
    {
     "data": {
      "text/plain": [
       "True"
      ]
     },
     "execution_count": 8,
     "metadata": {},
     "output_type": "execute_result"
    },
    {
     "data": {
      "image/png": "[encoded data removed]",
      "text/plain": [
       "<Figure size 800x600 with 1 Axes>"
      ]
     },
     "metadata": {},
     "output_type": "display_data"
    }
   ],
   "source": [
    "plt.figure(figsize=(8,6))\n",
    "plt.hist(fps, bins=10, alpha=0.5, label=\"data1\", density=False)\n",
    "True"
   ]
  },
  {
   "cell_type": "code",
   "execution_count": 9,
   "id": "4bfc652a-2c86-4e0c-96dd-490da3539c18",
   "metadata": {},
   "outputs": [
    {
     "data": {
      "text/plain": [
       "0.6499999999999999"
      ]
     },
     "execution_count": 9,
     "metadata": {},
     "output_type": "execute_result"
    }
   ],
   "source": [
    "#0.71 no ES th\n",
    "#0.69 boost 1 size =5\n",
    "np.mean(fns)"
   ]
  },
  {
   "cell_type": "code",
   "execution_count": 10,
   "id": "24916723-ec95-4707-897a-94cd5f57f71d",
   "metadata": {},
   "outputs": [
    {
     "data": {
      "text/plain": [
       "0.05426273532033234"
      ]
     },
     "execution_count": 10,
     "metadata": {},
     "output_type": "execute_result"
    }
   ],
   "source": [
    "np.std(fns)"
   ]
  },
  {
   "cell_type": "code",
   "execution_count": 11,
   "id": "5f9433d7-607e-4b79-8caf-71a6764ebd9a",
   "metadata": {},
   "outputs": [
    {
     "data": {
      "text/plain": [
       "7.546666666666665"
      ]
     },
     "execution_count": 11,
     "metadata": {},
     "output_type": "execute_result"
    }
   ],
   "source": [
    "np.mean(fps)"
   ]
  },
  {
   "cell_type": "code",
   "execution_count": 12,
   "id": "146c42ca-c210-4f8f-8036-5de8f3dfb4ab",
   "metadata": {},
   "outputs": [
    {
     "data": {
      "text/plain": [
       "0.6139489663916159"
      ]
     },
     "execution_count": 12,
     "metadata": {},
     "output_type": "execute_result"
    }
   ],
   "source": [
    "np.std(fps)"
   ]
  },
  {
   "cell_type": "code",
   "execution_count": null,
   "id": "f1d49a68-a665-4c27-ba30-781d5eac5431",
   "metadata": {},
   "outputs": [],
   "source": [
    "with open('similarity_fns_fps_noauthors_ratio_thold95.pkl', 'wb') as f:\n",
    "    pickle.dump({\"fns\":fns,\"fps\":fps}, f)"
   ]
  },
  {
   "cell_type": "code",
   "execution_count": null,
   "id": "c22b43c3-9763-4f35-ba48-0797bcd1be86",
   "metadata": {},
   "outputs": [],
   "source": [
    "       "
   ]
  },
  {
   "cell_type": "code",
   "execution_count": null,
   "id": "56813e58-9a78-4734-a640-023e624fe846",
   "metadata": {},
   "outputs": [],
   "source": []
  },
  {
   "cell_type": "code",
   "execution_count": null,
   "id": "9ffc281b-e516-47e1-a23b-2171c915fb2f",
   "metadata": {},
   "outputs": [],
   "source": []
  },
  {
   "cell_type": "code",
   "execution_count": null,
   "id": "037ad3b2-b3ad-4031-8ccf-ad6392d78abc",
   "metadata": {},
   "outputs": [],
   "source": []
  },
  {
   "cell_type": "code",
   "execution_count": null,
   "id": "db368c81-08d4-4298-b773-222a383a97e7",
   "metadata": {},
   "outputs": [],
   "source": []
  }
 ],
 "metadata": {
  "kernelspec": {
   "display_name": "Python 3 (ipykernel)",
   "language": "python",
   "name": "python3"
  },
  "language_info": {
   "codemirror_mode": {
    "name": "ipython",
    "version": 3
   },
   "file_extension": ".py",
   "mimetype": "text/x-python",
   "name": "python",
   "nbconvert_exporter": "python",
   "pygments_lexer": "ipython3",
   "version": "3.9.2"
  }
 },
 "nbformat": 4,
 "nbformat_minor": 5
}
