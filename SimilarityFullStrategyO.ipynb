{
 "cells": [
  {
   "cell_type": "code",
   "execution_count": 1,
   "id": "708b9f0b-9305-4e07-845c-59aeccd856b3",
   "metadata": {},
   "outputs": [],
   "source": [
    "from pymongo import MongoClient\n",
    "from elasticsearch import Elasticsearch, helpers\n",
    "import requests\n",
    "from IPython.display import JSON\n",
    "import numpy as np\n",
    "from fuzzywuzzy import fuzz\n",
    "from joblib import Parallel, delayed\n",
    "import pickle\n",
    "import matplotlib.pyplot as plt\n",
    "import numpy\n",
    "from sklearn import metrics\n",
    "import math\n",
    "from thefuzz import fuzz, process\n",
    "import re\n",
    "from IPython.display import clear_output, display\n",
    "import json\n",
    "from unidecode import unidecode\n",
    "from colavsim import colav_similarity, parse_doi, parse_string"
   ]
  },
  {
   "cell_type": "code",
   "execution_count": 2,
   "id": "85c9b460-8582-4449-992c-04ce74d3ccfc",
   "metadata": {},
   "outputs": [],
   "source": [
    "es = Elasticsearch(timeout=120)"
   ]
  },
  {
   "cell_type": "code",
   "execution_count": 3,
   "id": "4743a24f-e166-4894-8177-dbe6c52814a8",
   "metadata": {},
   "outputs": [],
   "source": [
    "# open a file, where you stored the pickled data\n",
    "file = open('dataset_full.pkl', 'rb')\n",
    "# dump information to that file\n",
    "data = pickle.load(file)\n",
    "# close the file\n",
    "file.close()"
   ]
  },
  {
   "cell_type": "code",
   "execution_count": 4,
   "id": "ead3c6c0-b35e-4455-9a6a-5b764337a5f6",
   "metadata": {},
   "outputs": [
    {
     "data": {
      "text/plain": [
       "101773"
      ]
     },
     "execution_count": 4,
     "metadata": {},
     "output_type": "execute_result"
    }
   ],
   "source": [
    "len(data[\"p\"])"
   ]
  },
  {
   "cell_type": "code",
   "execution_count": 5,
   "id": "345fb1b9-d27e-4d48-bf6b-a5421f8c8c1f",
   "metadata": {},
   "outputs": [
    {
     "data": {
      "text/plain": [
       "41596"
      ]
     },
     "execution_count": 5,
     "metadata": {},
     "output_type": "execute_result"
    }
   ],
   "source": [
    "len(data[\"n\"])"
   ]
  },
  {
   "cell_type": "code",
   "execution_count": 6,
   "id": "db99f311-cc92-4534-ae6d-e5ece5a4e1a5",
   "metadata": {},
   "outputs": [
    {
     "data": {
      "text/plain": [
       "{'Authors': 'Jaramillo-Ayerbe F., Berrío-Muñoz J.',\n",
       " 'Title': 'Ivermectin for crusted Norwegian scabies induced by use of topical steroids',\n",
       " 'Year': 1998,\n",
       " 'Source title': 'Archives of Dermatology',\n",
       " 'Volume': '134',\n",
       " 'Issue': '2',\n",
       " 'Page start': '143',\n",
       " 'Page end': '145',\n",
       " 'DOI': '10.1001/archderm.134.2.143'}"
      ]
     },
     "execution_count": 6,
     "metadata": {},
     "output_type": "execute_result"
    }
   ],
   "source": [
    "data[\"p\"][0]"
   ]
  },
  {
   "cell_type": "code",
   "execution_count": 7,
   "id": "9e96d497-83a8-47be-8801-f01acb2027ae",
   "metadata": {},
   "outputs": [
    {
     "data": {
      "text/plain": [
       "{'Authors': 'Flórez G.A.D., Mombello E.E., Voss S.',\n",
       " 'Title': 'Novel technique for the calculation of eddy current losses and Lorentz forces in foil winding transformers',\n",
       " 'Year': 2017,\n",
       " 'Source title': 'International Journal of Applied Electromagnetics and Mechanics',\n",
       " 'Volume': '55',\n",
       " 'Issue': '1',\n",
       " 'Page start': '75',\n",
       " 'Page end': '88',\n",
       " 'DOI': '10..3233/JAE-160144'}"
      ]
     },
     "execution_count": 7,
     "metadata": {},
     "output_type": "execute_result"
    }
   ],
   "source": [
    "data[\"n\"][0]"
   ]
  },
  {
   "cell_type": "code",
   "execution_count": 8,
   "id": "7d83326c-d441-4dc3-b39a-0a5cd3a4192a",
   "metadata": {},
   "outputs": [],
   "source": [
    "scopus = []\n",
    "#np.random.shuffle(data[\"p\"])\n",
    "#np.random.shuffle(data[\"n\"])\n",
    "for i in data[\"p\"][0:3001]:\n",
    "    scopus.append((i,True))\n",
    "for i in data[\"n\"][0:3000]:\n",
    "    scopus.append((i,False))"
   ]
  },
  {
   "cell_type": "code",
   "execution_count": 66,
   "id": "8e93091a-83f7-44c7-a1d1-285b6adbefdb",
   "metadata": {},
   "outputs": [
    {
     "name": "stderr",
     "output_type": "stream",
     "text": [
      "/tmp/ipykernel_455605/1118372514.py:1: DeprecationWarning: Using positional arguments for APIs is deprecated and will be disabled in 8.0.0. Instead use only keyword arguments for all APIs. See https://github.com/elastic/elasticsearch-py/issues/1698 for more information\n",
      "  es_index = list(es.indices.get_alias(\"*\").keys())\n"
     ]
    },
    {
     "data": {
      "text/plain": [
       "['openalex_parsed']"
      ]
     },
     "execution_count": 66,
     "metadata": {},
     "output_type": "execute_result"
    }
   ],
   "source": [
    "es_index = list(es.indices.get_alias(\"*\").keys())\n",
    "es_index.remove(\"openalex_raw\")\n",
    "es_index.remove(\"oa_dfr\")\n",
    "es_index"
   ]
  },
  {
   "cell_type": "code",
   "execution_count": null,
   "id": "cbe1c796-c132-4f5d-980f-d902740b8706",
   "metadata": {},
   "outputs": [],
   "source": []
  },
  {
   "cell_type": "code",
   "execution_count": 10,
   "id": "6058f012-1ece-40f8-ad7a-85c610d908ad",
   "metadata": {},
   "outputs": [],
   "source": [
    "def get_oa_doi(es_reg):\n",
    "    for i in es_reg[\"_source\"]['external_ids']:\n",
    "        if i['source'] == \"doi\":\n",
    "            return i[\"id\"]\n",
    "\n",
    "\n",
    "def get_oa_doi(es_reg):\n",
    "    return es_reg[\"_source\"]['doi']\n"
   ]
  },
  {
   "cell_type": "code",
   "execution_count": 386,
   "id": "9579759a-ea77-4b5d-8552-997ebad85c50",
   "metadata": {},
   "outputs": [],
   "source": [
    "def search(Title, Authors, Source, Year, Volume, Issue, PageStart, PageEnd, punto_de_corte = 0):\n",
    "    \"\"\"\n",
    "    Definir el valor mínimo del _score que deseas\n",
    "    Puedes ajustar este valor según tus necesidades\n",
    "\n",
    "    \"\"\"\n",
    "    if not isinstance(Title, str):\n",
    "        Title = \"\"\n",
    "    if not isinstance(Source, str):\n",
    "        Source = \"\"\n",
    "    if not isinstance(Volume, str) or not isinstance(Volume, int):\n",
    "        Volume = \"\"\n",
    "    if not isinstance(Issue, str) or not isinstance(Issue, int):\n",
    "        Issue = \"\"\n",
    "    if not isinstance(PageStart, str) or not isinstance(PageStart, int):\n",
    "        PageStart = \"\"\n",
    "    if not isinstance(PageEnd, str) or not isinstance(PageEnd, int):\n",
    "        PageEnd = \"\"\n",
    "        \n",
    "    body = {\n",
    "        \"query\": {\n",
    "            \"bool\": {\n",
    "                \"should\": [\n",
    "                     { \"match\": { \"title\": Title}},\n",
    "                    #{ \"match_phrase\": { \"title\": { \"query\": Title, \"boost\": 2 }}},\n",
    "                    { \"match\": { \"authorships.author.display_name\":  Authors }},\n",
    "                    { \"match\": { \"host_venue.display_name\":  Source}},\n",
    "                    { \"term\": { \"publication_year\": Year }},\n",
    "                    { \"term\": { \"biblio.volume\": Volume }},\n",
    "                    { \"term\": { \"biblio.issue\": Issue }},\n",
    "                    { \"term\": { \"biblio.first_page\": PageStart }},\n",
    "                    { \"term\": { \"biblio.last_page\": PageEnd }},\n",
    "                    \n",
    "                ] ,\n",
    "                # \"must\": [\n",
    "                #      { \"match\": { \"title\": Title}},\n",
    "                #     #{ \"match_phrase\": { \"title\": { \"query\": Title, \"boost\": 2 }}},\n",
    "                #     # { \"match\": { \"authorships.author.display_name\":  Authors }},\n",
    "                #     { \"match\": { \"host_venue.display_name\":  Source}},\n",
    "                #     # { \"term\": { \"publication_year\": Year }},\n",
    "                #     # { \"term\": { \"biblio.volume\": Volume }},\n",
    "                #     # { \"term\": { \"biblio.issue\": Issue }},\n",
    "                #     # { \"term\": { \"biblio.first_page\": PageStart }},\n",
    "                #     # { \"term\": { \"biblio.last_page\": PageEnd }},\n",
    "                    \n",
    "                # ]                  \n",
    "            }\n",
    "        },\n",
    "        \"size\": 10,\n",
    "        \"min_score\": punto_de_corte\n",
    "    }\n",
    "    \n",
    "    res = es.search(index=es_index, **body)\n",
    "    return  res"
   ]
  },
  {
   "cell_type": "code",
   "execution_count": 348,
   "id": "b535edfe-b85b-4555-a0bc-1892addfb135",
   "metadata": {},
   "outputs": [
    {
     "name": "stdout",
     "output_type": "stream",
     "text": [
      "Evaluation of greenhouses in fish production [Evaluación de invernaderos en producciones piscícolas]\n"
     ]
    }
   ],
   "source": [
    "def parse_string(string:str):\n",
    "    data = str(string).lower()\n",
    "    data = re.sub(r'<[^>]+>','',data)\n",
    "    data = unidecode(data)\n",
    "    return data    \n",
    "print(scopus[0][0][\"Title\"])\n",
    "def parse_doi(doi):\n",
    "    \n",
    "    return re.sub(r'https*\\:\\/\\/[\\w\\.]+\\/','',str(doi).lower())"
   ]
  },
  {
   "cell_type": "code",
   "execution_count": 349,
   "id": "32552959-ee0e-4cd6-af4b-653bdb5babf1",
   "metadata": {},
   "outputs": [
    {
     "data": {
      "text/plain": [
       "'evaluation of greenhouses in fish production [evaluacion de invernaderos en producciones piscicolas]'"
      ]
     },
     "execution_count": 349,
     "metadata": {},
     "output_type": "execute_result"
    }
   ],
   "source": [
    "parse_string(scopus[0][0][\"Title\"])"
   ]
  },
  {
   "cell_type": "code",
   "execution_count": 350,
   "id": "6f07f2fe-d955-4cc5-933a-b469aa4b7df0",
   "metadata": {},
   "outputs": [
    {
     "data": {
      "text/plain": [
       "'Hahn-von-Hessberg C.M., Grajales-Quintero A.'"
      ]
     },
     "execution_count": 350,
     "metadata": {},
     "output_type": "execute_result"
    }
   ],
   "source": [
    "scopus[0][0]['Authors']"
   ]
  },
  {
   "cell_type": "code",
   "execution_count": 439,
   "id": "c81680b0-1e0b-4a5b-962b-3b17c341edda",
   "metadata": {},
   "outputs": [
    {
     "name": "stderr",
     "output_type": "stream",
     "text": [
      "[Parallel(n_jobs=15)]: Using backend ThreadingBackend with 15 concurrent workers.\n",
      "[Parallel(n_jobs=15)]: Done  11 tasks      | elapsed:    0.4s\n",
      "[Parallel(n_jobs=15)]: Done 132 tasks      | elapsed:    2.7s\n",
      "[Parallel(n_jobs=15)]: Done 335 tasks      | elapsed:    8.2s\n",
      "[Parallel(n_jobs=15)]: Done 618 tasks      | elapsed:   14.5s\n",
      "[Parallel(n_jobs=15)]: Done 983 tasks      | elapsed:   24.4s\n",
      "[Parallel(n_jobs=15)]: Done 1428 tasks      | elapsed:   36.1s\n",
      "[Parallel(n_jobs=15)]: Done 1955 tasks      | elapsed:   46.2s\n",
      "[Parallel(n_jobs=15)]: Done 2562 tasks      | elapsed:  1.0min\n",
      "[Parallel(n_jobs=15)]: Done 3251 tasks      | elapsed:  1.4min\n",
      "[Parallel(n_jobs=15)]: Done 4020 tasks      | elapsed:  1.6min\n",
      "[Parallel(n_jobs=15)]: Done 4871 tasks      | elapsed:  1.9min\n",
      "[Parallel(n_jobs=15)]: Done 5802 tasks      | elapsed:  2.2min\n",
      "[Parallel(n_jobs=15)]: Done 6815 tasks      | elapsed:  2.6min\n",
      "[Parallel(n_jobs=15)]: Done 7908 tasks      | elapsed:  3.0min\n",
      "[Parallel(n_jobs=15)]: Done 9083 tasks      | elapsed:  3.5min\n",
      "[Parallel(n_jobs=15)]: Done 10338 tasks      | elapsed:  4.0min\n",
      "[Parallel(n_jobs=15)]: Done 11675 tasks      | elapsed:  4.6min\n",
      "[Parallel(n_jobs=15)]: Done 13092 tasks      | elapsed:  5.2min\n",
      "[Parallel(n_jobs=15)]: Done 14591 tasks      | elapsed:  5.8min\n",
      "[Parallel(n_jobs=15)]: Done 16170 tasks      | elapsed:  6.4min\n",
      "[Parallel(n_jobs=15)]: Done 17831 tasks      | elapsed:  7.1min\n",
      "[Parallel(n_jobs=15)]: Done 19572 tasks      | elapsed:  7.8min\n"
     ]
    },
    {
     "name": "stdout",
     "output_type": "stream",
     "text": [
      "CPU times: user 7min 49s, sys: 40.4 s, total: 8min 29s\n",
      "Wall time: 8min 1s\n"
     ]
    },
    {
     "name": "stderr",
     "output_type": "stream",
     "text": [
      "[Parallel(n_jobs=15)]: Done 20000 out of 20000 | elapsed:  8.0min finished\n"
     ]
    }
   ],
   "source": [
    "%%time\n",
    "#ratio_thold=90, partial_thold=90,low_thold=85) #3000 / fn = 26\n",
    "#ratio_thold=95, partial_thold=90,low_thold=80 #3000 / fn = 25\n",
    "#ratio_thold=90, partial_thold=90,low_thold=80 #3000 / fn = 24\n",
    "def es_similarity(rec,th = 0):\n",
    "    res = search(parse_string(rec['Title']),rec['Authors'],rec['Source title'],rec['Year'],\n",
    "                 rec['Volume'], rec['Issue'], rec['Page start'], rec['Page end'],0)\n",
    "    if res[\"hits\"][\"total\"][\"value\"] != 0:\n",
    "        _score = res[\"hits\"][\"hits\"][0][\"_score\"]\n",
    "        # i = res[\"hits\"][\"hits\"][0]\n",
    "        # value = colav_similarity(rec['Title']       ,  i[\"_source\"]['title'],\n",
    "        #                         rec['Source title'],  i[\"_source\"][\"host_venue\"][\"display_name\"],\n",
    "        #                         rec['Year']        ,  i[\"_source\"]['publication_year'],\n",
    "        #                         ratio_thold=90, partial_thold=90,low_thold=80)\n",
    "        # return (value,i[\"_score\"])\n",
    "# #                      \n",
    "#         for i in res[\"hits\"][\"hits\"]:\n",
    "#            if  colav_similarity(rec['Title']       ,  i[\"_source\"]['title'],\n",
    "#                                 rec['Source title'],  i[\"_source\"][\"host_venue\"][\"display_name\"],\n",
    "#                                 rec['Year']        ,  i[\"_source\"]['publication_year'],\n",
    "#                                 ratio_thold=95, partial_thold=95,low_thold=95):\n",
    "#                return (True,i[\"_score\"])\n",
    "# #                                ratio_thold=95, partial_thold=95,low_thold=95)\n",
    "#         return (False,_score)\n",
    "        if _score >= th:\n",
    "            return (True,_score)\n",
    "        else:\n",
    "            i = res[\"hits\"][\"hits\"][0]\n",
    "            value = colav_similarity(rec['Title']       ,  i[\"_source\"]['title'],\n",
    "                                    rec['Source title'],  i[\"_source\"][\"host_venue\"][\"display_name\"],\n",
    "                                    rec['Year']        ,  i[\"_source\"]['publication_year'],\n",
    "                                    ratio_thold=90, partial_thold=95,low_thold=80)\n",
    "            return (value,i[\"_score\"])\n",
    "\n",
    "        # oa_doi = re.sub(r'https*\\:\\/\\/[\\w\\.]+\\/','',get_oa_doi(res[\"hits\"][\"hits\"][0]).lower())\n",
    "        # sc_doi = re.sub(r'https*\\:\\/\\/[\\w\\.]+\\/','',rec[\"DOI\"].lower())\n",
    "        # if oa_doi == sc_doi:\n",
    "        #     return (True,_score)\n",
    "        # else:\n",
    "        #     return (False,_score)\n",
    "        # return (True,_score)\n",
    "    else:\n",
    "        return (False,0)\n",
    "scopus = []\n",
    "np.random.shuffle(data[\"p\"])\n",
    "np.random.shuffle(data[\"n\"])\n",
    "for i in data[\"p\"][0:10000]:\n",
    "    scopus.append((i,True))\n",
    "for i in data[\"n\"][0:10000]:\n",
    "    scopus.append((i,False))\n",
    "np.random.shuffle(scopus) #shuffle is inplace\n",
    "th=100\n",
    "results = Parallel(n_jobs=15,backend='threading',verbose=2)(delayed(es_similarity)(rec[0],th) for rec in scopus)"
   ]
  },
  {
   "cell_type": "code",
   "execution_count": 440,
   "id": "f9ffd190-2b84-439c-b549-a4ef8acbb1b3",
   "metadata": {},
   "outputs": [],
   "source": [
    "#>tp, tn, fp, fn\n",
    "actual = []\n",
    "predicted = []\n",
    "for i in range(len(results)):\n",
    "    if results[i] is not None:\n",
    "        actual.append(scopus[i][1])\n",
    "        predicted.append(results[i][0])\n"
   ]
  },
  {
   "cell_type": "code",
   "execution_count": 441,
   "id": "6d0b4511-b51c-4e9b-a7b6-e04db6e5b353",
   "metadata": {},
   "outputs": [
    {
     "data": {
      "image/png": "[encoded data removed]",
      "text/plain": [
       "<Figure size 640x480 with 2 Axes>"
      ]
     },
     "metadata": {},
     "output_type": "display_data"
    }
   ],
   "source": [
    "confusion_matrix = metrics.confusion_matrix(actual, predicted)\n",
    "confusion_matrix = np.flip(confusion_matrix)\n",
    "cm_display = metrics.ConfusionMatrixDisplay(confusion_matrix = confusion_matrix, display_labels = [True, False])\n",
    "\n",
    "cm_display.plot()\n",
    "plt.show()"
   ]
  },
  {
   "cell_type": "code",
   "execution_count": 442,
   "id": "f67fdf7b-43ae-4283-a114-75fbd26f2292",
   "metadata": {},
   "outputs": [
    {
     "data": {
      "text/plain": [
       "0.4924128228318762"
      ]
     },
     "execution_count": 442,
     "metadata": {},
     "output_type": "execute_result"
    }
   ],
   "source": [
    "fn = confusion_matrix[0][1]*100/confusion_matrix[0][0]\n",
    "fn"
   ]
  },
  {
   "cell_type": "code",
   "execution_count": 443,
   "id": "46eed461-93fc-4977-aaea-1493e363de48",
   "metadata": {},
   "outputs": [
    {
     "data": {
      "text/plain": [
       "19.38872970391595"
      ]
     },
     "execution_count": 443,
     "metadata": {},
     "output_type": "execute_result"
    }
   ],
   "source": [
    "fp = confusion_matrix[1][0]*100/confusion_matrix[1][1]\n",
    "fp"
   ]
  },
  {
   "cell_type": "code",
   "execution_count": 444,
   "id": "8a7cebbd-f4fd-4b02-ad35-4c33ebc41324",
   "metadata": {},
   "outputs": [
    {
     "name": "stdout",
     "output_type": "stream",
     "text": [
      "Accuracy  = 0.9163\n",
      "Precision = 0.8597\n",
      "Recall    = 0.9951\n",
      "F1        = 0.9225\n"
     ]
    }
   ],
   "source": [
    "acc = metrics.accuracy_score(actual,predicted)\n",
    "pre = metrics.precision_score(actual,predicted)\n",
    "rec = metrics.recall_score(actual,predicted)\n",
    "f1  = metrics.f1_score(actual,predicted)\n",
    "\n",
    "print(f\"Accuracy  = {acc:.4f}\")\n",
    "print(f\"Precision = {pre:.4f}\")\n",
    "print(f\"Recall    = {rec:.4f}\")\n",
    "print(f\"F1        = {f1:.4f}\")\n"
   ]
  },
  {
   "cell_type": "code",
   "execution_count": 445,
   "id": "8501cd27-7ea5-4390-b16e-108a04ea4a62",
   "metadata": {},
   "outputs": [],
   "source": [
    "score_p = []\n",
    "score_n = []\n",
    "for i in results:\n",
    "    if i[0]:\n",
    "        score_p.append(i[1])\n",
    "    else:\n",
    "        score_n.append(i[1])  "
   ]
  },
  {
   "cell_type": "code",
   "execution_count": 411,
   "id": "3119d5ae-c8f4-4f7b-ba3d-ec9455ca741e",
   "metadata": {},
   "outputs": [
    {
     "data": {
      "text/plain": [
       "238.04443271212014"
      ]
     },
     "execution_count": 411,
     "metadata": {},
     "output_type": "execute_result"
    }
   ],
   "source": [
    "np.mean(score_p)"
   ]
  },
  {
   "cell_type": "code",
   "execution_count": 412,
   "id": "3db5db84-c1bd-4048-87f3-0f7e40d6d609",
   "metadata": {},
   "outputs": [
    {
     "data": {
      "text/plain": [
       "138200"
      ]
     },
     "execution_count": 412,
     "metadata": {},
     "output_type": "execute_result"
    }
   ],
   "source": [
    "len(score_p)"
   ]
  },
  {
   "cell_type": "code",
   "execution_count": 413,
   "id": "017a8034-3216-4c1e-bcac-4a802160dc12",
   "metadata": {},
   "outputs": [
    {
     "data": {
      "text/plain": [
       "5169"
      ]
     },
     "execution_count": 413,
     "metadata": {},
     "output_type": "execute_result"
    }
   ],
   "source": [
    "len(score_n)"
   ]
  },
  {
   "cell_type": "code",
   "execution_count": 414,
   "id": "4f59e5a0-14fb-41f9-a566-d8e23b02b301",
   "metadata": {},
   "outputs": [],
   "source": [
    "f_score_p = []\n",
    "f_score_n = []\n",
    "\n",
    "for i in score_p:\n",
    "    if i<1000:\n",
    "        f_score_p.append(i)\n",
    "\n",
    "for i in score_n:\n",
    "    if i<1000:\n",
    "        f_score_n.append(i)"
   ]
  },
  {
   "cell_type": "code",
   "execution_count": 415,
   "id": "33ca5350-b7d7-42fa-8e8b-92d20ef724e6",
   "metadata": {},
   "outputs": [],
   "source": [
    "f_score_p = np.array(f_score_p)\n",
    "f_score_n = np.array(f_score_n)\n"
   ]
  },
  {
   "cell_type": "code",
   "execution_count": 416,
   "id": "f2c2248a-38f6-40b5-b9a5-c9d6ab96473d",
   "metadata": {},
   "outputs": [
    {
     "data": {
      "text/plain": [
       "991.9126"
      ]
     },
     "execution_count": 416,
     "metadata": {},
     "output_type": "execute_result"
    }
   ],
   "source": [
    "f_score_p.max()\n"
   ]
  },
  {
   "cell_type": "code",
   "execution_count": 417,
   "id": "cf1d561f-761e-44a8-82a8-0ce58b65c82b",
   "metadata": {},
   "outputs": [
    {
     "data": {
      "text/plain": [
       "129.424207825"
      ]
     },
     "execution_count": 417,
     "metadata": {},
     "output_type": "execute_result"
    }
   ],
   "source": [
    "# Obtiene la información del histograma\n",
    "valores_p, bordes_p = np.histogram(f_score_p, bins=100, density=True)\n",
    "centros_p = 0.5 * (bordes_p[:-1] + bordes_p[1:])\n",
    "\n",
    "# Encuentra el valor máximo en el eje Y\n",
    "valor_maximo_y_p = max(valores_p)\n",
    "\n",
    "# Encuentra el valor en el eje X para el cual Y es máximo\n",
    "valor_maximo_x_p = centros_p[np.argmax(valores_p)]\n",
    "valor_maximo_x_p"
   ]
  },
  {
   "cell_type": "code",
   "execution_count": 418,
   "id": "ab8bc200-548f-4cce-b768-6652bb6891c3",
   "metadata": {},
   "outputs": [
    {
     "data": {
      "text/plain": [
       "870.0922056249999"
      ]
     },
     "execution_count": 418,
     "metadata": {},
     "output_type": "execute_result"
    }
   ],
   "source": [
    "# Obtiene la información del histograma\n",
    "valores_n, bordes_n = np.histogram(f_score_n, bins=100, density=True)\n",
    "centros_n = 0.5 * (bordes_n[:-1] + bordes_n[1:])\n",
    "\n",
    "# Encuentra el valor máximo en el eje Y\n",
    "valor_maximo_y_n = max(valores_n)\n",
    "\n",
    "# Encuentra el valor en el eje X para el cual Y es máximo\n",
    "valor_maximo_x_n = centros_p[np.argmax(valores_n)]\n",
    "valor_maximo_x_n"
   ]
  },
  {
   "cell_type": "code",
   "execution_count": 419,
   "id": "3b3828cd-3eb9-4c75-9fdd-b6a782e67b17",
   "metadata": {},
   "outputs": [
    {
     "data": {
      "text/plain": [
       "True"
      ]
     },
     "execution_count": 419,
     "metadata": {},
     "output_type": "execute_result"
    },
    {
     "data": {
      "image/png": "[encoded data removed]",
      "text/plain": [
       "<Figure size 800x600 with 1 Axes>"
      ]
     },
     "metadata": {},
     "output_type": "display_data"
    }
   ],
   "source": [
    "n_bins = 100\n",
    "\n",
    "\n",
    "plt.figure(figsize=(8,6))\n",
    "plt.hist(f_score_p, bins=100, alpha=0.5, label=\"data1\", density=False)\n",
    "plt.hist(f_score_n, bins=100, alpha=0.5, label=\"data1\", density=False)\n",
    "# Dibuja una línea vertical en el punto máximo\n",
    "plt.axvline(x=valor_maximo_x_p, color='r', linestyle='--', label=f'Máximo en X: {valor_maximo_x_p:.2f}')\n",
    "plt.axvline(x=valor_maximo_x_n, color='r', linestyle=':', label=f'Máximo en X: {valor_maximo_x_n:.2f}')\n",
    "\n",
    "True"
   ]
  },
  {
   "cell_type": "code",
   "execution_count": null,
   "id": "0eafcc7a-a6d0-44d0-bf09-b22568bfb16d",
   "metadata": {},
   "outputs": [],
   "source": []
  },
  {
   "cell_type": "code",
   "execution_count": null,
   "id": "3c07b47b-19bf-4bd1-aad5-893a73f578e0",
   "metadata": {},
   "outputs": [],
   "source": []
  },
  {
   "cell_type": "code",
   "execution_count": null,
   "id": "87d08ca4-342c-4fd1-a8ca-f19fa79aedd8",
   "metadata": {},
   "outputs": [],
   "source": []
  }
 ],
 "metadata": {
  "kernelspec": {
   "display_name": "Python 3 (ipykernel)",
   "language": "python",
   "name": "python3"
  },
  "language_info": {
   "codemirror_mode": {
    "name": "ipython",
    "version": 3
   },
   "file_extension": ".py",
   "mimetype": "text/x-python",
   "name": "python",
   "nbconvert_exporter": "python",
   "pygments_lexer": "ipython3",
   "version": "3.11.4"
  }
 },
 "nbformat": 4,
 "nbformat_minor": 5
}
