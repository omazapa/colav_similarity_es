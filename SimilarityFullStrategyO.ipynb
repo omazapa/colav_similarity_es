{
 "cells": [
  {
   "cell_type": "code",
   "execution_count": 922,
   "id": "708b9f0b-9305-4e07-845c-59aeccd856b3",
   "metadata": {},
   "outputs": [],
   "source": [
    "from pymongo import MongoClient\n",
    "from elasticsearch import Elasticsearch, helpers\n",
    "import requests\n",
    "from IPython.display import JSON\n",
    "import numpy as np\n",
    "from fuzzywuzzy import fuzz\n",
    "from joblib import Parallel, delayed\n",
    "import pickle\n",
    "import matplotlib.pyplot as plt\n",
    "import numpy\n",
    "from sklearn import metrics\n",
    "import math\n",
    "from thefuzz import fuzz, process\n",
    "import re\n",
    "from IPython.display import clear_output, display\n",
    "import json\n",
    "from unidecode import unidecode\n",
    "from colavsim import colav_similarity, parse_doi, parse_string\n",
    "import sys"
   ]
  },
  {
   "cell_type": "code",
   "execution_count": null,
   "id": "a95e92a9-920d-4d26-8236-5000f6ba7e6f",
   "metadata": {},
   "outputs": [],
   "source": []
  },
  {
   "cell_type": "code",
   "execution_count": 3,
   "id": "85c9b460-8582-4449-992c-04ce74d3ccfc",
   "metadata": {},
   "outputs": [],
   "source": [
    "es = Elasticsearch(timeout=120)"
   ]
  },
  {
   "cell_type": "code",
   "execution_count": 4,
   "id": "4743a24f-e166-4894-8177-dbe6c52814a8",
   "metadata": {},
   "outputs": [],
   "source": [
    "# open a file, where you stored the pickled data\n",
    "file = open('dataset_full.pkl', 'rb')\n",
    "# dump information to that file\n",
    "data = pickle.load(file)\n",
    "# close the file\n",
    "file.close()"
   ]
  },
  {
   "cell_type": "code",
   "execution_count": 5,
   "id": "ead3c6c0-b35e-4455-9a6a-5b764337a5f6",
   "metadata": {},
   "outputs": [
    {
     "data": {
      "text/plain": [
       "101773"
      ]
     },
     "execution_count": 5,
     "metadata": {},
     "output_type": "execute_result"
    }
   ],
   "source": [
    "len(data[\"p\"])"
   ]
  },
  {
   "cell_type": "code",
   "execution_count": 6,
   "id": "345fb1b9-d27e-4d48-bf6b-a5421f8c8c1f",
   "metadata": {},
   "outputs": [
    {
     "data": {
      "text/plain": [
       "41596"
      ]
     },
     "execution_count": 6,
     "metadata": {},
     "output_type": "execute_result"
    }
   ],
   "source": [
    "len(data[\"n\"])"
   ]
  },
  {
   "cell_type": "code",
   "execution_count": 7,
   "id": "db99f311-cc92-4534-ae6d-e5ece5a4e1a5",
   "metadata": {},
   "outputs": [
    {
     "data": {
      "text/plain": [
       "{'Authors': 'Jaramillo-Ayerbe F., Berrío-Muñoz J.',\n",
       " 'Title': 'Ivermectin for crusted Norwegian scabies induced by use of topical steroids',\n",
       " 'Year': 1998,\n",
       " 'Source title': 'Archives of Dermatology',\n",
       " 'Volume': '134',\n",
       " 'Issue': '2',\n",
       " 'Page start': '143',\n",
       " 'Page end': '145',\n",
       " 'DOI': '10.1001/archderm.134.2.143'}"
      ]
     },
     "execution_count": 7,
     "metadata": {},
     "output_type": "execute_result"
    }
   ],
   "source": [
    "data[\"p\"][0]"
   ]
  },
  {
   "cell_type": "code",
   "execution_count": 8,
   "id": "9e96d497-83a8-47be-8801-f01acb2027ae",
   "metadata": {},
   "outputs": [
    {
     "data": {
      "text/plain": [
       "{'Authors': 'Flórez G.A.D., Mombello E.E., Voss S.',\n",
       " 'Title': 'Novel technique for the calculation of eddy current losses and Lorentz forces in foil winding transformers',\n",
       " 'Year': 2017,\n",
       " 'Source title': 'International Journal of Applied Electromagnetics and Mechanics',\n",
       " 'Volume': '55',\n",
       " 'Issue': '1',\n",
       " 'Page start': '75',\n",
       " 'Page end': '88',\n",
       " 'DOI': '10..3233/JAE-160144'}"
      ]
     },
     "execution_count": 8,
     "metadata": {},
     "output_type": "execute_result"
    }
   ],
   "source": [
    "data[\"n\"][0]"
   ]
  },
  {
   "cell_type": "code",
   "execution_count": 9,
   "id": "7d83326c-d441-4dc3-b39a-0a5cd3a4192a",
   "metadata": {},
   "outputs": [],
   "source": [
    "scopus = []\n",
    "#np.random.shuffle(data[\"p\"])\n",
    "#np.random.shuffle(data[\"n\"])\n",
    "for i in data[\"p\"][0:3001]:\n",
    "    scopus.append((i,True))\n",
    "for i in data[\"n\"][0:3000]:\n",
    "    scopus.append((i,False))"
   ]
  },
  {
   "cell_type": "code",
   "execution_count": 906,
   "id": "8e93091a-83f7-44c7-a1d1-285b6adbefdb",
   "metadata": {},
   "outputs": [
    {
     "name": "stdout",
     "output_type": "stream",
     "text": [
      "['openalex_dfr', 'openalex_parsed', 'openalex_raw', 'openalex_lmdirichlet']\n"
     ]
    },
    {
     "name": "stderr",
     "output_type": "stream",
     "text": [
      "/tmp/ipykernel_43864/378770228.py:1: DeprecationWarning: Using positional arguments for APIs is deprecated and will be disabled in 8.0.0. Instead use only keyword arguments for all APIs. See https://github.com/elastic/elasticsearch-py/issues/1698 for more information\n",
      "  es_index = list(es.indices.get_alias(\"*\").keys())\n"
     ]
    }
   ],
   "source": [
    "es_index = list(es.indices.get_alias(\"*\").keys())\n",
    "print(es_index)\n",
    "es_index.remove(\"openalex_raw\")\n",
    "es_index.remove(\"openalex_dfr\")\n",
    "es_index = \"openalex_raw\""
   ]
  },
  {
   "cell_type": "code",
   "execution_count": null,
   "id": "cbe1c796-c132-4f5d-980f-d902740b8706",
   "metadata": {},
   "outputs": [],
   "source": []
  },
  {
   "cell_type": "code",
   "execution_count": 907,
   "id": "6058f012-1ece-40f8-ad7a-85c610d908ad",
   "metadata": {},
   "outputs": [],
   "source": [
    "def get_oa_doi(es_reg):\n",
    "    for i in es_reg[\"_source\"]['external_ids']:\n",
    "        if i['source'] == \"doi\":\n",
    "            return i[\"id\"]\n",
    "\n",
    "\n",
    "def get_oa_doi(es_reg):\n",
    "    return es_reg[\"_source\"]['doi']\n"
   ]
  },
  {
   "cell_type": "code",
   "execution_count": 908,
   "id": "9579759a-ea77-4b5d-8552-997ebad85c50",
   "metadata": {},
   "outputs": [],
   "source": [
    "def search(Title, Authors, Source, Year, Volume, Issue, PageStart, PageEnd, punto_de_corte = 0):\n",
    "    \"\"\"\n",
    "    Definir el valor mínimo del _score que deseas\n",
    "    Puedes ajustar este valor según tus necesidades\n",
    "\n",
    "    \"\"\"\n",
    "    if not isinstance(Title, str):\n",
    "        Title = \"\"\n",
    "    if not isinstance(Source, str):\n",
    "        Source = \"\"\n",
    "    if not isinstance(Volume, str) or not isinstance(Volume, int):\n",
    "        Volume = \"\"\n",
    "    if not isinstance(Issue, str) or not isinstance(Issue, int):\n",
    "        Issue = \"\"\n",
    "    if not isinstance(PageStart, str) or not isinstance(PageStart, int):\n",
    "        PageStart = \"\"\n",
    "    if not isinstance(PageEnd, str) or not isinstance(PageEnd, int):\n",
    "        PageEnd = \"\"\n",
    "\n",
    "    body = {\n",
    "        \"query\": {\n",
    "            \"bool\": {\n",
    "                \"should\": [\n",
    "                    { \"match\": { \"title\": Title}},\n",
    "                    # { \"match_phrase\": { \"title\": { \"query\": Title, \"boost\": 2 }}},\n",
    "                    #{ \"match\": { \"title\": { \"query\": Title, \"boost\": 4 }}},\n",
    "                    { \"match\": { \"authorships.author.display_name\":  Authors[0:100] }},# se tienen que truncar los autores \n",
    "                    { \"match\": { \"host_venue.display_name\":  Source}},\n",
    "                    { \"term\": { \"publication_year\": Year }},\n",
    "                    { \"term\": { \"biblio.volume\": Volume }},\n",
    "                    { \"term\": { \"biblio.issue\": Issue }},\n",
    "                    { \"term\": { \"biblio.first_page\": PageStart }},\n",
    "                    { \"term\": { \"biblio.last_page\": PageEnd }},\n",
    "                    \n",
    "                ] ,\n",
    "            }\n",
    "        },\n",
    "        \"size\": 10,\n",
    "        \"min_score\": punto_de_corte\n",
    "    }\n",
    "    \n",
    "    res = es.search(index=es_index, **body)\n",
    "    return  res"
   ]
  },
  {
   "cell_type": "code",
   "execution_count": 909,
   "id": "b535edfe-b85b-4555-a0bc-1892addfb135",
   "metadata": {},
   "outputs": [],
   "source": [
    "def parse_string(string:str):\n",
    "    data = str(string).lower()\n",
    "    data = re.sub(r'<[^>]+>','',data)\n",
    "    data = unidecode(data)\n",
    "    return data    \n",
    "def parse_doi(doi):\n",
    "    \n",
    "    return re.sub(r'https*\\:\\/\\/[\\w\\.]+\\/','',str(doi).lower())"
   ]
  },
  {
   "cell_type": "code",
   "execution_count": 925,
   "id": "c81680b0-1e0b-4a5b-962b-3b17c341edda",
   "metadata": {},
   "outputs": [
    {
     "name": "stderr",
     "output_type": "stream",
     "text": [
      "[Parallel(n_jobs=64)]: Using backend ThreadingBackend with 64 concurrent workers.\n",
      "[Parallel(n_jobs=64)]: Done  34 tasks      | elapsed:    0.6s\n",
      "[Parallel(n_jobs=64)]: Done 237 tasks      | elapsed:    2.7s\n",
      "[Parallel(n_jobs=64)]: Done 520 tasks      | elapsed:    5.2s\n",
      "[Parallel(n_jobs=64)]: Done 885 tasks      | elapsed:    7.6s\n",
      "[Parallel(n_jobs=64)]: Done 1330 tasks      | elapsed:   11.5s\n",
      "[Parallel(n_jobs=64)]: Done 1857 tasks      | elapsed:   16.0s\n",
      "[Parallel(n_jobs=64)]: Done 2464 tasks      | elapsed:   20.7s\n",
      "[Parallel(n_jobs=64)]: Done 3153 tasks      | elapsed:   27.5s\n",
      "[Parallel(n_jobs=64)]: Done 3922 tasks      | elapsed:   33.9s\n",
      "[Parallel(n_jobs=64)]: Done 4773 tasks      | elapsed:   41.2s\n",
      "[Parallel(n_jobs=64)]: Done 5704 tasks      | elapsed:   49.0s\n",
      "[Parallel(n_jobs=64)]: Done 6717 tasks      | elapsed:   57.7s\n",
      "[Parallel(n_jobs=64)]: Done 7810 tasks      | elapsed:  1.1min\n",
      "[Parallel(n_jobs=64)]: Done 8985 tasks      | elapsed:  1.3min\n",
      "[Parallel(n_jobs=64)]: Done 10240 tasks      | elapsed:  1.4min\n",
      "[Parallel(n_jobs=64)]: Done 11577 tasks      | elapsed:  1.6min\n",
      "[Parallel(n_jobs=64)]: Done 12994 tasks      | elapsed:  1.9min\n",
      "[Parallel(n_jobs=64)]: Done 14493 tasks      | elapsed:  2.1min\n",
      "[Parallel(n_jobs=64)]: Done 16072 tasks      | elapsed:  2.3min\n",
      "[Parallel(n_jobs=64)]: Done 17733 tasks      | elapsed:  2.6min\n",
      "[Parallel(n_jobs=64)]: Done 19474 tasks      | elapsed:  2.8min\n",
      "[Parallel(n_jobs=64)]: Done 21297 tasks      | elapsed:  3.1min\n",
      "[Parallel(n_jobs=64)]: Done 23200 tasks      | elapsed:  3.4min\n",
      "[Parallel(n_jobs=64)]: Done 25185 tasks      | elapsed:  3.7min\n",
      "[Parallel(n_jobs=64)]: Done 27250 tasks      | elapsed:  4.0min\n",
      "[Parallel(n_jobs=64)]: Done 29397 tasks      | elapsed:  4.3min\n",
      "[Parallel(n_jobs=64)]: Done 31624 tasks      | elapsed:  4.6min\n",
      "[Parallel(n_jobs=64)]: Done 33933 tasks      | elapsed:  4.9min\n",
      "[Parallel(n_jobs=64)]: Done 36322 tasks      | elapsed:  5.3min\n",
      "[Parallel(n_jobs=64)]: Done 38793 tasks      | elapsed:  5.6min\n",
      "[Parallel(n_jobs=64)]: Done 41344 tasks      | elapsed:  6.0min\n",
      "[Parallel(n_jobs=64)]: Done 43977 tasks      | elapsed:  6.4min\n",
      "[Parallel(n_jobs=64)]: Done 46690 tasks      | elapsed:  6.8min\n",
      "[Parallel(n_jobs=64)]: Done 49485 tasks      | elapsed:  7.2min\n",
      "[Parallel(n_jobs=64)]: Done 52360 tasks      | elapsed:  7.6min\n",
      "[Parallel(n_jobs=64)]: Done 55317 tasks      | elapsed:  8.0min\n",
      "[Parallel(n_jobs=64)]: Done 58354 tasks      | elapsed:  8.5min\n",
      "[Parallel(n_jobs=64)]: Done 61473 tasks      | elapsed:  8.9min\n",
      "[Parallel(n_jobs=64)]: Done 64672 tasks      | elapsed:  9.4min\n",
      "[Parallel(n_jobs=64)]: Done 67953 tasks      | elapsed:  9.9min\n",
      "[Parallel(n_jobs=64)]: Done 71314 tasks      | elapsed: 10.4min\n",
      "[Parallel(n_jobs=64)]: Done 74757 tasks      | elapsed: 10.9min\n",
      "[Parallel(n_jobs=64)]: Done 78280 tasks      | elapsed: 11.4min\n",
      "[Parallel(n_jobs=64)]: Done 81885 tasks      | elapsed: 11.9min\n",
      "[Parallel(n_jobs=64)]: Done 85570 tasks      | elapsed: 12.4min\n",
      "[Parallel(n_jobs=64)]: Done 89337 tasks      | elapsed: 13.0min\n",
      "[Parallel(n_jobs=64)]: Done 93184 tasks      | elapsed: 13.6min\n",
      "[Parallel(n_jobs=64)]: Done 97113 tasks      | elapsed: 14.1min\n",
      "[Parallel(n_jobs=64)]: Done 101122 tasks      | elapsed: 14.7min\n",
      "[Parallel(n_jobs=64)]: Done 105213 tasks      | elapsed: 15.3min\n",
      "[Parallel(n_jobs=64)]: Done 109384 tasks      | elapsed: 16.0min\n",
      "[Parallel(n_jobs=64)]: Done 113637 tasks      | elapsed: 16.6min\n",
      "[Parallel(n_jobs=64)]: Done 117970 tasks      | elapsed: 17.2min\n",
      "[Parallel(n_jobs=64)]: Done 122385 tasks      | elapsed: 17.8min\n",
      "[Parallel(n_jobs=64)]: Done 126880 tasks      | elapsed: 18.5min\n",
      "[Parallel(n_jobs=64)]: Done 131457 tasks      | elapsed: 19.2min\n",
      "[Parallel(n_jobs=64)]: Done 136114 tasks      | elapsed: 19.9min\n",
      "[Parallel(n_jobs=64)]: Done 140853 tasks      | elapsed: 20.6min\n"
     ]
    },
    {
     "name": "stdout",
     "output_type": "stream",
     "text": [
      "CPU times: user 21min 1s, sys: 2min 13s, total: 23min 15s\n",
      "Wall time: 20min 55s\n"
     ]
    },
    {
     "name": "stderr",
     "output_type": "stream",
     "text": [
      "[Parallel(n_jobs=64)]: Done 143369 out of 143369 | elapsed: 20.9min finished\n"
     ]
    }
   ],
   "source": [
    "%%time\n",
    "#ratio_thold=90, partial_thold=90,low_thold=85) #3000 / fn = 26\n",
    "#ratio_thold=95, partial_thold=90,low_thold=80 #3000 / fn = 25\n",
    "#ratio_thold=90, partial_thold=90,low_thold=80 #3000 / fn = 24\n",
    "#dfr fn = 47 Title, Source year \n",
    "#openalex_parsed fn =37  all fields\n",
    "#openalex_parsed fn = .79  all fields all dataset\n",
    "#openalex_parsed fn = 0.70 fp 6.041  all fields all dataset mode 3\n",
    "\n",
    "\n",
    "def es_similarity(rec,th_high = 0, th_low = 0, mode = 0):\n",
    "    res = search(parse_string(rec['Title']),rec['Authors'],rec['Source title'],rec['Year'],\n",
    "                 rec['Volume'], rec['Issue'], rec['Page start'], rec['Page end'],0)\n",
    "    if res[\"hits\"][\"total\"][\"value\"] != 0:\n",
    "        _score = res[\"hits\"][\"hits\"][0][\"_score\"]\n",
    "        if mode == 0: # tests mode (perfect case)\n",
    "            oa_doi = get_oa_doi(res[\"hits\"][\"hits\"][0]).lower()\n",
    "            sc_doi = rec[\"DOI\"].lower()\n",
    "            if parse_doi(oa_doi) == parse_doi(sc_doi):\n",
    "                return (True,res[\"hits\"][\"hits\"][0][\"_score\"])\n",
    "            else:\n",
    "                return (False,res[\"hits\"][\"hits\"][0][\"_score\"])           \n",
    "        if mode == 1: # la salida la evalua colav similarity, solo sobre el mejor hit\n",
    "            i = res[\"hits\"][\"hits\"][0]\n",
    "            value = colav_similarity(rec['Title']       ,  i[\"_source\"]['title'],\n",
    "                                    rec['Source title'],   i[\"_source\"][\"host_venue\"][\"display_name\"],\n",
    "                                    rec['Year']        ,   i[\"_source\"]['publication_year'],\n",
    "                                    ratio_thold=90, partial_thold=95,low_thold=80)\n",
    "            return (value,i[\"_score\"])\n",
    "        if mode == 2: # después de los cortes la salida la evalua colav similarity\n",
    "            if _score >= th_high:\n",
    "                return (True,_score)\n",
    "            elif _score <= th_low:\n",
    "                return (False,_score)\n",
    "            else:\n",
    "                i = res[\"hits\"][\"hits\"][0]\n",
    "                value = colav_similarity(rec['Title']       ,  i[\"_source\"]['title'],\n",
    "                                        rec['Source title'],   i[\"_source\"][\"host_venue\"][\"display_name\"],\n",
    "                                        rec['Year']        ,   i[\"_source\"]['publication_year'],\n",
    "                                        ratio_thold=90, partial_thold=95,low_thold=80)\n",
    "                return (value,i[\"_score\"])\n",
    "        if mode == 3: # la salida la evalua colav similarity sobre los 10 primeros hits\n",
    "            for i in res[\"hits\"][\"hits\"]:\n",
    "                value = colav_similarity(rec['Title']       ,  i[\"_source\"]['title'],\n",
    "                                        rec['Source title'],   i[\"_source\"][\"host_venue\"][\"display_name\"],\n",
    "                                        rec['Year']        ,   i[\"_source\"]['publication_year'],\n",
    "                                        ratio_thold=90, partial_thold=95,low_thold=80)\n",
    "                if value:\n",
    "                    return (True, i[\"_score\"])\n",
    "                \n",
    "            return (False,_score)\n",
    "        \n",
    "        print(\"ERROR: method no valid, select 0,1,2 or 3\")\n",
    "        sys.exit(1)\n",
    "    else:\n",
    "        return (False,0)\n",
    "scopus = []\n",
    "np.random.shuffle(data[\"p\"])\n",
    "np.random.shuffle(data[\"n\"])\n",
    "for i in data[\"p\"]:#[0:5001]:\n",
    "    scopus.append((i,True))\n",
    "for i in data[\"n\"]:#[0:5000]:\n",
    "    scopus.append((i,False))\n",
    "np.random.shuffle(scopus) #shuffle is inplace\n",
    "th_high=140\n",
    "th_low =5\n",
    "mode = 3\n",
    "results = Parallel(n_jobs=64,backend='threading',verbose=2)(delayed(es_similarity)(rec[0],th_high, th_low, mode) for rec in scopus)"
   ]
  },
  {
   "cell_type": "code",
   "execution_count": 926,
   "id": "f9ffd190-2b84-439c-b549-a4ef8acbb1b3",
   "metadata": {},
   "outputs": [],
   "source": [
    "#>tp, tn, fp, fn\n",
    "actual = []\n",
    "predicted = []\n",
    "for i in range(len(results)):\n",
    "    if results[i] is not None:\n",
    "        actual.append(scopus[i][1])\n",
    "        predicted.append(results[i][0])\n"
   ]
  },
  {
   "cell_type": "code",
   "execution_count": null,
   "id": "da2e4c07-1beb-43e7-a6ae-2027d5055f12",
   "metadata": {},
   "outputs": [],
   "source": []
  },
  {
   "cell_type": "code",
   "execution_count": 927,
   "id": "6d0b4511-b51c-4e9b-a7b6-e04db6e5b353",
   "metadata": {},
   "outputs": [
    {
     "data": {
      "image/png": "[encoded data removed]",
      "text/plain": [
       "<Figure size 640x480 with 2 Axes>"
      ]
     },
     "metadata": {},
     "output_type": "display_data"
    }
   ],
   "source": [
    "confusion_matrix = metrics.confusion_matrix(actual, predicted)\n",
    "confusion_matrix = np.flip(confusion_matrix)\n",
    "cm_display = metrics.ConfusionMatrixDisplay(confusion_matrix = confusion_matrix, display_labels = [True, False])\n",
    "\n",
    "cm_display.plot()\n",
    "plt.show()"
   ]
  },
  {
   "cell_type": "code",
   "execution_count": 928,
   "id": "f67fdf7b-43ae-4283-a114-75fbd26f2292",
   "metadata": {},
   "outputs": [
    {
     "data": {
      "text/plain": [
       "0.2908433474497165"
      ]
     },
     "execution_count": 928,
     "metadata": {},
     "output_type": "execute_result"
    }
   ],
   "source": [
    "fn = confusion_matrix[0][1]*100/(confusion_matrix[0][0]+confusion_matrix[0][1])\n",
    "fn"
   ]
  },
  {
   "cell_type": "code",
   "execution_count": 929,
   "id": "46eed461-93fc-4977-aaea-1493e363de48",
   "metadata": {},
   "outputs": [
    {
     "data": {
      "text/plain": [
       "15.893355130300991"
      ]
     },
     "execution_count": 929,
     "metadata": {},
     "output_type": "execute_result"
    }
   ],
   "source": [
    "fp = confusion_matrix[1][0]*100/len(data[\"n\"])\n",
    "fp"
   ]
  },
  {
   "cell_type": "code",
   "execution_count": 930,
   "id": "8a7cebbd-f4fd-4b02-ad35-4c33ebc41324",
   "metadata": {},
   "outputs": [
    {
     "name": "stdout",
     "output_type": "stream",
     "text": [
      "Accuracy  = 0.9518\n",
      "Precision = 0.9388\n",
      "Recall    = 0.9971\n",
      "F1        = 0.9671\n"
     ]
    }
   ],
   "source": [
    "acc = metrics.accuracy_score(actual,predicted)\n",
    "pre = metrics.precision_score(actual,predicted)\n",
    "rec = metrics.recall_score(actual,predicted)\n",
    "f1  = metrics.f1_score(actual,predicted)\n",
    "\n",
    "print(f\"Accuracy  = {acc:.4f}\")\n",
    "print(f\"Precision = {pre:.4f}\")\n",
    "print(f\"Recall    = {rec:.4f}\")\n",
    "print(f\"F1        = {f1:.4f}\")\n"
   ]
  },
  {
   "cell_type": "code",
   "execution_count": 931,
   "id": "8501cd27-7ea5-4390-b16e-108a04ea4a62",
   "metadata": {},
   "outputs": [],
   "source": [
    "score_p = []\n",
    "score_n = []\n",
    "for i in results:\n",
    "    if i[0]:\n",
    "        score_p.append(i[1])\n",
    "    else:\n",
    "        score_n.append(i[1])  "
   ]
  },
  {
   "cell_type": "code",
   "execution_count": 932,
   "id": "3119d5ae-c8f4-4f7b-ba3d-ec9455ca741e",
   "metadata": {},
   "outputs": [
    {
     "data": {
      "text/plain": [
       "133.43481569667307"
      ]
     },
     "execution_count": 932,
     "metadata": {},
     "output_type": "execute_result"
    }
   ],
   "source": [
    "np.mean(score_p)"
   ]
  },
  {
   "cell_type": "code",
   "execution_count": 933,
   "id": "3db5db84-c1bd-4048-87f3-0f7e40d6d609",
   "metadata": {},
   "outputs": [
    {
     "data": {
      "text/plain": [
       "108088"
      ]
     },
     "execution_count": 933,
     "metadata": {},
     "output_type": "execute_result"
    }
   ],
   "source": [
    "len(score_p)"
   ]
  },
  {
   "cell_type": "code",
   "execution_count": 934,
   "id": "017a8034-3216-4c1e-bcac-4a802160dc12",
   "metadata": {},
   "outputs": [
    {
     "data": {
      "text/plain": [
       "35281"
      ]
     },
     "execution_count": 934,
     "metadata": {},
     "output_type": "execute_result"
    }
   ],
   "source": [
    "len(score_n)"
   ]
  },
  {
   "cell_type": "code",
   "execution_count": 935,
   "id": "4f59e5a0-14fb-41f9-a566-d8e23b02b301",
   "metadata": {},
   "outputs": [],
   "source": [
    "f_score_p = []\n",
    "f_score_n = []\n",
    "\n",
    "for i in score_p:\n",
    "    if i<1000:\n",
    "        f_score_p.append(i)\n",
    "\n",
    "for i in score_n:\n",
    "    if i<1000:\n",
    "        f_score_n.append(i)"
   ]
  },
  {
   "cell_type": "code",
   "execution_count": 936,
   "id": "33ca5350-b7d7-42fa-8e8b-92d20ef724e6",
   "metadata": {},
   "outputs": [],
   "source": [
    "f_score_p = np.array(f_score_p)\n",
    "f_score_n = np.array(f_score_n)\n"
   ]
  },
  {
   "cell_type": "code",
   "execution_count": 937,
   "id": "f2c2248a-38f6-40b5-b9a5-c9d6ab96473d",
   "metadata": {},
   "outputs": [
    {
     "data": {
      "text/plain": [
       "433.86816"
      ]
     },
     "execution_count": 937,
     "metadata": {},
     "output_type": "execute_result"
    }
   ],
   "source": [
    "f_score_p.max()\n"
   ]
  },
  {
   "cell_type": "code",
   "execution_count": 938,
   "id": "cf1d561f-761e-44a8-82a8-0ce58b65c82b",
   "metadata": {},
   "outputs": [
    {
     "data": {
      "text/plain": [
       "137.51684441999998"
      ]
     },
     "execution_count": 938,
     "metadata": {},
     "output_type": "execute_result"
    }
   ],
   "source": [
    "# Obtiene la información del histograma\n",
    "valores_p, bordes_p = np.histogram(f_score_p, bins=100, density=True)\n",
    "centros_p = 0.5 * (bordes_p[:-1] + bordes_p[1:])\n",
    "\n",
    "# Encuentra el valor máximo en el eje Y\n",
    "valor_maximo_y_p = max(valores_p)\n",
    "\n",
    "# Encuentra el valor en el eje X para el cual Y es máximo\n",
    "valor_maximo_x_p = centros_p[np.argmax(valores_p)]\n",
    "valor_maximo_x_p"
   ]
  },
  {
   "cell_type": "code",
   "execution_count": 939,
   "id": "ab8bc200-548f-4cce-b768-6652bb6891c3",
   "metadata": {},
   "outputs": [
    {
     "data": {
      "text/plain": [
       "53.445549220000004"
      ]
     },
     "execution_count": 939,
     "metadata": {},
     "output_type": "execute_result"
    }
   ],
   "source": [
    "# Obtiene la información del histograma\n",
    "valores_n, bordes_n = np.histogram(f_score_n, bins=100, density=True)\n",
    "centros_n = 0.5 * (bordes_n[:-1] + bordes_n[1:])\n",
    "\n",
    "# Encuentra el valor máximo en el eje Y\n",
    "valor_maximo_y_n = max(valores_n)\n",
    "\n",
    "# Encuentra el valor en el eje X para el cual Y es máximo\n",
    "valor_maximo_x_n = centros_p[np.argmax(valores_n)]\n",
    "valor_maximo_x_n"
   ]
  },
  {
   "cell_type": "code",
   "execution_count": 905,
   "id": "3b3828cd-3eb9-4c75-9fdd-b6a782e67b17",
   "metadata": {},
   "outputs": [
    {
     "data": {
      "text/plain": [
       "True"
      ]
     },
     "execution_count": 940,
     "metadata": {},
     "output_type": "execute_result"
    },
    {
     "data": {
      "image/png": "[encoded data removed]",
      "text/plain": [
       "<Figure size 800x600 with 1 Axes>"
      ]
     },
     "metadata": {},
     "output_type": "display_data"
    }
   ],
   "source": [
    "n_bins = 100\n",
    "\n",
    "\n",
    "plt.figure(figsize=(8,6))\n",
    "plt.hist(f_score_p, bins=100, alpha=0.5, label=\"data1\", density=False)\n",
    "plt.hist(f_score_n, bins=100, alpha=0.5, label=\"data1\", density=False)\n",
    "# Dibuja una línea vertical en el punto máximo\n",
    "plt.axvline(x=valor_maximo_x_p, color='r', linestyle='--', label=f'Máximo en X: {valor_maximo_x_p:.2f}')\n",
    "plt.axvline(x=valor_maximo_x_n, color='r', linestyle=':', label=f'Máximo en X: {valor_maximo_x_n:.2f}')\n",
    "\n",
    "True"
   ]
  },
  {
   "cell_type": "code",
   "execution_count": null,
   "id": "0eafcc7a-a6d0-44d0-bf09-b22568bfb16d",
   "metadata": {},
   "outputs": [],
   "source": []
  },
  {
   "cell_type": "code",
   "execution_count": null,
   "id": "3c07b47b-19bf-4bd1-aad5-893a73f578e0",
   "metadata": {},
   "outputs": [],
   "source": []
  },
  {
   "cell_type": "code",
   "execution_count": null,
   "id": "87d08ca4-342c-4fd1-a8ca-f19fa79aedd8",
   "metadata": {},
   "outputs": [],
   "source": []
  }
 ],
 "metadata": {
  "kernelspec": {
   "display_name": "Python 3 (ipykernel)",
   "language": "python",
   "name": "python3"
  },
  "language_info": {
   "codemirror_mode": {
    "name": "ipython",
    "version": 3
   },
   "file_extension": ".py",
   "mimetype": "text/x-python",
   "name": "python",
   "nbconvert_exporter": "python",
   "pygments_lexer": "ipython3",
   "version": "3.9.2"
  }
 },
 "nbformat": 4,
 "nbformat_minor": 5
}
