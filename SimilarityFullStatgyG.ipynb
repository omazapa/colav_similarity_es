{
 "cells": [
  {
   "cell_type": "code",
   "execution_count": 2,
   "id": "708b9f0b-9305-4e07-845c-59aeccd856b3",
   "metadata": {},
   "outputs": [],
   "source": [
    "from pymongo import MongoClient\n",
    "from elasticsearch import Elasticsearch, helpers\n",
    "import requests\n",
    "from IPython.display import JSON\n",
    "import numpy as np\n",
    "from fuzzywuzzy import fuzz\n",
    "from joblib import Parallel, delayed\n",
    "import pickle\n",
    "import matplotlib.pyplot as plt\n",
    "import numpy\n",
    "from sklearn import metrics\n",
    "import math\n",
    "from thefuzz import fuzz, process\n",
    "import re\n",
    "from IPython.display import clear_output, display\n",
    "import json\n",
    "from unidecode import unidecode\n",
    "from colavsim import colav_similarity, parse_doi, parse_string"
   ]
  },
  {
   "cell_type": "code",
   "execution_count": 3,
   "id": "85c9b460-8582-4449-992c-04ce74d3ccfc",
   "metadata": {},
   "outputs": [],
   "source": [
    "es = Elasticsearch()"
   ]
  },
  {
   "cell_type": "code",
   "execution_count": 4,
   "id": "4743a24f-e166-4894-8177-dbe6c52814a8",
   "metadata": {},
   "outputs": [],
   "source": [
    "# open a file, where you stored the pickled data\n",
    "file = open('dataset_full.pkl', 'rb')\n",
    "# dump information to that file\n",
    "data = pickle.load(file)\n",
    "# close the file\n",
    "file.close()"
   ]
  },
  {
   "cell_type": "code",
   "execution_count": 5,
   "id": "ead3c6c0-b35e-4455-9a6a-5b764337a5f6",
   "metadata": {},
   "outputs": [
    {
     "data": {
      "text/plain": [
       "101773"
      ]
     },
     "execution_count": 5,
     "metadata": {},
     "output_type": "execute_result"
    }
   ],
   "source": [
    "len(data[\"p\"])"
   ]
  },
  {
   "cell_type": "code",
   "execution_count": 6,
   "id": "345fb1b9-d27e-4d48-bf6b-a5421f8c8c1f",
   "metadata": {},
   "outputs": [
    {
     "data": {
      "text/plain": [
       "41596"
      ]
     },
     "execution_count": 6,
     "metadata": {},
     "output_type": "execute_result"
    }
   ],
   "source": [
    "len(data[\"n\"])"
   ]
  },
  {
   "cell_type": "code",
   "execution_count": 7,
   "id": "db99f311-cc92-4534-ae6d-e5ece5a4e1a5",
   "metadata": {},
   "outputs": [
    {
     "data": {
      "text/plain": [
       "{'Authors': 'Jaramillo-Ayerbe F., Berrío-Muñoz J.',\n",
       " 'Title': 'Ivermectin for crusted Norwegian scabies induced by use of topical steroids',\n",
       " 'Year': 1998,\n",
       " 'Source title': 'Archives of Dermatology',\n",
       " 'DOI': '10.1001/archderm.134.2.143'}"
      ]
     },
     "execution_count": 7,
     "metadata": {},
     "output_type": "execute_result"
    }
   ],
   "source": [
    "data[\"p\"][0]"
   ]
  },
  {
   "cell_type": "code",
   "execution_count": 8,
   "id": "9e96d497-83a8-47be-8801-f01acb2027ae",
   "metadata": {},
   "outputs": [
    {
     "data": {
      "text/plain": [
       "{'Authors': 'Flórez G.A.D., Mombello E.E., Voss S.',\n",
       " 'Title': 'Novel technique for the calculation of eddy current losses and Lorentz forces in foil winding transformers',\n",
       " 'Year': 2017,\n",
       " 'Source title': 'International Journal of Applied Electromagnetics and Mechanics',\n",
       " 'DOI': '10..3233/JAE-160144'}"
      ]
     },
     "execution_count": 8,
     "metadata": {},
     "output_type": "execute_result"
    }
   ],
   "source": [
    "data[\"n\"][0]"
   ]
  },
  {
   "cell_type": "code",
   "execution_count": 25,
   "id": "7d83326c-d441-4dc3-b39a-0a5cd3a4192a",
   "metadata": {},
   "outputs": [],
   "source": [
    "scopus = []\n",
    "for i in data[\"p\"][0:3001]:\n",
    "    scopus.append((i,True))\n",
    "for i in data[\"n\"][0:3000]:\n",
    "    scopus.append((i,False))"
   ]
  },
  {
   "cell_type": "code",
   "execution_count": 19,
   "id": "8e93091a-83f7-44c7-a1d1-285b6adbefdb",
   "metadata": {},
   "outputs": [
    {
     "name": "stderr",
     "output_type": "stream",
     "text": [
      "/tmp/ipykernel_249009/2209254662.py:1: DeprecationWarning: Using positional arguments for APIs is deprecated and will be disabled in 8.0.0. Instead use only keyword arguments for all APIs. See https://github.com/elastic/elasticsearch-py/issues/1698 for more information\n",
      "  es_index = list(es.indices.get_alias(\"*\").keys())\n"
     ]
    },
    {
     "data": {
      "text/plain": [
       "['openalex_test']"
      ]
     },
     "execution_count": 19,
     "metadata": {},
     "output_type": "execute_result"
    }
   ],
   "source": [
    "es_index = list(es.indices.get_alias(\"*\").keys())\n",
    "es_index"
   ]
  },
  {
   "cell_type": "code",
   "execution_count": 11,
   "id": "6058f012-1ece-40f8-ad7a-85c610d908ad",
   "metadata": {},
   "outputs": [],
   "source": [
    "def get_oa_doi(es_reg):\n",
    "    for i in es_reg[\"_source\"]['external_ids']:\n",
    "        if i['source'] == \"doi\":\n",
    "            return i[\"id\"]\n",
    "\n",
    "\n",
    "def get_oa_doi(es_reg):\n",
    "    return es_reg[\"_source\"]['doi']\n"
   ]
  },
  {
   "cell_type": "code",
   "execution_count": 12,
   "id": "9579759a-ea77-4b5d-8552-997ebad85c50",
   "metadata": {},
   "outputs": [],
   "source": [
    "def search(Title, Authors, Source, Year, punto_de_corte = 0):\n",
    "    \"\"\"\n",
    "    Definir el valor mínimo del _score que deseas\n",
    "    Puedes ajustar este valor según tus necesidades\n",
    "\n",
    "    \"\"\"\n",
    "    if not isinstance(Title, str):\n",
    "        Title = \"\"\n",
    "    if not isinstance(Source, str):\n",
    "        Source = \"\"\n",
    "        \n",
    "        \n",
    "    body = {\n",
    "        \"query\": {\n",
    "            \"bool\": {\n",
    "                # \"must\": [\n",
    "                #     { \"match\": { \"title\": { \"query\": Title, \"boost\": 4 }}},\n",
    "                #     { \"match\": { \"authorships.author.display_name\":  { \"query\": Authors, \"boost\": 3 } }},\n",
    "                #     { \"match\": { \"host_venue.display_name\":  { \"query\": Source, \"boost\": 2 }}},\n",
    "                #     { \"match\": { \"publication_year\": Year }}\n",
    "                # ],\n",
    "                \"must\": [\n",
    "                    { \"match\": { \"title\": Title }},\n",
    "                    { \"match\": { \"authorships.author.display_name\":  Authors }},\n",
    "                    { \"match\": { \"host_venue.display_name\":  Source}},\n",
    "                    { \"match\": { \"publication_year\": Year }}\n",
    "                ],\n",
    "                # \"should\": [\n",
    "                #     { \"match\": { \"title\": Title }},\n",
    "                #     { \"match\": { \"authorships.author.display_name\":  Authors }},\n",
    "                #     { \"match\": { \"host_venue.display_name\":  Source}},\n",
    "                #     { \"match\": { \"publication_year\": Year }}\n",
    "                # ]\n",
    "                \n",
    "            }\n",
    "        },\n",
    "        \"size\": 10,\n",
    "        \"min_score\":punto_de_corte\n",
    "    }\n",
    "    \n",
    "    res = es.search(index=es_index, **body)\n",
    "    hits = []\n",
    "    \n",
    "    # for i in res[\"hits\"][\"hits\"]:\n",
    "    #     if i[\"_score\"] >= punto_de_corte:\n",
    "    #         hits.append(i)\n",
    "    # res[\"hits\"][\"hits\"] = hits\n",
    "    return  res"
   ]
  },
  {
   "cell_type": "code",
   "execution_count": 13,
   "id": "b535edfe-b85b-4555-a0bc-1892addfb135",
   "metadata": {},
   "outputs": [
    {
     "name": "stdout",
     "output_type": "stream",
     "text": [
      "Ivermectin for crusted Norwegian scabies induced by use of topical steroids\n"
     ]
    }
   ],
   "source": [
    "def parse_string(string:str):\n",
    "    data = str(string).lower()\n",
    "    data = re.sub(r'<[^>]+>','',data)\n",
    "    data = unidecode(data)\n",
    "    return data    \n",
    "print(scopus[0][0][\"Title\"])\n",
    "def parse_doi(doi):\n",
    "    \n",
    "    return re.sub(r'https*\\:\\/\\/[\\w\\.]+\\/','',str(doi).lower())"
   ]
  },
  {
   "cell_type": "code",
   "execution_count": 14,
   "id": "32552959-ee0e-4cd6-af4b-653bdb5babf1",
   "metadata": {},
   "outputs": [
    {
     "data": {
      "text/plain": [
       "'ivermectin for crusted norwegian scabies induced by use of topical steroids'"
      ]
     },
     "execution_count": 14,
     "metadata": {},
     "output_type": "execute_result"
    }
   ],
   "source": [
    "parse_string(scopus[0][0][\"Title\"])"
   ]
  },
  {
   "cell_type": "code",
   "execution_count": 26,
   "id": "c81680b0-1e0b-4a5b-962b-3b17c341edda",
   "metadata": {},
   "outputs": [
    {
     "name": "stderr",
     "output_type": "stream",
     "text": [
      "[Parallel(n_jobs=20)]: Using backend ThreadingBackend with 20 concurrent workers.\n",
      "[Parallel(n_jobs=20)]: Done   1 tasks      | elapsed:    0.1s\n",
      "[Parallel(n_jobs=20)]: Done 122 tasks      | elapsed:    1.7s\n",
      "[Parallel(n_jobs=20)]: Done 325 tasks      | elapsed:    8.8s\n",
      "[Parallel(n_jobs=20)]: Done 608 tasks      | elapsed:   18.8s\n",
      "[Parallel(n_jobs=20)]: Done 973 tasks      | elapsed:   29.5s\n",
      "[Parallel(n_jobs=20)]: Done 1418 tasks      | elapsed:   40.9s\n",
      "[Parallel(n_jobs=20)]: Done 1945 tasks      | elapsed:   53.8s\n",
      "[Parallel(n_jobs=20)]: Done 2552 tasks      | elapsed:  1.1min\n",
      "[Parallel(n_jobs=20)]: Done 3241 tasks      | elapsed:  1.5min\n",
      "[Parallel(n_jobs=20)]: Done 4010 tasks      | elapsed:  1.9min\n",
      "[Parallel(n_jobs=20)]: Done 4861 tasks      | elapsed:  2.2min\n",
      "[Parallel(n_jobs=20)]: Done 5792 tasks      | elapsed:  2.7min\n"
     ]
    },
    {
     "name": "stdout",
     "output_type": "stream",
     "text": [
      "CPU times: user 2min 28s, sys: 13 s, total: 2min 41s\n",
      "Wall time: 2min 47s\n"
     ]
    },
    {
     "name": "stderr",
     "output_type": "stream",
     "text": [
      "[Parallel(n_jobs=20)]: Done 6001 out of 6001 | elapsed:  2.8min finished\n"
     ]
    }
   ],
   "source": [
    "%%time\n",
    "\n",
    "def es_similarity(rec,th = 0):\n",
    "    res = search(rec['Title'],rec['Authors'],rec['Source title'],rec['Year'],th)\n",
    "    if res[\"hits\"][\"total\"][\"value\"] != 0:\n",
    "        oa_doi = get_oa_doi(res[\"hits\"][\"hits\"][0])\n",
    "        sc_doi = rec[\"DOI\"].lower()\n",
    "        if parse_doi(oa_doi) == parse_doi(sc_doi):\n",
    "            return True\n",
    "        else:\n",
    "            return False \n",
    "np.random.shuffle(scopus) #shuffle is inplace\n",
    "th=0\n",
    "#results=[]\n",
    "#for rec in scopus[0:1000]:\n",
    "#    results.append(es_similarity(rec[0],th))\n",
    "results = Parallel(n_jobs=20,backend='threading',verbose=2)(delayed(es_similarity)(rec[0],th) for rec in scopus)\n"
   ]
  },
  {
   "cell_type": "code",
   "execution_count": 21,
   "id": "f9ffd190-2b84-439c-b549-a4ef8acbb1b3",
   "metadata": {},
   "outputs": [],
   "source": [
    "#>tp, tn, fp, fn\n",
    "actual = []\n",
    "predicted = []\n",
    "for i in range(len(results)):\n",
    "    if results[i] is not None:\n",
    "        actual.append(scopus[i][1])\n",
    "        predicted.append(results[i])\n"
   ]
  },
  {
   "cell_type": "code",
   "execution_count": 22,
   "id": "6d0b4511-b51c-4e9b-a7b6-e04db6e5b353",
   "metadata": {},
   "outputs": [
    {
     "data": {
      "image/png": "[encoded data removed]",
      "text/plain": [
       "<Figure size 640x480 with 2 Axes>"
      ]
     },
     "metadata": {},
     "output_type": "display_data"
    }
   ],
   "source": [
    "confusion_matrix = metrics.confusion_matrix(actual, predicted)\n",
    "cm_display = metrics.ConfusionMatrixDisplay(confusion_matrix = confusion_matrix, display_labels = [False, True])\n",
    "\n",
    "cm_display.plot()\n",
    "plt.show()"
   ]
  },
  {
   "cell_type": "code",
   "execution_count": 393,
   "id": "9da3eb26-4971-4c78-a10f-dd4e560a53fe",
   "metadata": {},
   "outputs": [
    {
     "data": {
      "text/plain": [
       "12.933394160583942"
      ]
     },
     "execution_count": 393,
     "metadata": {},
     "output_type": "execute_result"
    }
   ],
   "source": [
    "confusion_matrix[1][0]*100/confusion_matrix[1][1]"
   ]
  },
  {
   "cell_type": "code",
   "execution_count": 392,
   "id": "8a7cebbd-f4fd-4b02-ad35-4c33ebc41324",
   "metadata": {},
   "outputs": [
    {
     "name": "stdout",
     "output_type": "stream",
     "text": [
      "Accuracy  = 0.8603\n",
      "Precision = 0.8592\n",
      "Recall    = 0.8855\n",
      "F1        = 0.8721\n"
     ]
    }
   ],
   "source": [
    "acc = metrics.accuracy_score(actual,predicted)\n",
    "pre = metrics.precision_score(actual,predicted)\n",
    "rec = metrics.recall_score(actual,predicted)\n",
    "f1  = metrics.f1_score(actual,predicted)\n",
    "\n",
    "print(f\"Accuracy  = {acc:.4f}\")\n",
    "print(f\"Precision = {pre:.4f}\")\n",
    "print(f\"Recall    = {rec:.4f}\")\n",
    "print(f\"F1        = {f1:.4f}\")\n"
   ]
  },
  {
   "cell_type": "code",
   "execution_count": null,
   "id": "4521e71c-b6f2-4c34-99af-5bb35b9821b7",
   "metadata": {},
   "outputs": [],
   "source": []
  },
  {
   "cell_type": "code",
   "execution_count": null,
   "id": "02abd760-9fd3-46e1-b546-444a23f25825",
   "metadata": {},
   "outputs": [],
   "source": []
  },
  {
   "cell_type": "code",
   "execution_count": 228,
   "id": "c79c9a59-c6dd-422c-ab73-b5885c388de5",
   "metadata": {},
   "outputs": [
    {
     "name": "stdout",
     "output_type": "stream",
     "text": [
      "General functional response and recruitment in a predator-prey system with capture on both species\n",
      "10.1002/mma.3271\n",
      "2015\n",
      "Mathematical Methods in the Applied Sciences\n"
     ]
    },
    {
     "data": {
      "application/json": {
       "_shards": {
        "failed": 0,
        "skipped": 0,
        "successful": 1,
        "total": 1
       },
       "hits": {
        "hits": [
         {
          "_id": "154441",
          "_index": "openalex_test",
          "_score": 131.06984,
          "_source": {
           "alternate_host_venues": [],
           "authorships": [
            {
             "author": {
              "display_name": "Lilia M. Ladino",
              "id": "https://openalex.org/A2129302853",
              "orcid": null
             },
             "author_position": "first",
             "institutions": [
              {
               "country_code": "CO",
               "display_name": "University of the Llanos",
               "id": "https://openalex.org/I3129686679",
               "ror": "https://ror.org/042335e16",
               "type": "education"
              }
             ],
             "raw_affiliation_string": "Department of Mathematics and Physics; University of Los Llanos; 2621-Villavicencio Colombia"
            },
            {
             "author": {
              "display_name": "Edison I. Sabogal",
              "id": "https://openalex.org/A1977704446",
              "orcid": null
             },
             "author_position": "middle",
             "institutions": [
              {
               "country_code": "CO",
               "display_name": "University of the Llanos",
               "id": "https://openalex.org/I3129686679",
               "ror": "https://ror.org/042335e16",
               "type": "education"
              }
             ],
             "raw_affiliation_string": "Department of Mathematics and Physics; University of Los Llanos; 2621-Villavicencio Colombia"
            },
            {
             "author": {
              "display_name": "Jose C. Valverde",
              "id": "https://openalex.org/A2119227957",
              "orcid": "https://orcid.org/0000-0002-3214-9606"
             },
             "author_position": "last",
             "institutions": [
              {
               "country_code": "ES",
               "display_name": "University of Castilla-La Mancha",
               "id": "https://openalex.org/I79189158",
               "ror": "https://ror.org/05r78ng12",
               "type": "education"
              }
             ],
             "raw_affiliation_string": "Department of Mathematics University of Castilla‐La Mancha  02071‐Albacete Spain"
            }
           ],
           "biblio": {
            "first_page": "2876",
            "issue": "13",
            "last_page": "2887",
            "volume": "38"
           },
           "cited_by_api_url": "https://api.openalex.org/works?filter=cites:W2079462866",
           "cited_by_count": 4,
           "concepts": [
            {
             "display_name": "Functional response",
             "id": "https://openalex.org/C110201527",
             "level": 4,
             "score": "0.84950763",
             "wikidata": "https://www.wikidata.org/wiki/Q5508845"
            },
            {
             "display_name": "Predation",
             "id": "https://openalex.org/C188382862",
             "level": 2,
             "score": "0.8415514",
             "wikidata": "https://www.wikidata.org/wiki/Q170430"
            },
            {
             "display_name": "Predator",
             "id": "https://openalex.org/C96857902",
             "level": 3,
             "score": "0.6747951",
             "wikidata": "https://www.wikidata.org/wiki/Q2138108"
            },
            {
             "display_name": "Mathematics",
             "id": "https://openalex.org/C33923547",
             "level": 0,
             "score": "0.5836933",
             "wikidata": "https://www.wikidata.org/wiki/Q395"
            },
            {
             "display_name": "Population",
             "id": "https://openalex.org/C2908647359",
             "level": 2,
             "score": "0.54661715",
             "wikidata": "https://www.wikidata.org/wiki/Q2625603"
            },
            {
             "display_name": "Dynamics (music)",
             "id": "https://openalex.org/C145912823",
             "level": 2,
             "score": "0.51091665",
             "wikidata": "https://www.wikidata.org/wiki/Q113558"
            },
            {
             "display_name": "Applied mathematics",
             "id": "https://openalex.org/C28826006",
             "level": 1,
             "score": "0.49087578",
             "wikidata": "https://www.wikidata.org/wiki/Q33521"
            },
            {
             "display_name": "Numerical response",
             "id": "https://openalex.org/C2778973846",
             "level": 5,
             "score": "0.45313635",
             "wikidata": "https://www.wikidata.org/wiki/Q7069663"
            },
            {
             "display_name": "Ecology",
             "id": "https://openalex.org/C18903297",
             "level": 1,
             "score": "0.42092568",
             "wikidata": "https://www.wikidata.org/wiki/Q7150"
            },
            {
             "display_name": "Statistical physics",
             "id": "https://openalex.org/C121864883",
             "level": 1,
             "score": "0.3435613",
             "wikidata": "https://www.wikidata.org/wiki/Q677916"
            },
            {
             "display_name": "Mathematical economics",
             "id": "https://openalex.org/C144237770",
             "level": 1,
             "score": "0.3210734",
             "wikidata": "https://www.wikidata.org/wiki/Q747534"
            }
           ],
           "counts_by_year": [
            {
             "cited_by_count": 1,
             "year": 2020
            },
            {
             "cited_by_count": 1,
             "year": 2019
            },
            {
             "cited_by_count": 2,
             "year": 2017
            }
           ],
           "created_date": "2016-06-24",
           "display_name": "General functional response and recruitment in a predator–prey system with capture on both species",
           "doi": "https://doi.org/10.1002/mma.3271",
           "host_venue": {
            "display_name": "Mathematical Methods in The Applied Sciences",
            "id": "https://openalex.org/V89452420",
            "is_oa": false,
            "issn": [
             "1099-1476",
             "0170-4214"
            ],
            "issn_l": "0170-4214",
            "license": null,
            "publisher": "Wiley",
            "type": "publisher",
            "url": "https://doi.org/10.1002/mma.3271",
            "version": null
           },
           "id": "https://openalex.org/W2079462866",
           "ids": {
            "doi": "https://doi.org/10.1002/mma.3271",
            "mag": "2079462866",
            "openalex": "https://openalex.org/W2079462866"
           },
           "is_paratext": false,
           "is_retracted": false,
           "mesh": [],
           "open_access": {
            "is_oa": false,
            "oa_status": "closed",
            "oa_url": null
           },
           "publication_date": "2015-09-15",
           "publication_year": 2015,
           "referenced_works": [
            "https://openalex.org/W16990208",
            "https://openalex.org/W1956184653",
            "https://openalex.org/W1998822018",
            "https://openalex.org/W1999034136",
            "https://openalex.org/W2013021956",
            "https://openalex.org/W2014164045",
            "https://openalex.org/W2016990467",
            "https://openalex.org/W2027665073",
            "https://openalex.org/W2028568622",
            "https://openalex.org/W2037931137",
            "https://openalex.org/W2052125279",
            "https://openalex.org/W2056286955",
            "https://openalex.org/W2090857214",
            "https://openalex.org/W2100891518",
            "https://openalex.org/W2105939751",
            "https://openalex.org/W2107035505",
            "https://openalex.org/W2182200721",
            "https://openalex.org/W2339791693",
            "https://openalex.org/W2544442791"
           ],
           "related_works": [
            "https://openalex.org/W1678031144",
            "https://openalex.org/W1968861519",
            "https://openalex.org/W1970860247",
            "https://openalex.org/W1983128542",
            "https://openalex.org/W2014064901",
            "https://openalex.org/W2015429704",
            "https://openalex.org/W2022520818",
            "https://openalex.org/W2392440605",
            "https://openalex.org/W2548734357",
            "https://openalex.org/W2570058350",
            "https://openalex.org/W2595921390",
            "https://openalex.org/W2612258019",
            "https://openalex.org/W2791904883",
            "https://openalex.org/W2885289068",
            "https://openalex.org/W2896188079",
            "https://openalex.org/W2905673345",
            "https://openalex.org/W3010143677",
            "https://openalex.org/W3094279144",
            "https://openalex.org/W3191545287",
            "https://openalex.org/W3201120900"
           ],
           "title": "general functional response and recruitment in a predator-prey system with capture on both species",
           "type": "journal-article",
           "updated_date": "2022-08-02T07:54:06.167988"
          }
         },
         {
          "_id": "153182",
          "_index": "openalex_test",
          "_score": 21.02134,
          "_source": {
           "abstract_inverted_index": null,
           "alternate_host_venues": [],
           "authorships": [
            {
             "author": {
              "display_name": "E.M.T. Yacubian",
              "id": "https://openalex.org/A2564432124",
              "orcid": null
             },
             "author_position": "first",
             "institutions": [
              {
               "country_code": "BR",
               "display_name": "Federal University of São Paulo",
               "id": "https://openalex.org/I88273585",
               "ror": "https://ror.org/02k5swt12",
               "type": "education"
              }
             ],
             "raw_affiliation_string": "Medicine, Universidade Federal De São Paulo, São Paulo, Brazil"
            },
            {
             "author": {
              "display_name": "Maria Luiza Giraldes de Manreza",
              "id": "https://openalex.org/A1921551547",
              "orcid": "https://orcid.org/0000-0003-0346-3417"
             },
             "author_position": "middle",
             "institutions": [
              {
               "country_code": "BR",
               "display_name": "Hospital das Clínicas da Faculdade de Medicina da Universidade de São Paulo",
               "id": "https://openalex.org/I4210145268",
               "ror": "https://ror.org/03se9eg94",
               "type": "healthcare"
              }
             ],
             "raw_affiliation_string": "Medicine, Hospital das Clínicas da Faculdade de Medicina da USP, São Paulo, Brazil"
            },
            {
             "author": {
              "display_name": "J. Dussan Ordoñe",
              "id": "https://openalex.org/A2514824256",
              "orcid": null
             },
             "author_position": "middle",
             "institutions": [
              {
               "country_code": "CO",
               "display_name": "Fundacion Centro Colombiano de Epilepsia y en Enfermedades Neurologicas",
               "id": "https://openalex.org/I4210132169",
               "ror": "https://ror.org/03j7zd787",
               "type": "healthcare"
              }
             ],
             "raw_affiliation_string": "Medicine, FIRE, Cartagena, Colombia"
            },
            {
             "author": {
              "display_name": "D. Nariño Gonzalez",
              "id": "https://openalex.org/A2510223055",
              "orcid": null
             },
             "author_position": "middle",
             "institutions": [
              {
               "country_code": "CO",
               "display_name": "Hospital Universitario San Ignacio",
               "id": "https://openalex.org/I4210153247",
               "ror": "https://ror.org/052d0td05",
               "type": "healthcare"
              }
             ],
             "raw_affiliation_string": "Medicine, Centros de investigaciones Hospital San Ignacio, Bogotá, Colombia"
            },
            {
             "author": {
              "display_name": "J.L. Ruiz-Sandoval",
              "id": "https://openalex.org/A2635197117",
              "orcid": null
             },
             "author_position": "middle",
             "institutions": [
              {
               "country_code": "MX",
               "display_name": "University of Guadalajara",
               "id": "https://openalex.org/I193181351",
               "ror": "https://ror.org/043xj7k26",
               "type": "education"
              }
             ],
             "raw_affiliation_string": "Medicine, Departamento de Neurociencias CUCS Universidad de Guadalajara, Guadalajara, Mexico"
            },
            {
             "author": {
              "display_name": "Karynna P. Viana",
              "id": "https://openalex.org/A2686440364",
              "orcid": "https://orcid.org/0000-0001-8288-1398"
             },
             "author_position": "middle",
             "institutions": [
              {
               "country_code": "BR",
               "display_name": "GlaxoSmithKline",
               "id": "https://openalex.org/I4210153875",
               "ror": "https://ror.org/04pqzwm85",
               "type": "company"
              }
             ],
             "raw_affiliation_string": "Epidemiology, GlaxoSmithKline, Rio de Janeiro, Brazil"
            },
            {
             "author": {
              "display_name": "Claudia Vieira",
              "id": "https://openalex.org/A2514686806",
              "orcid": null
             },
             "author_position": "middle",
             "institutions": [
              {
               "country_code": "BR",
               "display_name": "GlaxoSmithKline",
               "id": "https://openalex.org/I4210153875",
               "ror": "https://ror.org/04pqzwm85",
               "type": "company"
              }
             ],
             "raw_affiliation_string": "Epidemiology, GlaxoSmithKline, Rio de Janeiro, Brazil"
            },
            {
             "author": {
              "display_name": "F. Moraes-Santos",
              "id": "https://openalex.org/A2199193702",
              "orcid": null
             },
             "author_position": "middle",
             "institutions": [
              {
               "country_code": "BR",
               "display_name": "GlaxoSmithKline",
               "id": "https://openalex.org/I4210153875",
               "ror": "https://ror.org/04pqzwm85",
               "type": "company"
              }
             ],
             "raw_affiliation_string": "Epidemiology, GlaxoSmithKline, Rio de Janeiro, Brazil"
            },
            {
             "author": {
              "display_name": "F.R.L. Lamarao",
              "id": "https://openalex.org/A2515283495",
              "orcid": null
             },
             "author_position": "middle",
             "institutions": [
              {
               "country_code": "BR",
               "display_name": "GlaxoSmithKline",
               "id": "https://openalex.org/I4210153875",
               "ror": "https://ror.org/04pqzwm85",
               "type": "company"
              }
             ],
             "raw_affiliation_string": "Epidemiology, GlaxoSmithKline, Rio de Janeiro, Brazil"
            },
            {
             "author": {
              "display_name": "J.P. Tobler",
              "id": "https://openalex.org/A2115269691",
              "orcid": null
             },
             "author_position": "middle",
             "institutions": [
              {
               "country_code": "BR",
               "display_name": "GlaxoSmithKline",
               "id": "https://openalex.org/I4210153875",
               "ror": "https://ror.org/04pqzwm85",
               "type": "company"
              }
             ],
             "raw_affiliation_string": "Medical Operations, GlaxoSmithKline, Rio de Janeiro, Brazil"
            },
            {
             "author": {
              "display_name": "C.S. Soares",
              "id": "https://openalex.org/A2746639622",
              "orcid": null
             },
             "author_position": "middle",
             "institutions": [
              {
               "country_code": "BR",
               "display_name": "GlaxoSmithKline",
               "id": "https://openalex.org/I4210153875",
               "ror": "https://ror.org/04pqzwm85",
               "type": "company"
              }
             ],
             "raw_affiliation_string": "Epidemiology, GlaxoSmithKline, Rio de Janeiro, Brazil"
            },
            {
             "author": {
              "display_name": "A.B. Valverde",
              "id": "https://openalex.org/A2512650351",
              "orcid": null
             },
             "author_position": "last",
             "institutions": [
              {
               "country_code": null,
               "display_name": "Rare Diseases and Immune-inflammatory Diseases, GlaxoSmithKline, Rio de Janeiro, Brazil",
               "id": null,
               "ror": null,
               "type": null
              }
             ],
             "raw_affiliation_string": "Rare Diseases and Immune-inflammatory Diseases, GlaxoSmithKline, Rio de Janeiro, Brazil"
            }
           ],
           "biblio": {
            "first_page": null,
            "issue": null,
            "last_page": null,
            "volume": "357"
           },
           "cited_by_api_url": "https://api.openalex.org/works?filter=cites:W2516777604",
           "cited_by_count": 0,
           "concepts": [
            {
             "display_name": "Epilepsy",
             "id": "https://openalex.org/C2778186239",
             "level": 2,
             "score": "0.8402961",
             "wikidata": "https://www.wikidata.org/wiki/Q41571"
            },
            {
             "display_name": "Latin Americans",
             "id": "https://openalex.org/C158886217",
             "level": 2,
             "score": "0.83542645",
             "wikidata": "https://www.wikidata.org/wiki/Q16799549"
            },
            {
             "display_name": "Observational study",
             "id": "https://openalex.org/C23131810",
             "level": 2,
             "score": "0.81006354",
             "wikidata": "https://www.wikidata.org/wiki/Q818574"
            },
            {
             "display_name": "Medicine",
             "id": "https://openalex.org/C71924100",
             "level": 0,
             "score": "0.5694157",
             "wikidata": "https://www.wikidata.org/wiki/Q11190"
            },
            {
             "display_name": "Health care",
             "id": "https://openalex.org/C160735492",
             "level": 2,
             "score": "0.48185027",
             "wikidata": "https://www.wikidata.org/wiki/Q31207"
            },
            {
             "display_name": "Pediatrics",
             "id": "https://openalex.org/C187212893",
             "level": 1,
             "score": "0.36654437",
             "wikidata": "https://www.wikidata.org/wiki/Q123028"
            }
           ],
           "counts_by_year": [],
           "created_date": "2016-09-16",
           "display_name": "Recently diagnosed epilepsy in Latin America: sociodemographic, clinical characteristics and healthcare resources– Latin America observational study on epilepsy patients (live)",
           "doi": "https://doi.org/10.1016/j.jns.2015.08.535",
           "host_venue": {
            "display_name": "Journal of the Neurological Sciences",
            "id": "https://openalex.org/V169054600",
            "is_oa": false,
            "issn": [
             "0022-510X",
             "1878-5883"
            ],
            "issn_l": "0022-510X",
            "license": null,
            "publisher": "Elsevier",
            "type": "publisher",
            "url": "https://doi.org/10.1016/j.jns.2015.08.535",
            "version": null
           },
           "id": "https://openalex.org/W2516777604",
           "ids": {
            "doi": "https://doi.org/10.1016/j.jns.2015.08.535",
            "mag": "2516777604",
            "openalex": "https://openalex.org/W2516777604"
           },
           "is_paratext": false,
           "is_retracted": false,
           "mesh": [],
           "open_access": {
            "is_oa": false,
            "oa_status": "closed",
            "oa_url": null
           },
           "publication_date": "2015-10-15",
           "publication_year": 2015,
           "referenced_works": [],
           "related_works": [],
           "title": "recently diagnosed epilepsy in latin america: sociodemographic, clinical characteristics and healthcare resources- latin america observational study on epilepsy patients (live)",
           "type": "journal-article",
           "updated_date": "2022-08-07T13:36:46.703778"
          }
         },
         {
          "_id": "148990",
          "_index": "openalex_test",
          "_score": 20.871727,
          "_source": {
           "alternate_host_venues": [],
           "authorships": [
            {
             "author": {
              "display_name": "Lady Diana Ladino",
              "id": "https://openalex.org/A2135457660",
              "orcid": "https://orcid.org/0000-0001-6580-1675"
             },
             "author_position": "first",
             "institutions": [
              {
               "country_code": null,
               "display_name": "Neurology Section, Hospital Pablo Tobón Uribe, Medellín, Colombia",
               "id": null,
               "ror": null,
               "type": null
              }
             ],
             "raw_affiliation_string": "Neurology Section, Hospital Pablo Tobón Uribe, Medellín, Colombia"
            },
            {
             "author": {
              "display_name": "Sandra P Isaza",
              "id": "https://openalex.org/A3037578617",
              "orcid": null
             },
             "author_position": "middle",
             "institutions": [
              {
               "country_code": "CO",
               "display_name": "University of Antioquia",
               "id": "https://openalex.org/I35961687",
               "ror": "https://ror.org/03bp5hc83",
               "type": "education"
              }
             ],
             "raw_affiliation_string": "University of Antioquia, Medellin, Colombia#TAB#"
            },
            {
             "author": {
              "display_name": "Jorge Delgado",
              "id": "https://openalex.org/A2150933256",
              "orcid": "https://orcid.org/0000-0002-2887-8064"
             },
             "author_position": "middle",
             "institutions": [
              {
               "country_code": null,
               "display_name": "Instituto de Alta Tecnología Médica, Medellín, Colombia",
               "id": null,
               "ror": null,
               "type": null
              }
             ],
             "raw_affiliation_string": "Instituto de Alta Tecnología Médica, Medellín, Colombia"
            },
            {
             "author": {
              "display_name": "Simón Rascovsky",
              "id": "https://openalex.org/A2026130486",
              "orcid": null
             },
             "author_position": "middle",
             "institutions": [
              {
               "country_code": null,
               "display_name": "Instituto de Alta Tecnología Médica, Medellín, Colombia",
               "id": null,
               "ror": null,
               "type": null
              }
             ],
             "raw_affiliation_string": "Instituto de Alta Tecnología Médica, Medellín, Colombia"
            },
            {
             "author": {
              "display_name": "Carlos Santiago Uribe",
              "id": "https://openalex.org/A2117685154",
              "orcid": null
             },
             "author_position": "middle",
             "institutions": [
              {
               "country_code": "CO",
               "display_name": "University of Antioquia",
               "id": "https://openalex.org/I35961687",
               "ror": "https://ror.org/03bp5hc83",
               "type": "education"
              }
             ],
             "raw_affiliation_string": "University of Antioquia, Medellin, Colombia#TAB#"
            },
            {
             "author": {
              "display_name": "Santiago Acebedo",
              "id": "https://openalex.org/A2226358992",
              "orcid": null
             },
             "author_position": "middle",
             "institutions": [
              {
               "country_code": "CO",
               "display_name": "University of Antioquia",
               "id": "https://openalex.org/I35961687",
               "ror": "https://ror.org/03bp5hc83",
               "type": "education"
              }
             ],
             "raw_affiliation_string": "University of Antioquia, Medellin, Colombia#TAB#"
            },
            {
             "author": {
              "display_name": "William Cornejo",
              "id": "https://openalex.org/A2126254377",
              "orcid": null
             },
             "author_position": "middle",
             "institutions": [
              {
               "country_code": "CO",
               "display_name": "University of Antioquia",
               "id": "https://openalex.org/I35961687",
               "ror": "https://ror.org/03bp5hc83",
               "type": "education"
              }
             ],
             "raw_affiliation_string": "University of Antioquia, Medellin, Colombia#TAB#"
            },
            {
             "author": {
              "display_name": "Lizbeth Hernández-Ronquillo",
              "id": "https://openalex.org/A2043863916",
              "orcid": "https://orcid.org/0000-0001-7057-9343"
             },
             "author_position": "middle",
             "institutions": [
              {
               "country_code": "CA",
               "display_name": "University of Saskatchewan",
               "id": "https://openalex.org/I32625721",
               "ror": "https://ror.org/010x8gc63",
               "type": "education"
              }
             ],
             "raw_affiliation_string": "University of Saskatchewan, Royal University Hospital, Saskatoon, Canada"
            },
            {
             "author": {
              "display_name": "Jose F. Tellez-Zenteno",
              "id": "https://openalex.org/A2220807451",
              "orcid": "https://orcid.org/0000-0003-1711-7873"
             },
             "author_position": "last",
             "institutions": [
              {
               "country_code": "CA",
               "display_name": "University of Saskatchewan",
               "id": "https://openalex.org/I32625721",
               "ror": "https://ror.org/010x8gc63",
               "type": "education"
              }
             ],
             "raw_affiliation_string": "University of Saskatchewan, Royal University Hospital, Saskatoon, Canada"
            }
           ],
           "biblio": {
            "first_page": "156",
            "issue": "1",
            "last_page": "160",
            "volume": "359"
           },
           "cited_by_api_url": "https://api.openalex.org/works?filter=cites:W1924061046",
           "cited_by_count": 2,
           "concepts": [
            {
             "display_name": "Medicine",
             "id": "https://openalex.org/C71924100",
             "level": 0,
             "score": "0.6553",
             "wikidata": "https://www.wikidata.org/wiki/Q11190"
            },
            {
             "display_name": "Lesion",
             "id": "https://openalex.org/C2781156865",
             "level": 2,
             "score": "0.422944",
             "wikidata": "https://www.wikidata.org/wiki/Q827023"
            },
            {
             "display_name": "Nuclear medicine",
             "id": "https://openalex.org/C2989005",
             "level": 1,
             "score": "0.331968",
             "wikidata": "https://www.wikidata.org/wiki/Q214963"
            },
            {
             "display_name": "Radiology",
             "id": "https://openalex.org/C126838900",
             "level": 1,
             "score": "0.324",
             "wikidata": "https://www.wikidata.org/wiki/Q77604"
            }
           ],
           "counts_by_year": [
            {
             "cited_by_count": 1,
             "year": 2020
            },
            {
             "cited_by_count": 1,
             "year": 2017
            }
           ],
           "created_date": "2016-06-24",
           "display_name": "Diagnostic yield of the palmomental reflex in patients with suspected frontal lesion",
           "doi": "https://doi.org/10.1016/j.jns.2015.11.003",
           "host_venue": {
            "display_name": "Journal of the Neurological Sciences",
            "id": "https://openalex.org/V169054600",
            "is_oa": false,
            "issn": [
             "0022-510X",
             "1878-5883"
            ],
            "issn_l": "0022-510X",
            "license": null,
            "publisher": "Elsevier",
            "type": "publisher",
            "url": "https://doi.org/10.1016/j.jns.2015.11.003",
            "version": null
           },
           "id": "https://openalex.org/W1924061046",
           "ids": {
            "doi": "https://doi.org/10.1016/j.jns.2015.11.003",
            "mag": "1924061046",
            "openalex": "https://openalex.org/W1924061046",
            "pmid": "https://pubmed.ncbi.nlm.nih.gov/26671106"
           },
           "is_paratext": false,
           "is_retracted": false,
           "mesh": [
            {
             "descriptor_name": "Brain Injuries",
             "descriptor_ui": "D001930",
             "is_major_topic": true,
             "qualifier_name": "diagnosis",
             "qualifier_ui": "Q000175"
            },
            {
             "descriptor_name": "Frontal Lobe",
             "descriptor_ui": "D005625",
             "is_major_topic": true,
             "qualifier_name": "pathology",
             "qualifier_ui": "Q000473"
            },
            {
             "descriptor_name": "Metacarpus",
             "descriptor_ui": "D008663",
             "is_major_topic": true,
             "qualifier_name": "innervation",
             "qualifier_ui": "Q000294"
            },
            {
             "descriptor_name": "Muscle, Skeletal",
             "descriptor_ui": "D018482",
             "is_major_topic": true,
             "qualifier_name": "physiopathology",
             "qualifier_ui": "Q000503"
            },
            {
             "descriptor_name": "Reflex",
             "descriptor_ui": "D012018",
             "is_major_topic": true,
             "qualifier_name": "physiology",
             "qualifier_ui": "Q000502"
            },
            {
             "descriptor_name": "Reflex, Startle",
             "descriptor_ui": "D013216",
             "is_major_topic": true,
             "qualifier_name": "physiology",
             "qualifier_ui": "Q000502"
            },
            {
             "descriptor_name": "Adolescent",
             "descriptor_ui": "D000293",
             "is_major_topic": false,
             "qualifier_name": null,
             "qualifier_ui": null
            },
            {
             "descriptor_name": "Adult",
             "descriptor_ui": "D000328",
             "is_major_topic": false,
             "qualifier_name": null,
             "qualifier_ui": null
            },
            {
             "descriptor_name": "Aged",
             "descriptor_ui": "D000368",
             "is_major_topic": false,
             "qualifier_name": null,
             "qualifier_ui": null
            },
            {
             "descriptor_name": "Aged, 80 and over",
             "descriptor_ui": "D000369",
             "is_major_topic": false,
             "qualifier_name": null,
             "qualifier_ui": null
            },
            {
             "descriptor_name": "Brain Injuries",
             "descriptor_ui": "D001930",
             "is_major_topic": false,
             "qualifier_name": "physiopathology",
             "qualifier_ui": "Q000503"
            },
            {
             "descriptor_name": "Brain Injuries",
             "descriptor_ui": "D001930",
             "is_major_topic": false,
             "qualifier_name": null,
             "qualifier_ui": null
            },
            {
             "descriptor_name": "Cross-Sectional Studies",
             "descriptor_ui": "D003430",
             "is_major_topic": false,
             "qualifier_name": null,
             "qualifier_ui": null
            },
            {
             "descriptor_name": "Female",
             "descriptor_ui": "D005260",
             "is_major_topic": false,
             "qualifier_name": null,
             "qualifier_ui": null
            },
            {
             "descriptor_name": "Frontal Lobe",
             "descriptor_ui": "D005625",
             "is_major_topic": false,
             "qualifier_name": null,
             "qualifier_ui": null
            },
            {
             "descriptor_name": "Humans",
             "descriptor_ui": "D006801",
             "is_major_topic": false,
             "qualifier_name": null,
             "qualifier_ui": null
            },
            {
             "descriptor_name": "Magnetic Resonance Imaging",
             "descriptor_ui": "D008279",
             "is_major_topic": false,
             "qualifier_name": null,
             "qualifier_ui": null
            },
            {
             "descriptor_name": "Male",
             "descriptor_ui": "D008297",
             "is_major_topic": false,
             "qualifier_name": null,
             "qualifier_ui": null
            },
            {
             "descriptor_name": "Metacarpus",
             "descriptor_ui": "D008663",
             "is_major_topic": false,
             "qualifier_name": null,
             "qualifier_ui": null
            },
            {
             "descriptor_name": "Middle Aged",
             "descriptor_ui": "D008875",
             "is_major_topic": false,
             "qualifier_name": null,
             "qualifier_ui": null
            },
            {
             "descriptor_name": "Muscle, Skeletal",
             "descriptor_ui": "D018482",
             "is_major_topic": false,
             "qualifier_name": null,
             "qualifier_ui": null
            },
            {
             "descriptor_name": "Physical Stimulation",
             "descriptor_ui": "D010812",
             "is_major_topic": false,
             "qualifier_name": null,
             "qualifier_ui": null
            },
            {
             "descriptor_name": "Reflex",
             "descriptor_ui": "D012018",
             "is_major_topic": false,
             "qualifier_name": null,
             "qualifier_ui": null
            },
            {
             "descriptor_name": "Reflex, Startle",
             "descriptor_ui": "D013216",
             "is_major_topic": false,
             "qualifier_name": null,
             "qualifier_ui": null
            },
            {
             "descriptor_name": "Reproducibility of Results",
             "descriptor_ui": "D015203",
             "is_major_topic": false,
             "qualifier_name": null,
             "qualifier_ui": null
            },
            {
             "descriptor_name": "Retrospective Studies",
             "descriptor_ui": "D012189",
             "is_major_topic": false,
             "qualifier_name": null,
             "qualifier_ui": null
            },
            {
             "descriptor_name": "Young Adult",
             "descriptor_ui": "D055815",
             "is_major_topic": false,
             "qualifier_name": null,
             "qualifier_ui": null
            }
           ],
           "open_access": {
            "is_oa": false,
            "oa_status": "closed",
            "oa_url": null
           },
           "publication_date": "2015-12-15",
           "publication_year": 2015,
           "referenced_works": [
            "https://openalex.org/W1978700727",
            "https://openalex.org/W2036958002",
            "https://openalex.org/W2056989663",
            "https://openalex.org/W2024160070",
            "https://openalex.org/W2117573110",
            "https://openalex.org/W2016293149",
            "https://openalex.org/W2025326162",
            "https://openalex.org/W2081903159",
            "https://openalex.org/W2416274587",
            "https://openalex.org/W2054101779",
            "https://openalex.org/W2011111246",
            "https://openalex.org/W2415647537",
            "https://openalex.org/W2050015112",
            "https://openalex.org/W2317873437",
            "https://openalex.org/W2040509197",
            "https://openalex.org/W2164624695",
            "https://openalex.org/W2411257532",
            "https://openalex.org/W2168851395",
            "https://openalex.org/W47461692"
           ],
           "related_works": [
            "https://openalex.org/W2006222446",
            "https://openalex.org/W137410942",
            "https://openalex.org/W2354582936",
            "https://openalex.org/W2113407406",
            "https://openalex.org/W2547039077",
            "https://openalex.org/W2029092746",
            "https://openalex.org/W2292426947",
            "https://openalex.org/W2071773699",
            "https://openalex.org/W2124148498",
            "https://openalex.org/W2042058791",
            "https://openalex.org/W1996819415",
            "https://openalex.org/W2577105574",
            "https://openalex.org/W284098817",
            "https://openalex.org/W2008880833",
            "https://openalex.org/W1938762382",
            "https://openalex.org/W2890324303",
            "https://openalex.org/W3043449063",
            "https://openalex.org/W232809484",
            "https://openalex.org/W2079555330",
            "https://openalex.org/W2767271153"
           ],
           "title": "diagnostic yield of the palmomental reflex in patients with suspected frontal lesion",
           "type": "journal-article",
           "updated_date": "2021-11-03"
          }
         },
         {
          "_id": "154891",
          "_index": "openalex_test",
          "_score": 17.959005,
          "_source": {
           "alternate_host_venues": [],
           "authorships": [
            {
             "author": {
              "display_name": "Sandra Jinneth Sabogal Bernal",
              "id": "https://openalex.org/A2431474753",
              "orcid": null
             },
             "author_position": "first",
             "institutions": [
              {
               "country_code": "CO",
               "display_name": "National University of Colombia",
               "id": "https://openalex.org/I36243813",
               "ror": "https://ror.org/059yx9a68",
               "type": "education"
              }
             ],
             "raw_affiliation_string": "Electrical and Electronic Department, Universidad Nacional de Colombia, Bogotá, Colombia"
            },
            {
             "author": {
              "display_name": "Felix Vega",
              "id": "https://openalex.org/A2465513505",
              "orcid": "https://orcid.org/0000-0001-6854-2971"
             },
             "author_position": "middle",
             "institutions": [
              {
               "country_code": "CO",
               "display_name": "National University of Colombia",
               "id": "https://openalex.org/I36243813",
               "ror": "https://ror.org/059yx9a68",
               "type": "education"
              }
             ],
             "raw_affiliation_string": "Electrical and Electronic Department, Universidad Nacional de Colombia, Bogotá, Colombia"
            },
            {
             "author": {
              "display_name": "Francisco Roman",
              "id": "https://openalex.org/A2102849491",
              "orcid": "https://orcid.org/0000-0001-9500-4060"
             },
             "author_position": "middle",
             "institutions": [
              {
               "country_code": "CO",
               "display_name": "National University of Colombia",
               "id": "https://openalex.org/I36243813",
               "ror": "https://ror.org/059yx9a68",
               "type": "education"
              }
             ],
             "raw_affiliation_string": "Electrical and Electronic Department, Universidad Nacional de Colombia, Bogotá, Colombia"
            },
            {
             "author": {
              "display_name": "Alejandro Valero",
              "id": "https://openalex.org/A2141220486",
              "orcid": "https://orcid.org/0000-0002-0824-5833"
             },
             "author_position": "last",
             "institutions": [
              {
               "country_code": "ES",
               "display_name": "Universitat Politècnica de València",
               "id": "https://openalex.org/I60053951",
               "ror": "https://ror.org/01460j859",
               "type": "education"
              }
             ],
             "raw_affiliation_string": "Departamento de Comunicaciones Universidad Politécnica de Valencia, Spain"
            }
           ],
           "biblio": {
            "first_page": "618",
            "issue": null,
            "last_page": "621",
            "volume": null
           },
           "cited_by_api_url": "https://api.openalex.org/works?filter=cites:W1895671888",
           "cited_by_count": 3,
           "concepts": [
            {
             "display_name": "Optics",
             "id": "https://openalex.org/C120665830",
             "level": 1,
             "score": "0.483893",
             "wikidata": "https://www.wikidata.org/wiki/Q14620"
            },
            {
             "display_name": "Waveguide",
             "id": "https://openalex.org/C200687136",
             "level": 2,
             "score": "0.466447",
             "wikidata": "https://www.wikidata.org/wiki/Q11233438"
            },
            {
             "display_name": "Antenna (radio)",
             "id": "https://openalex.org/C21822782",
             "level": 2,
             "score": "0.41655",
             "wikidata": "https://www.wikidata.org/wiki/Q131214"
            },
            {
             "display_name": "Materials science",
             "id": "https://openalex.org/C192562407",
             "level": 0,
             "score": "0.407429",
             "wikidata": "https://www.wikidata.org/wiki/Q228736"
            },
            {
             "display_name": "Slotted waveguide",
             "id": "https://openalex.org/C2779957024",
             "level": 5,
             "score": "0.404825",
             "wikidata": "https://www.wikidata.org/wiki/Q2369099"
            },
            {
             "display_name": "Wideband",
             "id": "https://openalex.org/C2780202535",
             "level": 2,
             "score": "0.403524",
             "wikidata": "https://www.wikidata.org/wiki/Q4524457"
            },
            {
             "display_name": "Physics",
             "id": "https://openalex.org/C121332964",
             "level": 0,
             "score": "0.388576",
             "wikidata": "https://www.wikidata.org/wiki/Q413"
            },
            {
             "display_name": "Slot antenna",
             "id": "https://openalex.org/C109026120",
             "level": 4,
             "score": "0.383696",
             "wikidata": "https://www.wikidata.org/wiki/Q2369099"
            },
            {
             "display_name": "Optoelectronics",
             "id": "https://openalex.org/C49040817",
             "level": 1,
             "score": "0.374498",
             "wikidata": "https://www.wikidata.org/wiki/Q193091"
            },
            {
             "display_name": "Microwave",
             "id": "https://openalex.org/C44838205",
             "level": 2,
             "score": "0.341269",
             "wikidata": "https://www.wikidata.org/wiki/Q127995"
            },
            {
             "display_name": "Bandwidth (computing)",
             "id": "https://openalex.org/C2776257435",
             "level": 2,
             "score": "0.333735",
             "wikidata": "https://www.wikidata.org/wiki/Q1576430"
            },
            {
             "display_name": "Acoustics",
             "id": "https://openalex.org/C24890656",
             "level": 1,
             "score": "0.329751",
             "wikidata": "https://www.wikidata.org/wiki/Q82811"
            },
            {
             "display_name": "Narrowband",
             "id": "https://openalex.org/C2776096036",
             "level": 2,
             "score": "0.327691",
             "wikidata": "https://www.wikidata.org/wiki/Q1140483"
            },
            {
             "display_name": "Power (physics)",
             "id": "https://openalex.org/C163258240",
             "level": 2,
             "score": "0.326772",
             "wikidata": "https://www.wikidata.org/wiki/Q25342"
            }
           ],
           "counts_by_year": [
            {
             "cited_by_count": 1,
             "year": 2021
            },
            {
             "cited_by_count": 1,
             "year": 2020
            },
            {
             "cited_by_count": 1,
             "year": 2019
            }
           ],
           "created_date": "2016-06-24",
           "display_name": "A high-gain, broad-wall slotted waveguide antenna array to be used as part of a narrowband high power microwaves system",
           "doi": "https://doi.org/10.1109/iceaa.2015.7297190",
           "host_venue": {
            "display_name": "international conference on electromagnetics in advanced applications",
            "id": null,
            "is_oa": false,
            "issn": null,
            "issn_l": null,
            "license": null,
            "publisher": null,
            "type": "publisher",
            "url": "https://doi.org/10.1109/iceaa.2015.7297190",
            "version": null
           },
           "id": "https://openalex.org/W1895671888",
           "ids": {
            "doi": "https://doi.org/10.1109/iceaa.2015.7297190",
            "mag": "1895671888",
            "openalex": "https://openalex.org/W1895671888"
           },
           "is_paratext": false,
           "is_retracted": false,
           "mesh": [],
           "open_access": {
            "is_oa": false,
            "oa_status": "closed",
            "oa_url": null
           },
           "publication_date": "2015-09-01",
           "publication_year": 2015,
           "referenced_works": [
            "https://openalex.org/W642222290",
            "https://openalex.org/W221573907",
            "https://openalex.org/W1968385192",
            "https://openalex.org/W2159588283",
            "https://openalex.org/W1657821752",
            "https://openalex.org/W2128542163",
            "https://openalex.org/W2943711806"
           ],
           "related_works": [
            "https://openalex.org/W2014936854",
            "https://openalex.org/W2117119470",
            "https://openalex.org/W3200235617",
            "https://openalex.org/W2100261109",
            "https://openalex.org/W2064246600",
            "https://openalex.org/W1944776650",
            "https://openalex.org/W2544350011",
            "https://openalex.org/W3130555031",
            "https://openalex.org/W2088795948",
            "https://openalex.org/W1614957267",
            "https://openalex.org/W1670814810",
            "https://openalex.org/W2110804378",
            "https://openalex.org/W2129619708",
            "https://openalex.org/W2946271044",
            "https://openalex.org/W2025067493",
            "https://openalex.org/W3128069096",
            "https://openalex.org/W3156894864",
            "https://openalex.org/W2518227640",
            "https://openalex.org/W2972518606",
            "https://openalex.org/W1867683335"
           ],
           "title": "a high-gain, broad-wall slotted waveguide antenna array to be used as part of a narrowband high power microwaves system",
           "type": "proceedings-article",
           "updated_date": "2021-11-03"
          }
         },
         {
          "_id": "150733",
          "_index": "openalex_test",
          "_score": 14.748495,
          "_source": {
           "abstract_inverted_index": null,
           "alternate_host_venues": [],
           "authorships": [
            {
             "author": {
              "display_name": "M. Ocampo Plazas",
              "id": "https://openalex.org/A2461142978",
              "orcid": null
             },
             "author_position": "first",
             "institutions": [
              {
               "country_code": "CO",
               "display_name": "National University of Colombia",
               "id": "https://openalex.org/I36243813",
               "ror": "https://ror.org/059yx9a68",
               "type": "education"
              }
             ],
             "raw_affiliation_string": "Universidad Nacional De Colombia, Sede Bogotá, Colombia"
            },
            {
             "author": {
              "display_name": "J.F. Correa",
              "id": "https://openalex.org/A2472201824",
              "orcid": null
             },
             "author_position": "middle",
             "institutions": [
              {
               "country_code": "CO",
               "display_name": "National University of Colombia",
               "id": "https://openalex.org/I36243813",
               "ror": "https://ror.org/059yx9a68",
               "type": "education"
              }
             ],
             "raw_affiliation_string": "Universidad Nacional De Colombia, Sede Bogotá, Colombia"
            },
            {
             "author": {
              "display_name": "C.A. Guzman David",
              "id": "https://openalex.org/A2460710714",
              "orcid": null
             },
             "author_position": "middle",
             "institutions": [
              {
               "country_code": "CO",
               "display_name": "National University of Colombia",
               "id": "https://openalex.org/I36243813",
               "ror": "https://ror.org/059yx9a68",
               "type": "education"
              }
             ],
             "raw_affiliation_string": "Universidad Nacional De Colombia, Sede Bogotá, Colombia"
            },
            {
             "author": {
              "display_name": "J.C. Correa Morales",
              "id": "https://openalex.org/A2465591382",
              "orcid": null
             },
             "author_position": "last",
             "institutions": [
              {
               "country_code": "CO",
               "display_name": "National University of Colombia",
               "id": "https://openalex.org/I36243813",
               "ror": "https://ror.org/059yx9a68",
               "type": "education"
              }
             ],
             "raw_affiliation_string": "Universidad Nacional De Colombia, Sede Bogotá, Colombia"
            }
           ],
           "biblio": {
            "first_page": null,
            "issue": null,
            "last_page": null,
            "volume": "19"
           },
           "cited_by_api_url": "https://api.openalex.org/works?filter=cites:W2462328976",
           "cited_by_count": 0,
           "concepts": [
            {
             "display_name": "Association (psychology)",
             "id": "https://openalex.org/C142853389",
             "level": 2,
             "score": "0.489677",
             "wikidata": "https://www.wikidata.org/wiki/Q744778"
            },
            {
             "display_name": "Medicine",
             "id": "https://openalex.org/C71924100",
             "level": 0,
             "score": "0.480206",
             "wikidata": "https://www.wikidata.org/wiki/Q11190"
            },
            {
             "display_name": "Physical education",
             "id": "https://openalex.org/C71406770",
             "level": 2,
             "score": "0.449895",
             "wikidata": "https://www.wikidata.org/wiki/Q243253"
            },
            {
             "display_name": "Gerontology",
             "id": "https://openalex.org/C74909509",
             "level": 1,
             "score": "0.422199",
             "wikidata": "https://www.wikidata.org/wiki/Q10387"
            },
            {
             "display_name": "Demography",
             "id": "https://openalex.org/C149923435",
             "level": 1,
             "score": "0.39718",
             "wikidata": "https://www.wikidata.org/wiki/Q37732"
            },
            {
             "display_name": "Physical fitness",
             "id": "https://openalex.org/C171687745",
             "level": 2,
             "score": "0.364258",
             "wikidata": "https://www.wikidata.org/wiki/Q309252"
            },
            {
             "display_name": "Physical activity",
             "id": "https://openalex.org/C3020255362",
             "level": 2,
             "score": "0.363131",
             "wikidata": "https://www.wikidata.org/wiki/Q747883"
            },
            {
             "display_name": "Anthropometry",
             "id": "https://openalex.org/C61427482",
             "level": 2,
             "score": "0.346755",
             "wikidata": "https://www.wikidata.org/wiki/Q6656244"
            }
           ],
           "counts_by_year": [],
           "created_date": "2016-07-22",
           "display_name": "Association between fat percent and the basic physical capacities of children of 7-11 years at school stage of an educational institution in Bogotá – Colombia",
           "doi": "https://doi.org/10.1016/j.jsams.2015.12.498",
           "host_venue": {
            "display_name": "Journal of Science and Medicine in Sport",
            "id": "https://openalex.org/V150894996",
            "is_oa": false,
            "issn": [
             "1440-2440",
             "1878-1861"
            ],
            "issn_l": "1878-1861",
            "license": null,
            "publisher": "Elsevier",
            "type": "publisher",
            "url": "https://doi.org/10.1016/j.jsams.2015.12.498",
            "version": null
           },
           "id": "https://openalex.org/W2462328976",
           "ids": {
            "doi": "https://doi.org/10.1016/j.jsams.2015.12.498",
            "mag": "2462328976",
            "openalex": "https://openalex.org/W2462328976"
           },
           "is_paratext": false,
           "is_retracted": false,
           "mesh": [],
           "open_access": {
            "is_oa": false,
            "oa_status": "closed",
            "oa_url": null
           },
           "publication_date": "2015-12-01",
           "publication_year": 2015,
           "referenced_works": [],
           "related_works": [
            "https://openalex.org/W2613216341",
            "https://openalex.org/W2410563015",
            "https://openalex.org/W2414612032",
            "https://openalex.org/W2077430089",
            "https://openalex.org/W2035815828",
            "https://openalex.org/W3150495250",
            "https://openalex.org/W2187157284",
            "https://openalex.org/W3134758605",
            "https://openalex.org/W2067255653",
            "https://openalex.org/W50420087",
            "https://openalex.org/W2005311444",
            "https://openalex.org/W2040465763",
            "https://openalex.org/W2296669667",
            "https://openalex.org/W2414264550",
            "https://openalex.org/W2582580854",
            "https://openalex.org/W3024410104",
            "https://openalex.org/W3165228371"
           ],
           "title": "association between fat percent and the basic physical capacities of children of 7-11 years at school stage of an educational institution in bogota - colombia",
           "type": "journal-article",
           "updated_date": "2021-11-03"
          }
         },
         {
          "_id": "155994",
          "_index": "openalex_test",
          "_score": 13.478379,
          "_source": {
           "alternate_host_venues": [],
           "authorships": [
            {
             "author": {
              "display_name": "Paulo Augusto Vidigal D. Souza",
              "id": "https://openalex.org/A2768447152",
              "orcid": null
             },
             "author_position": "first",
             "institutions": [
              {
               "country_code": null,
               "display_name": "PGEOF, GETA-UFBA, Salvador, Brazil",
               "id": null,
               "ror": null,
               "type": null
              }
             ],
             "raw_affiliation_string": "PGEOF, GETA-UFBA, Salvador, Brazil"
            },
            {
             "author": {
              "display_name": "Danilo Cruz",
              "id": "https://openalex.org/A2589672193",
              "orcid": null
             },
             "author_position": "middle",
             "institutions": [
              {
               "country_code": "BR",
               "display_name": "Petrobras",
               "id": "https://openalex.org/I32393484",
               "ror": "https://ror.org/0235kyq22",
               "type": "company"
              }
             ],
             "raw_affiliation_string": "Petrobras, Natal, Brazil"
            },
            {
             "author": {
              "display_name": "Esteban Alfaro Sabogal",
              "id": "https://openalex.org/A2662856574",
              "orcid": null
             },
             "author_position": "middle",
             "institutions": [
              {
               "country_code": "CO",
               "display_name": "Industrial University of Santander",
               "id": "https://openalex.org/I115684694",
               "ror": "https://ror.org/00xc1d948",
               "type": "education"
              }
             ],
             "raw_affiliation_string": "Universidad Industrial de Santander - Bucaramanga - Colombia"
            },
            {
             "author": {
              "display_name": "Luis Huerga Ándres",
              "id": "https://openalex.org/A2511790293",
              "orcid": null
             },
             "author_position": "middle",
             "institutions": [
              {
               "country_code": null,
               "display_name": "PPGEO-UFBA, Salvador, Brazil",
               "id": null,
               "ror": null,
               "type": null
              }
             ],
             "raw_affiliation_string": "PPGEO-UFBA, Salvador, Brazil"
            },
            {
             "author": {
              "display_name": "Michael Holz",
              "id": "https://openalex.org/A3136655103",
              "orcid": null
             },
             "author_position": "last",
             "institutions": [
              {
               "country_code": "US",
               "display_name": "Geoscience Research Institute",
               "id": "https://openalex.org/I165755214",
               "ror": null,
               "type": null
              }
             ],
             "raw_affiliation_string": "Geoscience Institute, GETA, UFBA, CNPq Researcher, Salvador, Brazil"
            }
           ],
           "biblio": {
            "first_page": null,
            "issue": null,
            "last_page": null,
            "volume": null
           },
           "cited_by_api_url": "https://api.openalex.org/works?filter=cites:W2313914664",
           "cited_by_count": 0,
           "concepts": [
            {
             "display_name": "Geology",
             "id": "https://openalex.org/C127313418",
             "level": 0,
             "score": "0.781536",
             "wikidata": "https://www.wikidata.org/wiki/Q1069"
            },
            {
             "display_name": "Structural basin",
             "id": "https://openalex.org/C109007969",
             "level": 2,
             "score": "0.471569",
             "wikidata": "https://www.wikidata.org/wiki/Q749565"
            },
            {
             "display_name": "Interpretation (philosophy)",
             "id": "https://openalex.org/C527412718",
             "level": 2,
             "score": "0.459679",
             "wikidata": "https://www.wikidata.org/wiki/Q855395"
            },
            {
             "display_name": "Proterozoic",
             "id": "https://openalex.org/C93033518",
             "level": 3,
             "score": "0.446228",
             "wikidata": "https://www.wikidata.org/wiki/Q104162"
            },
            {
             "display_name": "Geochemistry",
             "id": "https://openalex.org/C17409809",
             "level": 1,
             "score": "0.380283",
             "wikidata": "https://www.wikidata.org/wiki/Q161764"
            },
            {
             "display_name": "Paleontology",
             "id": "https://openalex.org/C151730666",
             "level": 1,
             "score": "0.367019",
             "wikidata": "https://www.wikidata.org/wiki/Q7205"
            },
            {
             "display_name": "Petrology",
             "id": "https://openalex.org/C5900021",
             "level": 1,
             "score": "0.336163",
             "wikidata": "https://www.wikidata.org/wiki/Q163082"
            },
            {
             "display_name": "Seismology",
             "id": "https://openalex.org/C165205528",
             "level": 1,
             "score": "0.333893",
             "wikidata": "https://www.wikidata.org/wiki/Q83371"
            }
           ],
           "counts_by_year": [],
           "created_date": "2016-06-24",
           "display_name": "The importance of geology-driven seismic processing and interpretation: a case study of the Proterozoic Sao Francisco Basin",
           "doi": "https://doi.org/10.1190/sbgf2015-228",
           "host_venue": {
            "display_name": "14th International Congress of the Brazilian Geophysical Society & EXPOGEF, Rio de Janeiro, Brazil, 3-6 August 2015",
            "id": null,
            "is_oa": false,
            "issn": null,
            "issn_l": null,
            "license": null,
            "publisher": "Brazilian Geophysical Society",
            "type": "publisher",
            "url": "https://doi.org/10.1190/sbgf2015-228",
            "version": null
           },
           "id": "https://openalex.org/W2313914664",
           "ids": {
            "doi": "https://doi.org/10.1190/sbgf2015-228",
            "mag": "2313914664",
            "openalex": "https://openalex.org/W2313914664"
           },
           "is_paratext": false,
           "is_retracted": false,
           "mesh": [],
           "open_access": {
            "is_oa": false,
            "oa_status": "closed",
            "oa_url": null
           },
           "publication_date": "2015-08-06",
           "publication_year": 2015,
           "referenced_works": [
            "https://openalex.org/W2093879665",
            "https://openalex.org/W1483157968",
            "https://openalex.org/W1991964081"
           ],
           "related_works": [
            "https://openalex.org/W2738709480",
            "https://openalex.org/W2069085530",
            "https://openalex.org/W3175704586",
            "https://openalex.org/W1991059852",
            "https://openalex.org/W2100039828",
            "https://openalex.org/W2326553758",
            "https://openalex.org/W2074666388",
            "https://openalex.org/W2264659183",
            "https://openalex.org/W2047182749",
            "https://openalex.org/W2116857941",
            "https://openalex.org/W1942024800",
            "https://openalex.org/W2119229954",
            "https://openalex.org/W1984125611",
            "https://openalex.org/W2240827738",
            "https://openalex.org/W2555380416",
            "https://openalex.org/W2417010790",
            "https://openalex.org/W2810832533",
            "https://openalex.org/W2889668480",
            "https://openalex.org/W1973820740",
            "https://openalex.org/W311053785"
           ],
           "title": "the importance of geology-driven seismic processing and interpretation: a case study of the proterozoic sao francisco basin",
           "type": "proceedings-article",
           "updated_date": "2021-11-03"
          }
         },
         {
          "_id": "161574",
          "_index": "openalex_test",
          "_score": 12.873206,
          "_source": {
           "alternate_host_venues": [],
           "authorships": [
            {
             "author": {
              "display_name": "Jaime A. Pavlich-Mariscal",
              "id": "https://openalex.org/A40643081",
              "orcid": null
             },
             "author_position": "first",
             "institutions": [
              {
               "country_code": "CO",
               "display_name": "Pontificia Universidad Javeriana",
               "id": "https://openalex.org/I233745408",
               "ror": "https://ror.org/03etyjw28",
               "type": "education"
              },
              {
               "country_code": "CL",
               "display_name": "Catholic University of the North",
               "id": "https://openalex.org/I2802166871",
               "ror": "https://ror.org/02akpm128",
               "type": "education"
              }
             ],
             "raw_affiliation_string": "Pontificia Universidad Javeriana"
            },
            {
             "author": {
              "display_name": "Mery Yolima Uribe-Rios",
              "id": "https://openalex.org/A2418149167",
              "orcid": "https://orcid.org/0000-0003-1807-8669"
             },
             "author_position": "middle",
             "institutions": [
              {
               "country_code": "CO",
               "display_name": "Pontificia Universidad Javeriana",
               "id": "https://openalex.org/I233745408",
               "ror": "https://ror.org/03etyjw28",
               "type": "education"
              }
             ],
             "raw_affiliation_string": "Pontificia Universidad Javeriana"
            },
            {
             "author": {
              "display_name": "Luisa Fernanda Barrera-León",
              "id": "https://openalex.org/A2293559963",
              "orcid": null
             },
             "author_position": "middle",
             "institutions": [
              {
               "country_code": "CO",
               "display_name": "Pontificia Universidad Javeriana",
               "id": "https://openalex.org/I233745408",
               "ror": "https://ror.org/03etyjw28",
               "type": "education"
              }
             ],
             "raw_affiliation_string": "Pontificia Universidad Javeriana"
            },
            {
             "author": {
              "display_name": "Nadia Alejandra Mejia-Molina",
              "id": "https://openalex.org/A2296617822",
              "orcid": null
             },
             "author_position": "middle",
             "institutions": [
              {
               "country_code": "CO",
               "display_name": "Pontificia Universidad Javeriana",
               "id": "https://openalex.org/I233745408",
               "ror": "https://ror.org/03etyjw28",
               "type": "education"
              }
             ],
             "raw_affiliation_string": "Pontificia Universidad Javeriana"
            },
            {
             "author": {
              "display_name": "Angela Carrillo-Ramos",
              "id": "https://openalex.org/A2177246514",
              "orcid": null
             },
             "author_position": "middle",
             "institutions": [
              {
               "country_code": "CO",
               "display_name": "Pontificia Universidad Javeriana",
               "id": "https://openalex.org/I233745408",
               "ror": "https://ror.org/03etyjw28",
               "type": "education"
              }
             ],
             "raw_affiliation_string": "Pontificia Universidad Javeriana"
            },
            {
             "author": {
              "display_name": "Alexandra Pomares",
              "id": "https://openalex.org/A2143359205",
              "orcid": null
             },
             "author_position": "middle",
             "institutions": [
              {
               "country_code": "CO",
               "display_name": "Pontificia Universidad Javeriana",
               "id": "https://openalex.org/I233745408",
               "ror": "https://ror.org/03etyjw28",
               "type": "education"
              }
             ],
             "raw_affiliation_string": "Pontificia Universidad Javeriana"
            },
            {
             "author": {
              "display_name": "Juan Camilo González-Vargas",
              "id": "https://openalex.org/A2415366803",
              "orcid": null
             },
             "author_position": "middle",
             "institutions": [
              {
               "country_code": "CO",
               "display_name": "Pontificia Universidad Javeriana",
               "id": "https://openalex.org/I233745408",
               "ror": "https://ror.org/03etyjw28",
               "type": "education"
              }
             ],
             "raw_affiliation_string": "Pontificia Universidad Javeriana"
            },
            {
             "author": {
              "display_name": "Monica Brijaldo",
              "id": "https://openalex.org/A2296187605",
              "orcid": null
             },
             "author_position": "middle",
             "institutions": [
              {
               "country_code": "CO",
               "display_name": "Pontificia Universidad Javeriana",
               "id": "https://openalex.org/I233745408",
               "ror": "https://ror.org/03etyjw28",
               "type": "education"
              }
             ],
             "raw_affiliation_string": "Pontificia Universidad Javeriana"
            },
            {
             "author": {
              "display_name": "Martha Leonor Sabogal",
              "id": "https://openalex.org/A2032693921",
              "orcid": null
             },
             "author_position": "middle",
             "institutions": [
              {
               "country_code": "CO",
               "display_name": "Pontificia Universidad Javeriana",
               "id": "https://openalex.org/I233745408",
               "ror": "https://ror.org/03etyjw28",
               "type": "education"
              }
             ],
             "raw_affiliation_string": "Pontificia Universidad Javeriana"
            },
            {
             "author": {
              "display_name": "Rosa Maria Vicari",
              "id": "https://openalex.org/A2101655175",
              "orcid": "https://orcid.org/0000-0002-6909-6405"
             },
             "author_position": "middle",
             "institutions": [
              {
               "country_code": "BR",
               "display_name": "Federal University of Rio Grande do Sul",
               "id": "https://openalex.org/I130442723",
               "ror": "https://ror.org/041yk2d64",
               "type": "education"
              }
             ],
             "raw_affiliation_string": "Universidade Federal do Rio Grande do Sul"
            },
            {
             "author": {
              "display_name": "Ramon Fabregat",
              "id": "https://openalex.org/A8750577",
              "orcid": "https://orcid.org/0000-0002-3551-7304"
             },
             "author_position": "middle",
             "institutions": [
              {
               "country_code": "ES",
               "display_name": "University of Girona",
               "id": "https://openalex.org/I251424209",
               "ror": "https://ror.org/01xdxns91",
               "type": "education"
              }
             ],
             "raw_affiliation_string": "University of Girona;"
            },
            {
             "author": {
              "display_name": "Hervé Martin",
              "id": "https://openalex.org/A2462711942",
              "orcid": "https://orcid.org/0000-0002-6365-4760"
             },
             "author_position": "last",
             "institutions": [
              {
               "country_code": "FR",
               "display_name": "Grenoble Computer Science Laboratory",
               "id": "https://openalex.org/I4210104430",
               "ror": "https://ror.org/01c8rcg82",
               "type": "facility"
              }
             ],
             "raw_affiliation_string": "Laboratoire d’Informatique de Grenoble"
            }
           ],
           "biblio": {
            "first_page": "112",
            "issue": null,
            "last_page": "131",
            "volume": "583"
           },
           "cited_by_api_url": "https://api.openalex.org/works?filter=cites:W2401631074",
           "cited_by_count": 1,
           "concepts": [
            {
             "display_name": "Computer science",
             "id": "https://openalex.org/C41008148",
             "level": 0,
             "score": "0.82786435",
             "wikidata": "https://www.wikidata.org/wiki/Q21198"
            },
            {
             "display_name": "Remedial education",
             "id": "https://openalex.org/C100207952",
             "level": 2,
             "score": "0.7146708",
             "wikidata": "https://www.wikidata.org/wiki/Q7311597"
            },
            {
             "display_name": "Plan (archaeology)",
             "id": "https://openalex.org/C2776505523",
             "level": 2,
             "score": "0.7100722",
             "wikidata": "https://www.wikidata.org/wiki/Q4785468"
            },
            {
             "display_name": "Context (archaeology)",
             "id": "https://openalex.org/C2779343474",
             "level": 2,
             "score": "0.70191205",
             "wikidata": "https://www.wikidata.org/wiki/Q3109175"
            },
            {
             "display_name": "Domain (mathematical analysis)",
             "id": "https://openalex.org/C36503486",
             "level": 2,
             "score": "0.5925432",
             "wikidata": "https://www.wikidata.org/wiki/Q11235244"
            },
            {
             "display_name": "Architecture",
             "id": "https://openalex.org/C123657996",
             "level": 2,
             "score": "0.5236528",
             "wikidata": "https://www.wikidata.org/wiki/Q12271"
            },
            {
             "display_name": "Multimedia",
             "id": "https://openalex.org/C49774154",
             "level": 1,
             "score": "0.47299013",
             "wikidata": "https://www.wikidata.org/wiki/Q131765"
            },
            {
             "display_name": "Adaptation (eye)",
             "id": "https://openalex.org/C139807058",
             "level": 2,
             "score": "0.41981217",
             "wikidata": "https://www.wikidata.org/wiki/Q352374"
            },
            {
             "display_name": "Human–computer interaction",
             "id": "https://openalex.org/C107457646",
             "level": 1,
             "score": "0.35569337",
             "wikidata": "https://www.wikidata.org/wiki/Q207434"
            }
           ],
           "counts_by_year": [
            {
             "cited_by_count": 1,
             "year": 2020
            }
           ],
           "created_date": "2016-06-24",
           "display_name": "Dynamic Adaptive Activity Planning in Education: Implementation and Case Study",
           "doi": "https://doi.org/10.1007/978-3-319-29585-5_7",
           "host_venue": {
            "display_name": "Communications in computer and information science",
            "id": "https://openalex.org/V2764900261",
            "is_oa": false,
            "issn": [
             "1865-0937",
             "1865-0929"
            ],
            "issn_l": "1865-0929",
            "license": null,
            "publisher": "Springer, Cham",
            "type": "publisher",
            "url": "https://doi.org/10.1007/978-3-319-29585-5_7",
            "version": null
           },
           "id": "https://openalex.org/W2401631074",
           "ids": {
            "doi": "https://doi.org/10.1007/978-3-319-29585-5_7",
            "mag": "2401631074",
            "openalex": "https://openalex.org/W2401631074"
           },
           "is_paratext": false,
           "is_retracted": false,
           "mesh": [],
           "open_access": {
            "is_oa": false,
            "oa_status": "closed",
            "oa_url": null
           },
           "publication_date": "2015-05-23",
           "publication_year": 2015,
           "referenced_works": [
            "https://openalex.org/W1553870384",
            "https://openalex.org/W1575520492",
            "https://openalex.org/W1978065703",
            "https://openalex.org/W1997956661",
            "https://openalex.org/W2003628219",
            "https://openalex.org/W2014995030",
            "https://openalex.org/W2025460523",
            "https://openalex.org/W2040274167",
            "https://openalex.org/W2070526812",
            "https://openalex.org/W2072668726",
            "https://openalex.org/W2125592845",
            "https://openalex.org/W2142861274",
            "https://openalex.org/W2149179225",
            "https://openalex.org/W2280581704",
            "https://openalex.org/W2294643622",
            "https://openalex.org/W2295363456"
           ],
           "related_works": [
            "https://openalex.org/W13767923",
            "https://openalex.org/W41876660",
            "https://openalex.org/W141573529",
            "https://openalex.org/W855315918",
            "https://openalex.org/W1674414388",
            "https://openalex.org/W1909134425",
            "https://openalex.org/W2182732581",
            "https://openalex.org/W2189411855",
            "https://openalex.org/W2298818648",
            "https://openalex.org/W2558484542",
            "https://openalex.org/W2579857681",
            "https://openalex.org/W2619896165",
            "https://openalex.org/W2795340780",
            "https://openalex.org/W2922142593",
            "https://openalex.org/W3092333978",
            "https://openalex.org/W3094179446",
            "https://openalex.org/W3120507196",
            "https://openalex.org/W3173056589",
            "https://openalex.org/W3176411221",
            "https://openalex.org/W3186240342"
           ],
           "title": "dynamic adaptive activity planning in education: implementation and case study",
           "type": "book-chapter",
           "updated_date": "2022-08-03T22:46:26.187225"
          }
         }
        ],
        "max_score": 131.06984,
        "total": {
         "relation": "eq",
         "value": 7
        }
       },
       "timed_out": false,
       "took": 2
      },
      "text/plain": [
       "<IPython.core.display.JSON object>"
      ]
     },
     "execution_count": 228,
     "metadata": {
      "application/json": {
       "expanded": false,
       "root": "root"
      }
     },
     "output_type": "execute_result"
    }
   ],
   "source": [
    "rec = scopus[4][0]\n",
    "print(rec[\"Title\"])\n",
    "print(rec[\"DOI\"])\n",
    "print(rec[\"Year\"])\n",
    "print(rec['Source title'])\n",
    "\n",
    "res = search(rec['Title'],rec['Authors'],rec['Source title'],rec['Year'],00)\n",
    "JSON(res)"
   ]
  },
  {
   "cell_type": "code",
   "execution_count": 155,
   "id": "8501cd27-7ea5-4390-b16e-108a04ea4a62",
   "metadata": {},
   "outputs": [],
   "source": [
    "campos_busqueda = ['campo1', 'campo2', 'campo3']\n",
    "terminos_busqueda = ['término1', 'término2', 'término3']\n",
    "\n",
    "# Construye la consulta bool con diferentes pesos\n",
    "consulta_bool = {\n",
    "    \"bool\": {\n",
    "        \"should\": []\n",
    "    }\n",
    "}\n",
    "\n",
    "for indice, campo in enumerate(campos_busqueda):\n",
    "    for termino in terminos_busqueda:\n",
    "        if indice == 0:\n",
    "            consulta_bool[\"bool\"][\"should\"].append({\n",
    "                \"function_score\": {\n",
    "                    \"query\": {\n",
    "                        \"match\": {campo: termino}\n",
    "                    },\n",
    "                    \"functions\": [{\n",
    "                        \"field_value_factor\": {\n",
    "                            \"field\": campo,\n",
    "                            \"factor\": 2.0  # Peso mayor para el primer campo\n",
    "                        }\n",
    "                    }]\n",
    "                }\n",
    "            })\n",
    "        else:\n",
    "            consulta_bool[\"bool\"][\"should\"].append({\n",
    "                \"match\": {campo: termino}\n",
    "            })\n",
    "\n",
    "# Crea la consulta de búsqueda\n",
    "consulta = {\n",
    "    \"query\": consulta_bool\n",
    "}"
   ]
  },
  {
   "cell_type": "code",
   "execution_count": 177,
   "id": "33ca5350-b7d7-42fa-8e8b-92d20ef724e6",
   "metadata": {},
   "outputs": [
    {
     "data": {
      "application/json": {
       "query": {
        "bool": {
         "should": [
          {
           "function_score": {
            "functions": [
             {
              "field_value_factor": {
               "factor": 2,
               "field": "campo1"
              }
             }
            ],
            "query": {
             "match": {
              "campo1": "término1"
             }
            }
           }
          },
          {
           "function_score": {
            "functions": [
             {
              "field_value_factor": {
               "factor": 2,
               "field": "campo1"
              }
             }
            ],
            "query": {
             "match": {
              "campo1": "término2"
             }
            }
           }
          },
          {
           "function_score": {
            "functions": [
             {
              "field_value_factor": {
               "factor": 2,
               "field": "campo1"
              }
             }
            ],
            "query": {
             "match": {
              "campo1": "término3"
             }
            }
           }
          },
          {
           "match": {
            "campo2": "término1"
           }
          },
          {
           "match": {
            "campo2": "término2"
           }
          },
          {
           "match": {
            "campo2": "término3"
           }
          },
          {
           "match": {
            "campo3": "término1"
           }
          },
          {
           "match": {
            "campo3": "término2"
           }
          },
          {
           "match": {
            "campo3": "término3"
           }
          }
         ]
        }
       }
      },
      "text/plain": [
       "<IPython.core.display.JSON object>"
      ]
     },
     "execution_count": 177,
     "metadata": {
      "application/json": {
       "expanded": false,
       "root": "root"
      }
     },
     "output_type": "execute_result"
    }
   ],
   "source": [
    "JSON(consulta)"
   ]
  },
  {
   "cell_type": "code",
   "execution_count": null,
   "id": "cf1d561f-761e-44a8-82a8-0ce58b65c82b",
   "metadata": {},
   "outputs": [],
   "source": [
    "        # if res[\"hits\"][\"hits\"][0][\"_score\"] > 180:\n",
    "        #     return True\n",
    "        # if res[\"hits\"][\"hits\"][0][\"_score\"] < 20:\n",
    "        #     return False\n",
    "\n",
    "        # return colav_similarity(rec['Title']       ,res[\"hits\"][\"hits\"][0][\"_source\"]['title'],\n",
    "        #                         rec['Source title'],res[\"hits\"][\"hits\"][0][\"_source\"][\"host_venue\"][\"display_name\"],\n",
    "        #                         rec['Year']        ,res[\"hits\"][\"hits\"][0][\"_source\"]['publication_year'],\n",
    "        #                         ratio_thold=95, partial_thold=95,low_thold=95)\n",
    "                    \n",
    "\n",
    "    # filtered_hits = []\n",
    "    # for i in res[\"hits\"][\"hits\"]:\n",
    "    #     if i[\"_score\"] >= th:\n",
    "    #         filtered_hits.append(i)\n",
    "    # if len(filtered_hits)==0:\n",
    "    #     return False\n",
    "    # else:\n",
    "    #     for i in res[\"hits\"][\"hits\"]:\n",
    "    #         if i[\"_score\"] >= 80:\n",
    "    #             filtered_hits.append(i)\n",
    "    #     if len(filtered_hits)==0:\n",
    "    #         return False\n",
    "    #     else:\n",
    "    #         return True\n",
    "        \n",
    "    # if res[\"hits\"][\"total\"][\"value\"] != 0:\n",
    "    #     # for i in range(len(res[\"hits\"][\"hits\"])):\n",
    "    #     #     if colav_similarity(parse_string(rec['Title'])       ,parse_string(res[\"hits\"][\"hits\"][i][\"_source\"]['title']),\n",
    "    #     #                             rec['Source title'],res[\"hits\"][\"hits\"][i][\"_source\"][\"host_venue\"][\"display_name\"],\n",
    "    #     #                             rec['Year']        ,res[\"hits\"][\"hits\"][i][\"_source\"]['publication_year']):\n",
    "    #     #         return True\n",
    "    #     # return False\n",
    "    #     res = search(rec['Title'],rec['Authors'],rec['Source title'],rec['Year'],0) #looking for positives without th\n",
    "    #     if res[\"hits\"][\"total\"][\"value\"] != 0:\n",
    "    #         oa_doi = get_oa_doi(res[\"hits\"][\"hits\"][0]).replace(\"https://doi.org/\",\"\").lower()\n",
    "    #         sc_doi = rec[\"DOI\"].lower()\n",
    "    #         if oa_doi == sc_doi:\n",
    "    #             return True\n",
    "    #         else:\n",
    "    #             return False              \n",
    "    # else:\n",
    "    #     return False\n",
    "    # for i in res[\"hits\"][\"hits\"]:\n",
    "    #     # if colav_similarity(parse_string(rec['Title'])       ,parse_string(res[\"hits\"][\"hits\"][0][\"_source\"]['title']),\n",
    "    #     #                         rec['Source title'],res[\"hits\"][\"hits\"][0][\"_source\"][\"host_venue\"][\"display_name\"],\n",
    "    #     #                         rec['Year']        ,res[\"hits\"][\"hits\"][0][\"_source\"]['publication_year']):\n",
    "    #     #     return True\n",
    "    #     if int(rec['Year']) == int(res[\"hits\"][\"hits\"][0][\"_source\"]['publication_year']) and fuzz.partial_ratio(unidecode(rec['Source title'].lower()),unidecode(res[\"hits\"][\"hits\"][0][\"_source\"][\"host_venue\"][\"display_name\"].lower()))>90:\n",
    "    #         return True\n",
    "            \n",
    "    # return False\n"
   ]
  },
  {
   "cell_type": "code",
   "execution_count": 29,
   "id": "2ccddc01-d2e7-499d-b2ad-76f7ac571262",
   "metadata": {},
   "outputs": [
    {
     "data": {
      "text/plain": [
       "[1, 2, 3, 4, 'a', 'sfd', 'flksdjf']"
      ]
     },
     "execution_count": 29,
     "metadata": {},
     "output_type": "execute_result"
    }
   ],
   "source": [
    "a=[1,2,3,4,\"a\",\"sfd\",\"flksdjf\"]\n",
    "a"
   ]
  },
  {
   "cell_type": "code",
   "execution_count": 30,
   "id": "30ffc0d9-b8ac-4575-a109-e225c4eb41a6",
   "metadata": {},
   "outputs": [
    {
     "data": {
      "text/plain": [
       "[1, 2, 3, 4, 'a', 'flksdjf']"
      ]
     },
     "execution_count": 30,
     "metadata": {},
     "output_type": "execute_result"
    }
   ],
   "source": [
    "a.remove(\"sfd\")\n",
    "a"
   ]
  },
  {
   "cell_type": "code",
   "execution_count": null,
   "id": "304e3675-4858-46af-87ee-929169ddb00e",
   "metadata": {},
   "outputs": [],
   "source": []
  }
 ],
 "metadata": {
  "kernelspec": {
   "display_name": "Python 3 (ipykernel)",
   "language": "python",
   "name": "python3"
  },
  "language_info": {
   "codemirror_mode": {
    "name": "ipython",
    "version": 3
   },
   "file_extension": ".py",
   "mimetype": "text/x-python",
   "name": "python",
   "nbconvert_exporter": "python",
   "pygments_lexer": "ipython3",
   "version": "3.11.4"
  }
 },
 "nbformat": 4,
 "nbformat_minor": 5
}
