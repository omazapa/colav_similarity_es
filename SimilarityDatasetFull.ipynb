{
 "cells": [
  {
   "cell_type": "code",
   "execution_count": 1,
   "id": "397a29b6-8983-4871-9831-3cd6ba0b1d10",
   "metadata": {},
   "outputs": [],
   "source": [
    "from pymongo import MongoClient\n",
    "from elasticsearch import Elasticsearch, helpers\n",
    "import requests\n",
    "from IPython.display import JSON\n",
    "import numpy as np\n",
    "from fuzzywuzzy import fuzz\n",
    "from joblib import Parallel, delayed\n",
    "import pickle\n",
    "from IPython.display import clear_output, display\n",
    "from unidecode import unidecode\n",
    "import re"
   ]
  },
  {
   "cell_type": "code",
   "execution_count": 2,
   "id": "b474578c-e2ba-4e1b-8b19-8a4b114a1b3a",
   "metadata": {},
   "outputs": [],
   "source": [
    "def parse_doi(doi:str):\n",
    "    return re.sub(r'https*\\:\\/\\/[\\w\\.]+\\/','',doi.lower())\n",
    "\n",
    "def paser_string(string:str):\n",
    "    data = str(string).lower()\n",
    "    data = unidecode(data)\n",
    "    data = re.sub(r'<[^>]+>','',data)\n",
    "    return data"
   ]
  },
  {
   "cell_type": "code",
   "execution_count": null,
   "id": "06831d6f-2ee0-4bd5-988a-53aef382911b",
   "metadata": {},
   "outputs": [],
   "source": []
  },
  {
   "cell_type": "code",
   "execution_count": 3,
   "id": "cdb66740-830e-4db3-8027-f62fac152ce5",
   "metadata": {},
   "outputs": [],
   "source": [
    "scopus = list(MongoClient()[\"scopus_colombia\"][\"stage\"].find({'DOI': {\"$ne\": np.nan}},\n",
    "                                                             {\"_id\":0,'Title':1,'Year':1, \n",
    "                                                              'Source title':1,'Authors':1,\"DOI\":1,\n",
    "                                                             \"Volume\":1, \"Issue\":1, \"Page start\":1, \"Page end\":1}))\n",
    "openalex = list(MongoClient()[\"openalexco\"][\"works\"].find({'doi': {\"$ne\": None}},{\"_id\":0,\"doi\":1}))"
   ]
  },
  {
   "cell_type": "code",
   "execution_count": 4,
   "id": "c943464b-fb22-459d-914c-282f16cf10ae",
   "metadata": {},
   "outputs": [
    {
     "data": {
      "application/json": {
       "doi": "https://doi.org/10.1000/riec.v1i1.1"
      },
      "text/plain": [
       "<IPython.core.display.JSON object>"
      ]
     },
     "execution_count": 4,
     "metadata": {
      "application/json": {
       "expanded": false,
       "root": "root"
      }
     },
     "output_type": "execute_result"
    }
   ],
   "source": [
    "JSON(openalex[0])"
   ]
  },
  {
   "cell_type": "code",
   "execution_count": 5,
   "id": "af1b0dd4-6910-4891-9af4-fb40629babcb",
   "metadata": {},
   "outputs": [
    {
     "data": {
      "text/plain": [
       "203863"
      ]
     },
     "execution_count": 5,
     "metadata": {},
     "output_type": "execute_result"
    }
   ],
   "source": [
    "len(openalex)"
   ]
  },
  {
   "cell_type": "code",
   "execution_count": 6,
   "id": "21db4847-51f8-4890-9d7f-e4868d2be372",
   "metadata": {},
   "outputs": [
    {
     "data": {
      "text/plain": [
       "143369"
      ]
     },
     "execution_count": 6,
     "metadata": {},
     "output_type": "execute_result"
    }
   ],
   "source": [
    "len(scopus)"
   ]
  },
  {
   "cell_type": "code",
   "execution_count": 8,
   "id": "a455bf04-4f67-4abd-b91d-3f882723cf95",
   "metadata": {},
   "outputs": [
    {
     "name": "stderr",
     "output_type": "stream",
     "text": [
      "[Parallel(n_jobs=72)]: Using backend MultiprocessingBackend with 72 concurrent workers.\n",
      "[Parallel(n_jobs=72)]: Done  18 tasks      | elapsed:    0.1s\n",
      "[Parallel(n_jobs=72)]: Done 176 tasks      | elapsed:    1.2s\n",
      "[Parallel(n_jobs=72)]: Done 542 tasks      | elapsed:    3.1s\n",
      "[Parallel(n_jobs=72)]: Done 1296 tasks      | elapsed:    6.1s\n",
      "[Parallel(n_jobs=72)]: Done 1729 tasks      | elapsed:    7.4s\n",
      "[Parallel(n_jobs=72)]: Done 2302 tasks      | elapsed:    9.3s\n",
      "[Parallel(n_jobs=72)]: Done 2801 tasks      | elapsed:   11.3s\n",
      "[Parallel(n_jobs=72)]: Done 3219 tasks      | elapsed:   12.2s\n",
      "[Parallel(n_jobs=72)]: Done 3876 tasks      | elapsed:   13.9s\n",
      "[Parallel(n_jobs=72)]: Done 4914 tasks      | elapsed:   17.7s\n",
      "[Parallel(n_jobs=72)]: Done 5790 tasks      | elapsed:   19.4s\n",
      "[Parallel(n_jobs=72)]: Done 6768 tasks      | elapsed:   22.3s\n",
      "[Parallel(n_jobs=72)]: Done 7812 tasks      | elapsed:   25.6s\n",
      "[Parallel(n_jobs=72)]: Done 8776 tasks      | elapsed:   29.8s\n",
      "[Parallel(n_jobs=72)]: Done 9378 tasks      | elapsed:   33.8s\n",
      "[Parallel(n_jobs=72)]: Done 10008 tasks      | elapsed:   38.2s\n",
      "[Parallel(n_jobs=72)]: Done 10674 tasks      | elapsed:   40.6s\n",
      "[Parallel(n_jobs=72)]: Done 11376 tasks      | elapsed:   43.3s\n",
      "[Parallel(n_jobs=72)]: Done 12114 tasks      | elapsed:   45.9s\n",
      "[Parallel(n_jobs=72)]: Done 12888 tasks      | elapsed:   48.5s\n",
      "[Parallel(n_jobs=72)]: Done 13698 tasks      | elapsed:   50.8s\n",
      "[Parallel(n_jobs=72)]: Done 14544 tasks      | elapsed:   53.2s\n",
      "[Parallel(n_jobs=72)]: Done 15426 tasks      | elapsed:   55.9s\n",
      "[Parallel(n_jobs=72)]: Done 16344 tasks      | elapsed:   59.0s\n",
      "[Parallel(n_jobs=72)]: Done 17298 tasks      | elapsed:  1.0min\n",
      "[Parallel(n_jobs=72)]: Done 18288 tasks      | elapsed:  1.1min\n",
      "[Parallel(n_jobs=72)]: Done 19314 tasks      | elapsed:  1.2min\n",
      "[Parallel(n_jobs=72)]: Done 20376 tasks      | elapsed:  1.3min\n",
      "[Parallel(n_jobs=72)]: Done 21474 tasks      | elapsed:  1.3min\n",
      "[Parallel(n_jobs=72)]: Done 22608 tasks      | elapsed:  1.4min\n",
      "[Parallel(n_jobs=72)]: Done 23778 tasks      | elapsed:  1.5min\n",
      "[Parallel(n_jobs=72)]: Done 24984 tasks      | elapsed:  1.5min\n",
      "[Parallel(n_jobs=72)]: Done 26226 tasks      | elapsed:  1.6min\n",
      "[Parallel(n_jobs=72)]: Done 27504 tasks      | elapsed:  1.7min\n",
      "[Parallel(n_jobs=72)]: Done 28818 tasks      | elapsed:  1.8min\n",
      "[Parallel(n_jobs=72)]: Done 30168 tasks      | elapsed:  1.9min\n",
      "[Parallel(n_jobs=72)]: Done 31554 tasks      | elapsed:  2.0min\n",
      "[Parallel(n_jobs=72)]: Done 32976 tasks      | elapsed:  2.1min\n",
      "[Parallel(n_jobs=72)]: Done 34434 tasks      | elapsed:  2.2min\n",
      "[Parallel(n_jobs=72)]: Done 35928 tasks      | elapsed:  2.3min\n",
      "[Parallel(n_jobs=72)]: Done 37458 tasks      | elapsed:  2.4min\n",
      "[Parallel(n_jobs=72)]: Done 39024 tasks      | elapsed:  2.5min\n",
      "[Parallel(n_jobs=72)]: Done 40626 tasks      | elapsed:  2.7min\n",
      "[Parallel(n_jobs=72)]: Done 42264 tasks      | elapsed:  2.8min\n",
      "[Parallel(n_jobs=72)]: Done 43938 tasks      | elapsed:  2.9min\n",
      "[Parallel(n_jobs=72)]: Done 45648 tasks      | elapsed:  3.1min\n",
      "[Parallel(n_jobs=72)]: Done 47394 tasks      | elapsed:  3.3min\n",
      "[Parallel(n_jobs=72)]: Done 49176 tasks      | elapsed:  3.5min\n",
      "[Parallel(n_jobs=72)]: Done 50994 tasks      | elapsed:  3.7min\n",
      "[Parallel(n_jobs=72)]: Done 52848 tasks      | elapsed:  3.9min\n",
      "[Parallel(n_jobs=72)]: Done 54738 tasks      | elapsed:  4.2min\n",
      "[Parallel(n_jobs=72)]: Done 56664 tasks      | elapsed:  4.5min\n",
      "[Parallel(n_jobs=72)]: Done 58626 tasks      | elapsed:  4.7min\n",
      "[Parallel(n_jobs=72)]: Done 60624 tasks      | elapsed:  4.9min\n",
      "[Parallel(n_jobs=72)]: Done 62658 tasks      | elapsed:  5.2min\n",
      "[Parallel(n_jobs=72)]: Done 64728 tasks      | elapsed:  5.5min\n",
      "[Parallel(n_jobs=72)]: Done 66834 tasks      | elapsed:  5.8min\n",
      "[Parallel(n_jobs=72)]: Done 68976 tasks      | elapsed:  6.1min\n",
      "[Parallel(n_jobs=72)]: Done 71154 tasks      | elapsed:  6.4min\n",
      "[Parallel(n_jobs=72)]: Done 73368 tasks      | elapsed:  6.6min\n",
      "[Parallel(n_jobs=72)]: Done 75618 tasks      | elapsed:  6.9min\n",
      "[Parallel(n_jobs=72)]: Done 77904 tasks      | elapsed:  7.2min\n",
      "[Parallel(n_jobs=72)]: Done 80226 tasks      | elapsed:  7.5min\n",
      "[Parallel(n_jobs=72)]: Done 82584 tasks      | elapsed:  7.8min\n",
      "[Parallel(n_jobs=72)]: Done 84978 tasks      | elapsed:  8.1min\n",
      "[Parallel(n_jobs=72)]: Done 87408 tasks      | elapsed:  8.5min\n",
      "[Parallel(n_jobs=72)]: Done 89874 tasks      | elapsed:  8.8min\n",
      "[Parallel(n_jobs=72)]: Done 92376 tasks      | elapsed:  9.2min\n",
      "[Parallel(n_jobs=72)]: Done 94914 tasks      | elapsed:  9.5min\n",
      "[Parallel(n_jobs=72)]: Done 97488 tasks      | elapsed:  9.9min\n",
      "[Parallel(n_jobs=72)]: Done 100098 tasks      | elapsed: 10.3min\n",
      "[Parallel(n_jobs=72)]: Done 102744 tasks      | elapsed: 10.7min\n",
      "[Parallel(n_jobs=72)]: Done 105426 tasks      | elapsed: 11.1min\n",
      "[Parallel(n_jobs=72)]: Done 108144 tasks      | elapsed: 11.5min\n",
      "[Parallel(n_jobs=72)]: Done 110898 tasks      | elapsed: 11.9min\n",
      "[Parallel(n_jobs=72)]: Done 113688 tasks      | elapsed: 12.4min\n",
      "[Parallel(n_jobs=72)]: Done 116514 tasks      | elapsed: 12.8min\n",
      "[Parallel(n_jobs=72)]: Done 119376 tasks      | elapsed: 13.4min\n",
      "[Parallel(n_jobs=72)]: Done 122274 tasks      | elapsed: 14.0min\n",
      "[Parallel(n_jobs=72)]: Done 125208 tasks      | elapsed: 14.6min\n",
      "[Parallel(n_jobs=72)]: Done 128178 tasks      | elapsed: 15.2min\n",
      "[Parallel(n_jobs=72)]: Done 131184 tasks      | elapsed: 15.9min\n",
      "[Parallel(n_jobs=72)]: Done 134226 tasks      | elapsed: 16.6min\n",
      "[Parallel(n_jobs=72)]: Done 137304 tasks      | elapsed: 17.3min\n",
      "[Parallel(n_jobs=72)]: Done 140418 tasks      | elapsed: 18.0min\n"
     ]
    },
    {
     "name": "stdout",
     "output_type": "stream",
     "text": [
      "CPU times: user 3min 48s, sys: 1min 30s, total: 5min 18s\n",
      "Wall time: 18min 40s\n"
     ]
    },
    {
     "name": "stderr",
     "output_type": "stream",
     "text": [
      "[Parallel(n_jobs=72)]: Done 143369 out of 143369 | elapsed: 18.7min finished\n"
     ]
    }
   ],
   "source": [
    "%%time\n",
    "#positives\n",
    "def get_p(i):    \n",
    "    for j in openalex:\n",
    "        if parse_doi(i[\"DOI\"]) ==  parse_doi(j['doi']):\n",
    "            return i\n",
    "p = Parallel(n_jobs=72,backend='multiprocessing',verbose=5)(delayed(get_p)(rec) for rec in scopus)\n"
   ]
  },
  {
   "cell_type": "code",
   "execution_count": 9,
   "id": "6d793998-19ff-4f7f-8b1c-4c41f41041af",
   "metadata": {},
   "outputs": [
    {
     "data": {
      "text/plain": [
       "41596"
      ]
     },
     "execution_count": 9,
     "metadata": {},
     "output_type": "execute_result"
    }
   ],
   "source": [
    "p.count(None)"
   ]
  },
  {
   "cell_type": "code",
   "execution_count": 10,
   "id": "178a5962-6f6e-4d08-99f3-bb967b74fdab",
   "metadata": {},
   "outputs": [],
   "source": [
    "p=[i for i in p if i is not None ]"
   ]
  },
  {
   "cell_type": "code",
   "execution_count": 11,
   "id": "4867cc6c-f86a-427a-b719-c989f7837a67",
   "metadata": {},
   "outputs": [
    {
     "data": {
      "text/plain": [
       "{'Authors': 'Jaramillo-Ayerbe F., Berrío-Muñoz J.',\n",
       " 'Title': 'Ivermectin for crusted Norwegian scabies induced by use of topical steroids',\n",
       " 'Year': 1998,\n",
       " 'Source title': 'Archives of Dermatology',\n",
       " 'Volume': '134',\n",
       " 'Issue': '2',\n",
       " 'Page start': '143',\n",
       " 'Page end': '145',\n",
       " 'DOI': '10.1001/archderm.134.2.143'}"
      ]
     },
     "execution_count": 11,
     "metadata": {},
     "output_type": "execute_result"
    }
   ],
   "source": [
    "p[0]"
   ]
  },
  {
   "cell_type": "code",
   "execution_count": 12,
   "id": "cb55e348-f223-40d0-b133-909f720a3d9b",
   "metadata": {},
   "outputs": [],
   "source": [
    "#los que no tienen un doi en oa, osea los que no están en p_dois\n",
    "\n",
    "p_dois = [i[\"DOI\"] for i in p]"
   ]
  },
  {
   "cell_type": "code",
   "execution_count": 13,
   "id": "43b99298-dcc0-4f1b-8a31-9c9fcf37ce0e",
   "metadata": {},
   "outputs": [
    {
     "data": {
      "text/plain": [
       "101773"
      ]
     },
     "execution_count": 13,
     "metadata": {},
     "output_type": "execute_result"
    }
   ],
   "source": [
    "len(p_dois)"
   ]
  },
  {
   "cell_type": "code",
   "execution_count": 14,
   "id": "0e8c542f-48c6-4b57-93ad-0381f545eff7",
   "metadata": {},
   "outputs": [
    {
     "name": "stdout",
     "output_type": "stream",
     "text": [
      "41590\n",
      "CPU times: user 2min 36s, sys: 2.58 s, total: 2min 39s\n",
      "Wall time: 2min 36s\n"
     ]
    }
   ],
   "source": [
    "%%time\n",
    "#negatives\n",
    "n=[]\n",
    "counter=0\n",
    "n_dois = []\n",
    "for i in scopus:\n",
    "    if i[\"DOI\"] not in p_dois:\n",
    "        n.append(i)\n",
    "        counter+=1\n",
    "        if counter %10 == 0:\n",
    "            clear_output(wait=True)\n",
    "            print(counter)"
   ]
  },
  {
   "cell_type": "code",
   "execution_count": null,
   "id": "0ff798e7-c33b-4adf-b024-50898e37e486",
   "metadata": {},
   "outputs": [],
   "source": [
    "\n"
   ]
  },
  {
   "cell_type": "code",
   "execution_count": 15,
   "id": "f6ee3925-c66c-4349-bf1e-c007d28c6fad",
   "metadata": {},
   "outputs": [
    {
     "data": {
      "text/plain": [
       "101773"
      ]
     },
     "execution_count": 15,
     "metadata": {},
     "output_type": "execute_result"
    }
   ],
   "source": [
    "len(p)"
   ]
  },
  {
   "cell_type": "code",
   "execution_count": 16,
   "id": "3567565f-36b5-4608-aaf4-02511d58d269",
   "metadata": {},
   "outputs": [
    {
     "data": {
      "text/plain": [
       "41596"
      ]
     },
     "execution_count": 16,
     "metadata": {},
     "output_type": "execute_result"
    }
   ],
   "source": [
    "len(n)"
   ]
  },
  {
   "cell_type": "code",
   "execution_count": 17,
   "id": "594ac996-2411-4d3d-970b-574021b0b64b",
   "metadata": {},
   "outputs": [
    {
     "data": {
      "text/plain": [
       "143369"
      ]
     },
     "execution_count": 17,
     "metadata": {},
     "output_type": "execute_result"
    }
   ],
   "source": [
    "len(scopus)"
   ]
  },
  {
   "cell_type": "code",
   "execution_count": 18,
   "id": "8306e6db-e3e1-4899-aa7d-9508b590ac40",
   "metadata": {},
   "outputs": [
    {
     "data": {
      "text/plain": [
       "143369"
      ]
     },
     "execution_count": 18,
     "metadata": {},
     "output_type": "execute_result"
    }
   ],
   "source": [
    "len(p)+len(n)"
   ]
  },
  {
   "cell_type": "code",
   "execution_count": null,
   "id": "655d1d8e-8108-4584-b6d8-86435f298a07",
   "metadata": {},
   "outputs": [],
   "source": []
  },
  {
   "cell_type": "code",
   "execution_count": 19,
   "id": "56e20ddf-e6d9-4a61-a2c4-4e5f5b7d0359",
   "metadata": {},
   "outputs": [],
   "source": [
    "with open('dataset_full.pkl', 'wb') as f:\n",
    "    pickle.dump({\"p\":p,\"n\":n}, f)"
   ]
  },
  {
   "cell_type": "code",
   "execution_count": null,
   "id": "445ddcb7-74ad-4bbd-81d6-08ce2e9abead",
   "metadata": {},
   "outputs": [],
   "source": []
  }
 ],
 "metadata": {
  "kernelspec": {
   "display_name": "Python 3 (ipykernel)",
   "language": "python",
   "name": "python3"
  },
  "language_info": {
   "codemirror_mode": {
    "name": "ipython",
    "version": 3
   },
   "file_extension": ".py",
   "mimetype": "text/x-python",
   "name": "python",
   "nbconvert_exporter": "python",
   "pygments_lexer": "ipython3",
   "version": "3.9.2"
  }
 },
 "nbformat": 4,
 "nbformat_minor": 5
}
