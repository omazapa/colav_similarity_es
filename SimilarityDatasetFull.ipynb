{
 "cells": [
  {
   "cell_type": "code",
   "execution_count": 1,
   "id": "397a29b6-8983-4871-9831-3cd6ba0b1d10",
   "metadata": {},
   "outputs": [],
   "source": [
    "from pymongo import MongoClient\n",
    "from elasticsearch import Elasticsearch, helpers\n",
    "import requests\n",
    "from IPython.display import JSON\n",
    "import numpy as np\n",
    "from fuzzywuzzy import fuzz\n",
    "from joblib import Parallel, delayed\n",
    "import pickle\n",
    "from IPython.display import clear_output, display\n",
    "from unidecode import unidecode\n",
    "import re"
   ]
  },
  {
   "cell_type": "code",
   "execution_count": 2,
   "id": "b474578c-e2ba-4e1b-8b19-8a4b114a1b3a",
   "metadata": {},
   "outputs": [],
   "source": [
    "def parse_doi(doi:str):\n",
    "    return re.sub(r'https*\\:\\/\\/[\\w\\.]+\\/','',doi.lower())\n",
    "\n",
    "def paser_string(string:str):\n",
    "    data = str(string).lower()\n",
    "    data = unidecode(data)\n",
    "    data = re.sub(r'<[^>]+>','',data)\n",
    "    return data"
   ]
  },
  {
   "cell_type": "code",
   "execution_count": null,
   "id": "06831d6f-2ee0-4bd5-988a-53aef382911b",
   "metadata": {},
   "outputs": [],
   "source": []
  },
  {
   "cell_type": "code",
   "execution_count": 3,
   "id": "cdb66740-830e-4db3-8027-f62fac152ce5",
   "metadata": {},
   "outputs": [],
   "source": [
    "scopus = list(MongoClient()[\"scopus_colombia\"][\"stage\"].find({'DOI': {\"$ne\": np.nan}},\n",
    "                                                             {\"_id\":0,'Title':1,'Year':1, \n",
    "                                                              'Source title':1,'Authors':1,\"DOI\":1,\n",
    "                                                             \"Volume\":1, \"Issue\":1, \"Page start\":1, \"Page end\":1}))\n",
    "openalex = list(MongoClient()[\"openalexco\"][\"works\"].find({'doi': {\"$ne\": None}},{\"_id\":0,\"doi\":1}))"
   ]
  },
  {
   "cell_type": "code",
   "execution_count": 4,
   "id": "c943464b-fb22-459d-914c-282f16cf10ae",
   "metadata": {},
   "outputs": [
    {
     "data": {
      "application/json": {
       "doi": "https://doi.org/10.1000/riec.v1i1.1"
      },
      "text/plain": [
       "<IPython.core.display.JSON object>"
      ]
     },
     "execution_count": 4,
     "metadata": {
      "application/json": {
       "expanded": false,
       "root": "root"
      }
     },
     "output_type": "execute_result"
    }
   ],
   "source": [
    "JSON(openalex[0])"
   ]
  },
  {
   "cell_type": "code",
   "execution_count": 5,
   "id": "af1b0dd4-6910-4891-9af4-fb40629babcb",
   "metadata": {},
   "outputs": [
    {
     "data": {
      "text/plain": [
       "203863"
      ]
     },
     "execution_count": 5,
     "metadata": {},
     "output_type": "execute_result"
    }
   ],
   "source": [
    "len(openalex)"
   ]
  },
  {
   "cell_type": "code",
   "execution_count": 6,
   "id": "21db4847-51f8-4890-9d7f-e4868d2be372",
   "metadata": {},
   "outputs": [
    {
     "data": {
      "text/plain": [
       "143369"
      ]
     },
     "execution_count": 6,
     "metadata": {},
     "output_type": "execute_result"
    }
   ],
   "source": [
    "len(scopus)"
   ]
  },
  {
   "cell_type": "code",
   "execution_count": 7,
   "id": "a455bf04-4f67-4abd-b91d-3f882723cf95",
   "metadata": {},
   "outputs": [
    {
     "name": "stderr",
     "output_type": "stream",
     "text": [
      "[Parallel(n_jobs=20)]: Using backend MultiprocessingBackend with 20 concurrent workers.\n",
      "[Parallel(n_jobs=20)]: Done  33 tasks      | elapsed:    5.9s\n",
      "[Parallel(n_jobs=20)]: Done 157 tasks      | elapsed:   15.5s\n",
      "[Parallel(n_jobs=20)]: Done 288 tasks      | elapsed:   23.3s\n",
      "[Parallel(n_jobs=20)]: Done 492 tasks      | elapsed:   33.0s\n",
      "[Parallel(n_jobs=20)]: Done 725 tasks      | elapsed:   40.9s\n",
      "[Parallel(n_jobs=20)]: Done 962 tasks      | elapsed:   55.2s\n",
      "[Parallel(n_jobs=20)]: Done 1380 tasks      | elapsed:  1.2min\n",
      "[Parallel(n_jobs=20)]: Done 1698 tasks      | elapsed:  1.3min\n",
      "[Parallel(n_jobs=20)]: Done 2040 tasks      | elapsed:  1.5min\n",
      "[Parallel(n_jobs=20)]: Done 2418 tasks      | elapsed:  1.8min\n",
      "[Parallel(n_jobs=20)]: Done 2832 tasks      | elapsed:  2.0min\n",
      "[Parallel(n_jobs=20)]: Done 3282 tasks      | elapsed:  2.2min\n",
      "[Parallel(n_jobs=20)]: Done 3768 tasks      | elapsed:  2.5min\n",
      "[Parallel(n_jobs=20)]: Done 4290 tasks      | elapsed:  2.8min\n",
      "[Parallel(n_jobs=20)]: Done 4848 tasks      | elapsed:  3.2min\n",
      "[Parallel(n_jobs=20)]: Done 5442 tasks      | elapsed:  3.4min\n",
      "[Parallel(n_jobs=20)]: Done 6072 tasks      | elapsed:  3.6min\n",
      "[Parallel(n_jobs=20)]: Done 6738 tasks      | elapsed:  4.0min\n",
      "[Parallel(n_jobs=20)]: Done 7440 tasks      | elapsed:  4.4min\n",
      "[Parallel(n_jobs=20)]: Done 8178 tasks      | elapsed:  4.9min\n",
      "[Parallel(n_jobs=20)]: Done 8952 tasks      | elapsed:  5.5min\n",
      "[Parallel(n_jobs=20)]: Done 9762 tasks      | elapsed:  6.5min\n",
      "[Parallel(n_jobs=20)]: Done 10608 tasks      | elapsed:  7.2min\n",
      "[Parallel(n_jobs=20)]: Done 11490 tasks      | elapsed:  7.8min\n",
      "[Parallel(n_jobs=20)]: Done 12408 tasks      | elapsed:  8.4min\n",
      "[Parallel(n_jobs=20)]: Done 13362 tasks      | elapsed:  8.9min\n",
      "[Parallel(n_jobs=20)]: Done 14352 tasks      | elapsed:  9.4min\n",
      "[Parallel(n_jobs=20)]: Done 15378 tasks      | elapsed:  9.9min\n",
      "[Parallel(n_jobs=20)]: Done 16440 tasks      | elapsed: 10.6min\n",
      "[Parallel(n_jobs=20)]: Done 17538 tasks      | elapsed: 11.3min\n",
      "[Parallel(n_jobs=20)]: Done 18672 tasks      | elapsed: 12.5min\n",
      "[Parallel(n_jobs=20)]: Done 19842 tasks      | elapsed: 13.5min\n",
      "[Parallel(n_jobs=20)]: Done 21048 tasks      | elapsed: 14.2min\n",
      "[Parallel(n_jobs=20)]: Done 22290 tasks      | elapsed: 15.0min\n",
      "[Parallel(n_jobs=20)]: Done 23568 tasks      | elapsed: 15.8min\n",
      "[Parallel(n_jobs=20)]: Done 24882 tasks      | elapsed: 16.7min\n",
      "[Parallel(n_jobs=20)]: Done 26232 tasks      | elapsed: 17.5min\n",
      "[Parallel(n_jobs=20)]: Done 27618 tasks      | elapsed: 18.4min\n",
      "[Parallel(n_jobs=20)]: Done 29040 tasks      | elapsed: 19.4min\n",
      "[Parallel(n_jobs=20)]: Done 30498 tasks      | elapsed: 20.5min\n",
      "[Parallel(n_jobs=20)]: Done 31992 tasks      | elapsed: 21.5min\n",
      "[Parallel(n_jobs=20)]: Done 33522 tasks      | elapsed: 22.7min\n",
      "[Parallel(n_jobs=20)]: Done 35088 tasks      | elapsed: 23.7min\n",
      "[Parallel(n_jobs=20)]: Done 36690 tasks      | elapsed: 25.1min\n",
      "[Parallel(n_jobs=20)]: Done 38328 tasks      | elapsed: 26.6min\n",
      "[Parallel(n_jobs=20)]: Done 40002 tasks      | elapsed: 28.3min\n",
      "[Parallel(n_jobs=20)]: Done 41712 tasks      | elapsed: 29.6min\n",
      "[Parallel(n_jobs=20)]: Done 43458 tasks      | elapsed: 31.0min\n",
      "[Parallel(n_jobs=20)]: Done 45240 tasks      | elapsed: 32.8min\n",
      "[Parallel(n_jobs=20)]: Done 47058 tasks      | elapsed: 34.8min\n",
      "[Parallel(n_jobs=20)]: Done 48912 tasks      | elapsed: 37.5min\n",
      "[Parallel(n_jobs=20)]: Done 50802 tasks      | elapsed: 39.7min\n",
      "[Parallel(n_jobs=20)]: Done 52728 tasks      | elapsed: 42.3min\n",
      "[Parallel(n_jobs=20)]: Done 54690 tasks      | elapsed: 44.9min\n",
      "[Parallel(n_jobs=20)]: Done 56688 tasks      | elapsed: 48.1min\n",
      "[Parallel(n_jobs=20)]: Done 58722 tasks      | elapsed: 50.5min\n",
      "[Parallel(n_jobs=20)]: Done 60792 tasks      | elapsed: 53.3min\n",
      "[Parallel(n_jobs=20)]: Done 62898 tasks      | elapsed: 56.5min\n",
      "[Parallel(n_jobs=20)]: Done 65040 tasks      | elapsed: 59.4min\n",
      "[Parallel(n_jobs=20)]: Done 67218 tasks      | elapsed: 62.6min\n",
      "[Parallel(n_jobs=20)]: Done 69432 tasks      | elapsed: 65.6min\n",
      "[Parallel(n_jobs=20)]: Done 71682 tasks      | elapsed: 68.7min\n",
      "[Parallel(n_jobs=20)]: Done 73968 tasks      | elapsed: 71.4min\n",
      "[Parallel(n_jobs=20)]: Done 76290 tasks      | elapsed: 74.5min\n",
      "[Parallel(n_jobs=20)]: Done 78648 tasks      | elapsed: 77.7min\n",
      "[Parallel(n_jobs=20)]: Done 81042 tasks      | elapsed: 81.0min\n",
      "[Parallel(n_jobs=20)]: Done 83472 tasks      | elapsed: 84.2min\n",
      "[Parallel(n_jobs=20)]: Done 85938 tasks      | elapsed: 88.4min\n",
      "[Parallel(n_jobs=20)]: Done 88440 tasks      | elapsed: 92.5min\n",
      "[Parallel(n_jobs=20)]: Done 90978 tasks      | elapsed: 96.2min\n",
      "[Parallel(n_jobs=20)]: Done 93552 tasks      | elapsed: 99.9min\n",
      "[Parallel(n_jobs=20)]: Done 96162 tasks      | elapsed: 103.6min\n",
      "[Parallel(n_jobs=20)]: Done 98808 tasks      | elapsed: 107.8min\n",
      "[Parallel(n_jobs=20)]: Done 101490 tasks      | elapsed: 111.8min\n",
      "[Parallel(n_jobs=20)]: Done 104208 tasks      | elapsed: 116.0min\n",
      "[Parallel(n_jobs=20)]: Done 106962 tasks      | elapsed: 120.2min\n",
      "[Parallel(n_jobs=20)]: Done 109752 tasks      | elapsed: 124.7min\n",
      "[Parallel(n_jobs=20)]: Done 112578 tasks      | elapsed: 129.3min\n",
      "[Parallel(n_jobs=20)]: Done 115440 tasks      | elapsed: 134.5min\n",
      "[Parallel(n_jobs=20)]: Done 118338 tasks      | elapsed: 140.2min\n",
      "[Parallel(n_jobs=20)]: Done 121272 tasks      | elapsed: 146.1min\n",
      "[Parallel(n_jobs=20)]: Done 124242 tasks      | elapsed: 152.5min\n",
      "[Parallel(n_jobs=20)]: Done 127248 tasks      | elapsed: 159.2min\n",
      "[Parallel(n_jobs=20)]: Done 130290 tasks      | elapsed: 166.0min\n",
      "[Parallel(n_jobs=20)]: Done 133368 tasks      | elapsed: 173.1min\n",
      "[Parallel(n_jobs=20)]: Done 136482 tasks      | elapsed: 180.2min\n",
      "[Parallel(n_jobs=20)]: Done 139632 tasks      | elapsed: 187.6min\n",
      "[Parallel(n_jobs=20)]: Done 142818 tasks      | elapsed: 195.1min\n"
     ]
    },
    {
     "name": "stdout",
     "output_type": "stream",
     "text": [
      "CPU times: user 14min 55s, sys: 2min 12s, total: 17min 7s\n",
      "Wall time: 3h 16min 28s\n"
     ]
    },
    {
     "name": "stderr",
     "output_type": "stream",
     "text": [
      "[Parallel(n_jobs=20)]: Done 143369 out of 143369 | elapsed: 196.5min finished\n"
     ]
    }
   ],
   "source": [
    "%%time\n",
    "#positives\n",
    "def get_p(i):    \n",
    "    for j in openalex:\n",
    "        if parse_doi(i[\"DOI\"]) ==  parse_doi(j['doi']):\n",
    "            return i\n",
    "p = Parallel(n_jobs=20,backend='multiprocessing',verbose=5)(delayed(get_p)(rec) for rec in scopus)\n"
   ]
  },
  {
   "cell_type": "code",
   "execution_count": 8,
   "id": "6d793998-19ff-4f7f-8b1c-4c41f41041af",
   "metadata": {},
   "outputs": [
    {
     "data": {
      "text/plain": [
       "41596"
      ]
     },
     "execution_count": 8,
     "metadata": {},
     "output_type": "execute_result"
    }
   ],
   "source": [
    "p.count(None)"
   ]
  },
  {
   "cell_type": "code",
   "execution_count": 9,
   "id": "178a5962-6f6e-4d08-99f3-bb967b74fdab",
   "metadata": {},
   "outputs": [],
   "source": [
    "p=[i for i in p if i is not None ]"
   ]
  },
  {
   "cell_type": "code",
   "execution_count": 10,
   "id": "4867cc6c-f86a-427a-b719-c989f7837a67",
   "metadata": {},
   "outputs": [
    {
     "data": {
      "text/plain": [
       "{'Authors': 'Jaramillo-Ayerbe F., Berrío-Muñoz J.',\n",
       " 'Title': 'Ivermectin for crusted Norwegian scabies induced by use of topical steroids',\n",
       " 'Year': 1998,\n",
       " 'Source title': 'Archives of Dermatology',\n",
       " 'Volume': '134',\n",
       " 'Issue': '2',\n",
       " 'Page start': '143',\n",
       " 'Page end': '145',\n",
       " 'DOI': '10.1001/archderm.134.2.143'}"
      ]
     },
     "execution_count": 10,
     "metadata": {},
     "output_type": "execute_result"
    }
   ],
   "source": [
    "p[0]"
   ]
  },
  {
   "cell_type": "code",
   "execution_count": 11,
   "id": "cb55e348-f223-40d0-b133-909f720a3d9b",
   "metadata": {},
   "outputs": [],
   "source": [
    "#los que no tienen un doi en oa, osea los que no están en p_dois\n",
    "\n",
    "p_dois = [i[\"DOI\"] for i in p]"
   ]
  },
  {
   "cell_type": "code",
   "execution_count": 12,
   "id": "43b99298-dcc0-4f1b-8a31-9c9fcf37ce0e",
   "metadata": {},
   "outputs": [
    {
     "data": {
      "text/plain": [
       "101773"
      ]
     },
     "execution_count": 12,
     "metadata": {},
     "output_type": "execute_result"
    }
   ],
   "source": [
    "len(p_dois)"
   ]
  },
  {
   "cell_type": "code",
   "execution_count": 13,
   "id": "0e8c542f-48c6-4b57-93ad-0381f545eff7",
   "metadata": {},
   "outputs": [
    {
     "name": "stdout",
     "output_type": "stream",
     "text": [
      "41590\n",
      "CPU times: user 6min 27s, sys: 6.43 s, total: 6min 33s\n",
      "Wall time: 6min 29s\n"
     ]
    }
   ],
   "source": [
    "%%time\n",
    "#negatives\n",
    "n=[]\n",
    "counter=0\n",
    "n_dois = []\n",
    "for i in scopus:\n",
    "    if i[\"DOI\"] not in p_dois:\n",
    "        n.append(i)\n",
    "        counter+=1\n",
    "        if counter %10 == 0:\n",
    "            clear_output(wait=True)\n",
    "            print(counter)"
   ]
  },
  {
   "cell_type": "code",
   "execution_count": null,
   "id": "0ff798e7-c33b-4adf-b024-50898e37e486",
   "metadata": {},
   "outputs": [],
   "source": [
    "\n"
   ]
  },
  {
   "cell_type": "code",
   "execution_count": 14,
   "id": "f6ee3925-c66c-4349-bf1e-c007d28c6fad",
   "metadata": {},
   "outputs": [
    {
     "data": {
      "text/plain": [
       "101773"
      ]
     },
     "execution_count": 14,
     "metadata": {},
     "output_type": "execute_result"
    }
   ],
   "source": [
    "len(p)"
   ]
  },
  {
   "cell_type": "code",
   "execution_count": 15,
   "id": "3567565f-36b5-4608-aaf4-02511d58d269",
   "metadata": {},
   "outputs": [
    {
     "data": {
      "text/plain": [
       "41596"
      ]
     },
     "execution_count": 15,
     "metadata": {},
     "output_type": "execute_result"
    }
   ],
   "source": [
    "len(n)"
   ]
  },
  {
   "cell_type": "code",
   "execution_count": 16,
   "id": "594ac996-2411-4d3d-970b-574021b0b64b",
   "metadata": {},
   "outputs": [
    {
     "data": {
      "text/plain": [
       "143369"
      ]
     },
     "execution_count": 16,
     "metadata": {},
     "output_type": "execute_result"
    }
   ],
   "source": [
    "len(scopus)"
   ]
  },
  {
   "cell_type": "code",
   "execution_count": 17,
   "id": "8306e6db-e3e1-4899-aa7d-9508b590ac40",
   "metadata": {},
   "outputs": [
    {
     "data": {
      "text/plain": [
       "143369"
      ]
     },
     "execution_count": 17,
     "metadata": {},
     "output_type": "execute_result"
    }
   ],
   "source": [
    "len(p)+len(n)"
   ]
  },
  {
   "cell_type": "code",
   "execution_count": null,
   "id": "655d1d8e-8108-4584-b6d8-86435f298a07",
   "metadata": {},
   "outputs": [],
   "source": []
  },
  {
   "cell_type": "code",
   "execution_count": 18,
   "id": "56e20ddf-e6d9-4a61-a2c4-4e5f5b7d0359",
   "metadata": {},
   "outputs": [],
   "source": [
    "with open('dataset_full.pkl', 'wb') as f:\n",
    "    pickle.dump({\"p\":p,\"n\":n}, f)"
   ]
  },
  {
   "cell_type": "code",
   "execution_count": null,
   "id": "445ddcb7-74ad-4bbd-81d6-08ce2e9abead",
   "metadata": {},
   "outputs": [],
   "source": []
  }
 ],
 "metadata": {
  "kernelspec": {
   "display_name": "Python 3 (ipykernel)",
   "language": "python",
   "name": "python3"
  },
  "language_info": {
   "codemirror_mode": {
    "name": "ipython",
    "version": 3
   },
   "file_extension": ".py",
   "mimetype": "text/x-python",
   "name": "python",
   "nbconvert_exporter": "python",
   "pygments_lexer": "ipython3",
   "version": "3.11.4"
  }
 },
 "nbformat": 4,
 "nbformat_minor": 5
}
